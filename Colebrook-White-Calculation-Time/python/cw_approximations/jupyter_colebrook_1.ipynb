{
 "cells": [
  {
   "cell_type": "code",
   "execution_count": 1,
   "metadata": {},
   "outputs": [],
   "source": [
    "#compare functions"
   ]
  },
  {
   "cell_type": "code",
   "execution_count": 2,
   "metadata": {},
   "outputs": [],
   "source": [
    "import numpy as np\n",
    "import scipy as sp\n",
    "import pandas as pd\n",
    "import time \n",
    "from sklearn.metrics import mean_squared_error\n",
    "from sklearn.metrics import mean_absolute_error\n",
    "\n",
    "\n",
    "np.set_printoptions(precision=20)\n",
    "\n",
    "def fpowi(x,n): #custom positive integer power function n>=2\n",
    "    f=x*x\n",
    "    for i in range(n-2):\n",
    "        f=f*x\n",
    "    if n>0:\n",
    "        return f\n",
    "    if n<0:\n",
    "        return 1/f\n",
    "\n",
    "def fpowf(x,y): #custom float power function twice as fast\n",
    "    return np.exp(y*np.log(x)) "
   ]
  },
  {
   "cell_type": "code",
   "execution_count": null,
   "metadata": {},
   "outputs": [],
   "source": []
  },
  {
   "cell_type": "code",
   "execution_count": 3,
   "metadata": {},
   "outputs": [],
   "source": [
    "\n",
    "# Re=4000-1e8\n",
    "# eps/D=0-0.05\n",
    "\n",
    "def create_(N1,type_):\n",
    "    if type_==1:\n",
    "        xnorm_=np.arange(0,1+1/N1,1/N1)\n",
    "        xv, yv=np.meshgrid(xnorm_,xnorm_)\n",
    "        xy=np.column_stack((np.ndarray.flatten(xv),np.ndarray.flatten(yv)))\n",
    "    if type_==2:\n",
    "        xy=np.random.rand((N1+1)*(N1+1),2)\n",
    "        \n",
    "    xy[:,0]=4000*np.power(1e8/4000,xy[:,0]) #geometric series\n",
    "    #xy[:,0]=np.ones(len(xy))*4000+(1e8-4000)*xy[:,0] #arithmetic series\n",
    "    #xy[:,1]=0.05*xy[:,1] #arithmetic series\n",
    "    xy[:,1]=1e-6*np.power(0.05/1e-6,xy[:,1]) #geometric series\n",
    "    return xy\n",
    "\n",
    "\n",
    "def z_calc(xy,iter_):\n",
    "    z_=0.1*np.ones(len(xy))\n",
    "    y1=xy[:,1]/3.7\n",
    "    y2=2.51/xy[:,0]\n",
    "    for i in range(iter_):\n",
    "        y3=np.log(y2/np.sqrt(z_)+y1)\n",
    "        z_=1.3254745276195998/(y3*y3)  #0.25*ln(10)^2\n",
    "    return z_\n",
    "\n",
    "def z_err000(xy,z):\n",
    "    err_=1/np.sqrt(z_)+2*np.log10(2.51/(xy[:,0]*np.sqrt(z_))+xy[:,1]/3.7)\n",
    "    print('norm 2=',np.linalg.norm(err_))\n",
    "    print('max err=',np.amax(abs(err_)))\n",
    "    print('avg err=',np.ndarray.mean(abs(err_)))\n"
   ]
  },
  {
   "cell_type": "code",
   "execution_count": null,
   "metadata": {},
   "outputs": [],
   "source": []
  },
  {
   "cell_type": "code",
   "execution_count": 4,
   "metadata": {},
   "outputs": [
    {
     "name": "stdout",
     "output_type": "stream",
     "text": [
      "norm 2= 3.856600256273761e-12\n",
      "max err= 5.329070518200751e-15\n",
      "avg err= 9.329905517927098e-16\n",
      "time to create= 11.68 s\n"
     ]
    }
   ],
   "source": [
    "N1=3164-1\n",
    "#N1=1000-1\n",
    "#N1=317-1\n",
    "#N1=100-1\n",
    "#N1=32-1\n",
    "##N1=10-1\n",
    "\n",
    "#training data\n",
    "t0=time.time()\n",
    "\n",
    "xy=create_(N1,1)\n",
    "z_=z_calc(xy,30)\n",
    "\n",
    "z_err000(xy,z_)\n",
    "\n",
    "print('time to create=',round(time.time()-t0,2),'s')"
   ]
  },
  {
   "cell_type": "code",
   "execution_count": 10,
   "metadata": {},
   "outputs": [
    {
     "data": {
      "text/plain": [
       "(0.039908029446170674, 0.07155090409108328)"
      ]
     },
     "execution_count": 10,
     "metadata": {},
     "output_type": "execute_result"
    }
   ],
   "source": [
    "len(z_)\n",
    "z_[0],z_[len(z_)-1]\n",
    "#3164-1*3164-1\n",
    "#numpy  =   0.039908029446170674  0.07155090409108328\n",
    "#matlab =   0.039908029446171     0.071550904091083"
   ]
  },
  {
   "cell_type": "code",
   "execution_count": 5,
   "metadata": {},
   "outputs": [],
   "source": [
    "def err_(z_,z_hat,print_):\n",
    "    zz=np.abs(z_-z_hat)/z_\n",
    "    a1= np.max(zz)*100\n",
    "    a2= np.average(zz)*100\n",
    "    a3= np.sqrt(np.average(np.power(zz,2)))*100\n",
    "    if print_==1:\n",
    "        print('MaxRelErr=',a1,'%, MeanRelErr=',a2,'%, RootMeanSquRelErr=',a3,'%', sep='')\n",
    "    return [a1,a2,a3]\n",
    "\n",
    "def err_f(bb):\n",
    "    xy=bb[0]\n",
    "    z_=bb[1]\n",
    "    type_=bb[2]\n",
    "    z_hat=ff(xy,type_,0)\n",
    "    error_=np.average(np.power(abs(z_-z_hat)/z_,2))*100\n",
    "    return error_\n"
   ]
  },
  {
   "cell_type": "code",
   "execution_count": 6,
   "metadata": {},
   "outputs": [
    {
     "data": {
      "text/plain": [
       "-0.8685889638065035"
      ]
     },
     "execution_count": 6,
     "metadata": {},
     "output_type": "execute_result"
    }
   ],
   "source": [
    "-2/np.log(10)"
   ]
  },
  {
   "cell_type": "code",
   "execution_count": 7,
   "metadata": {},
   "outputs": [],
   "source": [
    "#comparing methods\n",
    "\n",
    "def ff(xy,type_,print_):\n",
    "    Re=xy[:,0]\n",
    "    epsD=xy[:,1]\n",
    "    name_=''\n",
    "    \n",
    "    counter_=0;\n",
    "    \n",
    "    f=np.zeros(len(xy))\n",
    " \n",
    "\n",
    "\n",
    "    #0\n",
    "    if type_==counter_:\n",
    "        name_='colebrook white-accepted design formula (5 iter)'\n",
    "        f=0.01\n",
    "        y1=epsD/3.7\n",
    "        y2=2.51/Re\n",
    "        #-0.8685889638065035=-2/np.log(10)\n",
    "        for i in range(2):\n",
    "            f=fpowi(-0.8685889638065035*np.log(y1+y2/np.sqrt(f)),-2)\n",
    "\n",
    "    #1   \n",
    "    counter_+=1\n",
    "    if type_==counter_:\n",
    "        name_='Swamee-Jain (Bhave, 1991 - Epanet)'\n",
    "\n",
    "        #f=0.25/fpowf(np.log10(epsD/3.7+5.74/fpowf(Re,0.9)),2)\n",
    "\n",
    "        w=Re*np.pi/4\n",
    "        A8 = 4.61841319859066668690e+00    #5.74*(PI/4)^.9\n",
    "        A9 = -8.68588963806503655300e-01   #-2/ln(10)\n",
    "        y1=A8/fpowf(w,0.9)\n",
    "        y2 = epsD / 3.7 + y1\n",
    "        y3 = A9 * np.log(y2)\n",
    "        f = 1.0 / (y3*y3)\n",
    "\n",
    "            \n",
    "    #2\n",
    "    counter_+=1\n",
    "    if type_==counter_:\n",
    "        name_='Haaland 1983 - mentioned in white & munson fluid mechanics books'\n",
    "        f=0.25/fpowi(np.log10(epsD/3.7+fpowf(7/Re,0.9)),2) #Eck 1973    \n",
    "\n",
    "    #3\n",
    "    counter_+=1\n",
    "    if type_==counter_:\n",
    "        name_='Goudar–Sonnad'\n",
    "        a_=2/np.log(10)\n",
    "        b_=epsD/3.7\n",
    "        d_=np.log(10)*Re/5.02\n",
    "        s_=b_*d_+np.log(d_)\n",
    "        q_=fpowf(s_,s_/(s_+1))\n",
    "        g_=b_*d_+np.log(d_/q_)\n",
    "        z_=np.log(q_/g_)\n",
    "        dla_=z_*g_/(g_+1)\n",
    "        dcfa_=dla_*(1+(z_/2)/(fpowi(g_+1,2)+z_/3*(2*g_-1)))\n",
    "        f=fpowi(a_*(np.log(d_/q_)+dcfa_),-2)\n",
    "\n",
    "    #4\n",
    "    counter_+=1\n",
    "    if type_==counter_:\n",
    "        name_='Barr 1981'\n",
    "        y1=epsD/3.7+4.518*np.log10(Re/7)/(Re*(1+fpowf(Re,0.52)/29*fpowf(epsD,0.7)))\n",
    "        f=fpowi(-2*np.log10(y1),-2)\n",
    "\n",
    "    #5\n",
    "    counter_+=1\n",
    "    if type_==counter_:\n",
    "        name_='Zigrang & Sylvester 1982 1'\n",
    "        y1=epsD/3.7-5.02/Re*np.log10(epsD/3.7-5.02/Re*np.log10(epsD/3.7+13/Re))\n",
    "        f=fpowi(-2*np.log10(y1),-2)\n",
    "        f=0.25*fpowi(np.log10(2.51/(Re*np.sqrt(f))+epsD/3.7),-2)\n",
    "\n",
    "    #6\n",
    "    counter_+=1\n",
    "    if type_==counter_:\n",
    "        name_='Serghides 1984'\n",
    "        y1=epsD/3.7\n",
    "        y2=-2*np.log10(y1+12/Re)\n",
    "        y3=-2*np.log10(y1+2.51*y2/Re)\n",
    "        y4=-2*np.log10(y1+2.51*y3/Re)\n",
    "        f=fpowi(y2-fpowi(y3-y2,2)/(y4-2*y3+y2),-2)        \n",
    "\n",
    "    #7\n",
    "    counter_+=1\n",
    "    if type_==counter_:\n",
    "        name_= 'S.Alashkar 2012 '\n",
    "        y1=epsD/3.7065\n",
    "        y2=2.5226/Re\n",
    "        f=1.325474505*fpowi(np.log(y1-0.8686068432*y2*np.log(y1-0.8784893582*y2*np.log(y1+fpowf(1.665368035*y2,0.8373492157)))),-2)   \n",
    "\n",
    "    #8\n",
    "    counter_+=1\n",
    "    if type_==counter_:\n",
    "        name_= 'Vatankhah, Kouchakzadeh 2008 '\n",
    "        y1=0.124*Re*epsD+np.log(0.4587*Re)\n",
    "        f=fpowi(0.8686*np.log(0.4587*Re/(fpowf(y1-0.31,y1/(y1+0.9633)))),-2)\n",
    "\n",
    "    #9\n",
    "    counter_+=1\n",
    "    if type_==counter_: \n",
    "        name_='Fang 2011'\n",
    "        y1=0.234*fpowf(epsD,1.1007)\n",
    "        y2=-60.525*fpowf(Re,-1.1105)\n",
    "        y3=56.291*fpowf(Re,-1.0712)\n",
    "        f=1.613*fpowi(np.log(y1+y2+y3),-2)\n",
    "\n",
    "    #10\n",
    "    counter_+=1\n",
    "    if type_==counter_: \n",
    "        name_='Evangelides, Papaevangelou, Tzimopoulos 2010'\n",
    "        y1=0.2479-0.0000947*fpowi(7-np.log10(Re),4)\n",
    "        y2=np.log10(epsD/3.615+7.366*fpowf(Re,-0.9142))\n",
    "        f=y1*fpowi(y2,-2)\n",
    "        \n",
    "    #11\n",
    "    counter_+=1\n",
    "    if type_==counter_: \n",
    "        name_='vatankhah 2019 discussion-Eq8'\n",
    "        y1=0.8685889638065035 #2/np.log(10)  -a\n",
    "        y2=0.39840637450199207 #1/2.51  -a1\n",
    "        y3=0.12363404028060514  #   a2\n",
    "        y4=y3*Re*epsD+np.log(Re/2.51) #s\n",
    "        y5=1+0.49959/((y4+1)/np.log(y1*y4)-(1+5.448*y4)/(8*(y4+1))) #lambda\n",
    "        f=fpowi(y1*np.log(y2*Re)-y1*y4/(y4+y5)*np.log(y1*y4),-2)\n",
    "        \n",
    "    #12\n",
    "    counter_+=1\n",
    "    if type_==counter_: \n",
    "        name_='vatankhah 2018'      \n",
    "        y1=0.12363*Re*epsD+np.log(0.3984*Re)\n",
    "        y2=(1+y1)/(0.5*np.log(0.8686*y1))\n",
    "        y3=(1+4*y1)/(3*(1+y1))\n",
    "        y4=1+1/(y2-y3)\n",
    "        y6=0.3984*Re/fpowf(0.8686*y1,y1/(y1+y4))\n",
    "        f=fpowi(0.8686*np.log(y6),-2)\n",
    "\n",
    "    #13\n",
    "    counter_+=1\n",
    "    if type_==counter_: \n",
    "        name_='vatankhah 2019 discussion-Eq11'\n",
    "        y1=0.8685889638065035 #2/np.log(10)  -a\n",
    "        y2=0.39840637450199207 #1/2.51  -a1\n",
    "        y3=0.12363404028060514  #   a2\n",
    "        y4=y3*Re*epsD+np.log(Re/2.51) #s\n",
    "        y5=(fpowi(y4,2)+2.1061*y4+3.2516)/(fpowi(y4,2)+3.1142*y4+7.0061)\n",
    "        f=fpowi(y1*np.log(y2*Re/fpowf(y1*y4,y5)),-2)\n",
    " \n",
    "    #Romeo, Royo and Monzón approximation\n",
    "     \n",
    "        \n",
    "    print('\\n',name_) if print_==1 else 1\n",
    "    return f\n",
    "\n",
    "#vectorized numpy code but not parallelized\n",
    "#mpi4py can help you with that but it's too hard.\n",
    "\n"
   ]
  },
  {
   "cell_type": "code",
   "execution_count": null,
   "metadata": {},
   "outputs": [],
   "source": []
  },
  {
   "cell_type": "code",
   "execution_count": 8,
   "metadata": {},
   "outputs": [
    {
     "name": "stdout",
     "output_type": "stream",
     "text": [
      "vector size= 1000000\n",
      "\n",
      " colebrook white-accepted design formula (5 iter)\n",
      "76.9 ms ± 864 µs per loop (mean ± std. dev. of 7 runs, 10 loops each)\n",
      "MaxRelErr=4.29498814671884%, MeanRelErr=0.5346164930142575%, RootMeanSquRelErr=1.0832124857760292%\n",
      "\n",
      " Swamee-Jain (Bhave, 1991 - Epanet)\n",
      "70.7 ms ± 326 µs per loop (mean ± std. dev. of 7 runs, 10 loops each)\n",
      "MaxRelErr=3.3582616174209474%, MeanRelErr=0.4959406877614587%, RootMeanSquRelErr=0.70126660650509%\n",
      "\n",
      " Haaland 1983 - mentioned in white & munson fluid mechanics books\n",
      "63.9 ms ± 310 µs per loop (mean ± std. dev. of 7 runs, 10 loops each)\n",
      "MaxRelErr=3.4192265678605276%, MeanRelErr=0.5054411273086297%, RootMeanSquRelErr=0.7228978479920696%\n",
      "\n",
      " Goudar–Sonnad\n",
      "191 ms ± 7.39 ms per loop (mean ± std. dev. of 7 runs, 1 loop each)\n",
      "MaxRelErr=1.0369724850886054e-10%, MeanRelErr=8.008651064371575e-12%, RootMeanSquRelErr=2.055086246725242e-11%\n",
      "\n",
      " Barr 1981\n",
      "131 ms ± 848 µs per loop (mean ± std. dev. of 7 runs, 10 loops each)\n",
      "MaxRelErr=0.5338182594059436%, MeanRelErr=0.06211314520541126%, RootMeanSquRelErr=0.09664789592383936%\n",
      "\n",
      " Zigrang & Sylvester 1982 1\n",
      "155 ms ± 1.23 ms per loop (mean ± std. dev. of 7 runs, 10 loops each)\n",
      "MaxRelErr=0.014312976208213313%, MeanRelErr=0.0030389820830243283%, RootMeanSquRelErr=0.0054360282976574845%\n",
      "\n",
      " Serghides 1984\n",
      "125 ms ± 946 µs per loop (mean ± std. dev. of 7 runs, 10 loops each)\n",
      "MaxRelErr=0.0030991448474579062%, MeanRelErr=0.0006164010360874949%, RootMeanSquRelErr=0.0011344521690702135%\n",
      "\n",
      " S.Alashkar 2012 \n",
      "113 ms ± 748 µs per loop (mean ± std. dev. of 7 runs, 10 loops each)\n",
      "MaxRelErr=0.11916011486575505%, MeanRelErr=0.06332801858045753%, RootMeanSquRelErr=0.07250192742453505%\n",
      "\n",
      " Vatankhah, Kouchakzadeh 2008 \n",
      "95.7 ms ± 841 µs per loop (mean ± std. dev. of 7 runs, 10 loops each)\n",
      "MaxRelErr=0.0515479349999808%, MeanRelErr=0.011591481955642517%, RootMeanSquRelErr=0.015518836426174694%\n",
      "\n",
      " Fang 2011\n",
      "124 ms ± 4 ms per loop (mean ± std. dev. of 7 runs, 10 loops each)\n",
      "MaxRelErr=0.49372364558474374%, MeanRelErr=0.16365373081375884%, RootMeanSquRelErr=0.1962498867632295%\n",
      "\n",
      " Evangelides, Papaevangelou, Tzimopoulos 2010\n",
      "100 ms ± 5.61 ms per loop (mean ± std. dev. of 7 runs, 10 loops each)\n",
      "MaxRelErr=0.8177825427547805%, MeanRelErr=0.17088066120728038%, RootMeanSquRelErr=0.21531384042576002%\n",
      "\n",
      " vatankhah 2019 discussion-Eq8\n",
      "138 ms ± 861 µs per loop (mean ± std. dev. of 7 runs, 10 loops each)\n",
      "MaxRelErr=0.12561603847370026%, MeanRelErr=0.04170480681037348%, RootMeanSquRelErr=0.05576842626578151%\n",
      "\n",
      " vatankhah 2018\n",
      "149 ms ± 594 µs per loop (mean ± std. dev. of 7 runs, 10 loops each)\n",
      "MaxRelErr=0.12833873777029361%, MeanRelErr=0.04377892517687751%, RootMeanSquRelErr=0.057663179004540925%\n"
     ]
    }
   ],
   "source": [
    "print('vector size=',np.power(N1+1,2))\n",
    "#for type_ in range(9+1):\n",
    "for type_ in range(13):\n",
    "    z_hat=ff(xy,type_,1)\n",
    "    %timeit ff(xy,type_,0)\n",
    "    err_(z_,z_hat,1); # max - average - rmse"
   ]
  },
  {
   "cell_type": "code",
   "execution_count": null,
   "metadata": {},
   "outputs": [],
   "source": []
  },
  {
   "cell_type": "code",
   "execution_count": 9,
   "metadata": {},
   "outputs": [],
   "source": [
    "# vector size= 1024\n",
    "\t\t\t\t\t\t\t\t\t\t\t\t\t\t\t#mesh size\t\t\t\t\t\t\t\t\n",
    "#\t\t\t\t\t\t\t\t\t\t\t\t\t\t\t1000*1000=1mill\t\t3164*3164=10mill\n",
    "\n",
    "#  2 iter colebrook,f0=0.01\t\t\t\t\t\t\t\t\t\t\t\t\t\t\t0.79s\t4.29%\t\t\n",
    "#  3 iter colebrook,f0=0.01\t\t\t\t\t\t\t\t\t\t\t\t\t\t\t1.14s\t0.77%\t\t\n",
    "#  5 iter colebrook, f0=0.01\t\t\t\t\t\t32\t\t0.2s \t\t0.76%\t\t1.83s\t0.023%\t\t\n",
    "# 10 iter colebrook, f0=0.01\t\t\t\t\t\t32\t\t0.2s \t\t0.76%\t\t3.52s\t3.61e-6%\t\n",
    "# 30 iter colebrook, f0=0.01\t\t\t\t\t\t32\t\t0.2s \t\t0.76%\t\t10.6s\t5.37e-14%\t\n",
    "\n",
    "#  Haaland 1983  (fluid mechanics books)\t\t\t\t\t0.1s \t\t3%\t\t\t0.66s\t3.42%\t\t\n",
    "#  swamee jain (epanet-manual)\t\t\t\t\t\t\t\t\t\t\t\t\t\t0.73s\t3.36%\t\t\n",
    "#  swamee jain (epanet 2.2-implmentation)\t\t\t\t\t\t\t\t\t\t\t0.73s\t3.36%\t\t\n",
    "\n",
    "#  Evangelides, Papaevangelou, Tzimopoulos 2010\t\t31\t\t0.2s \t\t0.8%\t\t1.01s\t0.81%\t\t\n",
    "#  Barr 1981 \t\t\t\t\t\t\t\t\t\t33\t\t0.2s \t\t0.5%\t\t1.35s\t0.53%\t\t\n",
    "#  Fang 2011 \t\t\t\t\t\t\t\t\t\t34\t\t0.2s \t\t0.49%\t\t1.24s\t0.49%\t\t\n",
    "#  S.Alashkar 2012 \t\t\t\t\t\t\t\t\t36\t\t0.1s \t\t0.11%\t\t1.17s\t0.12%\t\t\n",
    "#  Zigrang & Sylvester 1982 1\t\t\t\t\t\t37\t\t0.1s \t\t0.1%\t\t1.56s\t0.11%\t\t\n",
    "# vatankhah 2018\t\t\t\t\t\t\t\t\t\t\t\t\t\t\t\t\t1.53s\t0.13%\t\t\t\t\n",
    "# vatankhah 2019-eq8\t\t\t\t\t\t\t\t\t\t\t\t\t\t\t\t1.45s\t0.13%\t\t\t\n",
    "# vatankhah 2019-eq11\t\t\t\t\t\t\t\t\t\t\t\t\t\t\t\t1.53s\t0.13%\t\t\t\n",
    "\n",
    "#  Vatankhah, Kouchakzadeh 2008  \t\t\t\t\t38\t\t0.1s \t\t0.05%\t\t0.98s\t0.052%\t\t great\n",
    "#  Serghides 1984 correction\t\t\t\t\t\t39\t\t0.2s \t\t0.003%\t\t1.31s\t0.003%\t\t great\n",
    "#  Goudar–Sonnad \t\t\t\t\t\t\t\t\t40\t\t0.3s \t\t0.00000%\t1.93s\t1.036e-10%\t great"
   ]
  },
  {
   "cell_type": "code",
   "execution_count": 10,
   "metadata": {},
   "outputs": [],
   "source": [
    "#derivative is also needed  df/dRe"
   ]
  },
  {
   "cell_type": "code",
   "execution_count": 11,
   "metadata": {},
   "outputs": [],
   "source": [
    "# %timeit np.sqrt(z_) #42 ms, 1sqrt\n",
    "# aa=np.sqrt(z_)\n",
    "# %timeit Re*aa #42 ms, 1mult\n",
    "# bb=Re*aa\n",
    "# %timeit 2.51/(Re*aa)  #87 ms 1mult,1div\n",
    "# %timeit 2.51/bb #42 ms, 1 div\n",
    "\n",
    "# aa=epsD/3.7+2.51/(Re*np.sqrt(z_))\n",
    "# %timeit np.log10(aa) #132 ms  1 log10\n",
    "# %timeit np.log(aa) #114 ms   1 Ln\n",
    "# %timeit 0.43429448190325176*np.log(aa)  #147 1multiple, 1ln\n",
    "\n",
    "\n",
    "# aa=-2*np.log10(epsD/3.7+2.51/(Re*np.sqrt(z_)))\n",
    "# %timeit np.power(aa,-2) #506ms\n",
    "# %timeit np.power(aa,2) #506ms\n",
    "# %timeit 1/np.power(aa,2) #506ms\n",
    "# %timeit 1/(aa*aa) #75ms\n",
    "\n",
    "# %timeit  1/fpowi(aa,2) #75 ms\n",
    "# %timeit  1/fpowi(aa,3) #113 ms\n",
    "# %timeit  fpowii(aa,-2) #73 ms\n",
    "# %timeit  fpowi(aa,4) #114ms\n",
    "# %timeit  np.power(aa,4) #529ms\n",
    "# %timeit  np.power(4,z_) #521ms\n",
    "# %timeit  fpowf(4,z_) #160ms\n",
    "\n",
    "# %timeit fpowf(4,z_) #160ms\n",
    "# #%timeit np.power(4,z_) #514ms\n",
    "\n",
    "\n",
    "# %timeit np.power(epsD,1.1007) #504ms\n",
    "# %timeit fpow(epsD,1.1007) #276ms\n",
    "\n",
    "# %timeit min(z_) #1.4s\n",
    "# %timeit np.min(z_) #6 ms\n",
    "\n",
    "\n",
    "# %timeit np.where(z_>0.01,0.01,0) #40 ms\n",
    "\n",
    "# %timeit abs(z_)"
   ]
  },
  {
   "cell_type": "code",
   "execution_count": 12,
   "metadata": {},
   "outputs": [],
   "source": [
    "#1 multiply = 1 division = 1 sum\n",
    "#1 log_e = 4 multiply\n",
    "#pow_integer = 2.5 multiply\n",
    "#pow_float = 1exp+2multiply+1log= 6 multiply\n",
    "#pow_exp = 4 multiply"
   ]
  },
  {
   "cell_type": "code",
   "execution_count": 26,
   "metadata": {},
   "outputs": [
    {
     "name": "stdout",
     "output_type": "stream",
     "text": [
      "127 ms ± 1.58 ms per loop (mean ± std. dev. of 7 runs, 10 loops each)\n"
     ]
    }
   ],
   "source": [
    "\n",
    "\n",
    "%timeit np.exp(z_)"
   ]
  },
  {
   "cell_type": "code",
   "execution_count": 27,
   "metadata": {},
   "outputs": [
    {
     "name": "stdout",
     "output_type": "stream",
     "text": [
      "509 ms ± 2.07 ms per loop (mean ± std. dev. of 7 runs, 1 loop each)\n"
     ]
    }
   ],
   "source": [
    "%timeit np.power(z_,2,dtype=np.float64)\n"
   ]
  },
  {
   "cell_type": "code",
   "execution_count": 28,
   "metadata": {},
   "outputs": [
    {
     "name": "stdout",
     "output_type": "stream",
     "text": [
      "210 ms ± 1.1 ms per loop (mean ± std. dev. of 7 runs, 1 loop each)\n"
     ]
    }
   ],
   "source": [
    "%timeit np.power(z_,2,dtype=np.float32)\n",
    "    "
   ]
  },
  {
   "cell_type": "code",
   "execution_count": 29,
   "metadata": {},
   "outputs": [
    {
     "name": "stdout",
     "output_type": "stream",
     "text": [
      "95 ms ± 347 µs per loop (mean ± std. dev. of 7 runs, 10 loops each)\n"
     ]
    }
   ],
   "source": [
    "%timeit np.log(z_,dtype=np.float32)"
   ]
  },
  {
   "cell_type": "code",
   "execution_count": 30,
   "metadata": {},
   "outputs": [
    {
     "name": "stdout",
     "output_type": "stream",
     "text": [
      "114 ms ± 1.09 ms per loop (mean ± std. dev. of 7 runs, 10 loops each)\n"
     ]
    }
   ],
   "source": [
    "%timeit np.log(z_,dtype=np.float64)"
   ]
  },
  {
   "cell_type": "code",
   "execution_count": 31,
   "metadata": {},
   "outputs": [
    {
     "name": "stdout",
     "output_type": "stream",
     "text": [
      "114 ms ± 480 µs per loop (mean ± std. dev. of 7 runs, 10 loops each)\n"
     ]
    }
   ],
   "source": [
    "%timeit np.log(z_)"
   ]
  },
  {
   "cell_type": "code",
   "execution_count": 32,
   "metadata": {},
   "outputs": [
    {
     "name": "stdout",
     "output_type": "stream",
     "text": [
      "32.2 ms ± 535 µs per loop (mean ± std. dev. of 7 runs, 10 loops each)\n"
     ]
    }
   ],
   "source": [
    "%timeit z_*z_"
   ]
  },
  {
   "cell_type": "code",
   "execution_count": 33,
   "metadata": {},
   "outputs": [
    {
     "name": "stdout",
     "output_type": "stream",
     "text": [
      "210 ms ± 653 µs per loop (mean ± std. dev. of 7 runs, 1 loop each)\n"
     ]
    }
   ],
   "source": [
    "%timeit np.power(z_,2.5,dtype=np.float32)"
   ]
  },
  {
   "cell_type": "code",
   "execution_count": 35,
   "metadata": {},
   "outputs": [
    {
     "name": "stdout",
     "output_type": "stream",
     "text": [
      "33.3 ms ± 1.51 ms per loop (mean ± std. dev. of 7 runs, 10 loops each)\n"
     ]
    }
   ],
   "source": [
    "%timeit np.multiply(z_,z_,dtype=np.float64)"
   ]
  },
  {
   "cell_type": "code",
   "execution_count": 36,
   "metadata": {},
   "outputs": [
    {
     "name": "stdout",
     "output_type": "stream",
     "text": [
      "30.1 ms ± 528 µs per loop (mean ± std. dev. of 7 runs, 10 loops each)\n"
     ]
    }
   ],
   "source": [
    "%timeit np.multiply(z_,z_,dtype=np.float32)"
   ]
  },
  {
   "cell_type": "code",
   "execution_count": null,
   "metadata": {},
   "outputs": [],
   "source": []
  }
 ],
 "metadata": {
  "kernelspec": {
   "display_name": "Python 3",
   "language": "python",
   "name": "python3"
  },
  "language_info": {
   "codemirror_mode": {
    "name": "ipython",
    "version": 3
   },
   "file_extension": ".py",
   "mimetype": "text/x-python",
   "name": "python",
   "nbconvert_exporter": "python",
   "pygments_lexer": "ipython3",
   "version": "3.7.8"
  }
 },
 "nbformat": 4,
 "nbformat_minor": 4
}
