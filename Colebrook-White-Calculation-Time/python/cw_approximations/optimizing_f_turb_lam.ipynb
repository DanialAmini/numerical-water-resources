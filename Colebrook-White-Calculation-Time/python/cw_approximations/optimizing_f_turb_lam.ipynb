{
 "cells": [
  {
   "cell_type": "code",
   "execution_count": 4,
   "metadata": {},
   "outputs": [],
   "source": [
    "import numpy as np\n",
    "from numba import jit, njit, vectorize, cfunc\n",
    "from timeit import default_timer as timer"
   ]
  },
  {
   "cell_type": "code",
   "execution_count": null,
   "metadata": {},
   "outputs": [],
   "source": []
  },
  {
   "cell_type": "code",
   "execution_count": 52,
   "metadata": {},
   "outputs": [
    {
     "data": {
      "text/plain": [
       "array([120027.16267111,   3729.48906014, 124198.45916958, ...,\n",
       "         1225.35103377,    985.52416782,    354.43513416])"
      ]
     },
     "execution_count": 52,
     "metadata": {},
     "output_type": "execute_result"
    }
   ],
   "source": [
    "name_=['example4','example5','bin','rome']\n",
    "name_n=3\n",
    "Re = np.genfromtxt(name_[name_n]+'\\\\Re.csv', delimiter=',')\n",
    "epsD = np.genfromtxt(name_[name_n]+'\\\\epsD.csv', delimiter=',')\n",
    "Re"
   ]
  },
  {
   "cell_type": "code",
   "execution_count": 57,
   "metadata": {},
   "outputs": [],
   "source": [
    "Np=10000000\n",
    "Re=100*np.power(1e8/100,np.random.rand(Np))\n",
    "epsD=1e-6*np.power(0.05/1e-6,np.random.rand(Np))"
   ]
  },
  {
   "cell_type": "code",
   "execution_count": 58,
   "metadata": {},
   "outputs": [
    {
     "name": "stdout",
     "output_type": "stream",
     "text": [
      "fraction of laminar pipes 0.2167884\n",
      "fraction of transient pipes 0.0502206\n",
      "fraction of turbulent pipes 0.732991\n"
     ]
    }
   ],
   "source": [
    "Np=len(Re)\n",
    "\n",
    "Re_lam=np.where(Re<=2000,1,0)\n",
    "Re_turb=np.where(Re>=4000,1,0)\n",
    "Re_trans=np.ones(Np)-Re_lam-Re_turb\n",
    "\n",
    "print('fraction of laminar pipes',np.sum(Re_lam)/Np)\n",
    "print('fraction of transient pipes',np.sum(Re_trans)/Np)\n",
    "print('fraction of turbulent pipes',np.sum(Re_turb)/Np)"
   ]
  },
  {
   "cell_type": "code",
   "execution_count": null,
   "metadata": {},
   "outputs": [],
   "source": []
  },
  {
   "cell_type": "code",
   "execution_count": null,
   "metadata": {},
   "outputs": [],
   "source": []
  },
  {
   "cell_type": "code",
   "execution_count": 63,
   "metadata": {},
   "outputs": [],
   "source": [
    "#####################\n",
    "# friction functions#\n",
    "#####################\n",
    "\n",
    "@njit\n",
    "def f_swamee(epsD,Re):\n",
    "    y1=5.74/np.power(Re,0.9)\n",
    "    y2=epsD/3.7+y1\n",
    "    c1=-2/np.log(10)\n",
    "    y3=c1*np.log(y2)\n",
    "    f=1/(y3*y3)\n",
    "\n",
    "    y3=c1*np.log(y2)\n",
    "    fp=(2*0.9*c1)*y1*f/(y2*y3*Re)\n",
    "    \n",
    "    return [f,fp]\n",
    "\n",
    "@njit\n",
    "def f_dunlop(epsD,Re):\n",
    "    aa=-1.5634601348517065795\n",
    "    #aa=-2*0.9*2/np.log(10)\n",
    "    ab=0.00328895476345399058690\n",
    "    #ab=5.74/np.power(4000,0.9)\n",
    "    c2=-2/np.log(10)\n",
    "    #c2=-0.8685889638065035\n",
    "    \n",
    "    ac=aa*ab\n",
    "    \n",
    "    y2=epsD/3.7+ab\n",
    "    y3=c2*np.log(y2)\n",
    "    \n",
    "    fa=1/(y3*y3)\n",
    "    fb=(2+ac/(y2*y3))*fa\n",
    "    \n",
    "    x1=7*fa-fb\n",
    "    x2=0.128-17*fa+2.5*fb\n",
    "    x3=-0.128+13*fa-(fb+fb)\n",
    "    x4=0.032-3*fa+0.5*fb\n",
    "    \n",
    "    R=Re/2000\n",
    "      \n",
    "    f=x1+R*(x2+R*(x3+R*x4))\n",
    "    fp=x2+R*(2*x3+3*R*x4)\n",
    "    fp=fp/2000\n",
    "    \n",
    "    return [f,fp]\n",
    "\n",
    "@njit\n",
    "def f_lam(epsD,Re):\n",
    "    return [64/Re ,-64/(Re*Re)]\n",
    "\n",
    "@njit(parallel=True)\n",
    "def f_tot(epsD_vec,Re_vec):\n",
    "    N=len(Re_vec)\n",
    "    f_vec=np.zeros(N)\n",
    "    fp_vec=np.zeros(N)\n",
    "    for i in prange(N):\n",
    "        Re=Re_vec[i]\n",
    "        epsD=epsD_vec[i]\n",
    "        if Re<=2000:\n",
    "            #############\n",
    "            #laminar flow\n",
    "            f=64/Re \n",
    "            fp=-64/(Re*Re)\n",
    "        elif Re>=4000:\n",
    "            #################\n",
    "            ###turbulent flow\n",
    "            #swamee jain#####\n",
    "            y1=5.74/np.power(Re,0.9)\n",
    "            y2=epsD/3.7+y1\n",
    "            c1=-2/np.log(10)\n",
    "            y3=c1*np.log(y2)\n",
    "            f=1/(y3*y3)\n",
    "\n",
    "            y3=c1*np.log(y2)\n",
    "            fp=(2*0.9*c1)*y1*f/(y2*y3*Re)\n",
    "        else:\n",
    "            ######################\n",
    "            # transition flow####\n",
    "            #dunlop interpolation\n",
    "            ######################\n",
    "            aa=-1.5634601348517065795\n",
    "            #aa=-2*0.9*2/np.log(10)\n",
    "            ab=0.00328895476345399058690\n",
    "            #ab=5.74/np.power(4000,0.9)\n",
    "            c2=-2/np.log(10)\n",
    "            #c2=-0.8685889638065035\n",
    "\n",
    "            ac=aa*ab\n",
    "\n",
    "            y2=epsD/3.7+ab\n",
    "            y3=c2*np.log(y2)\n",
    "\n",
    "            fa=1/(y3*y3)\n",
    "            fb=(2+ac/(y2*y3))*fa\n",
    "\n",
    "            x1=7*fa-fb\n",
    "            x2=0.128-17*fa+2.5*fb\n",
    "            x3=-0.128+13*fa-(fb+fb)\n",
    "            x4=0.032-3*fa+0.5*fb\n",
    "\n",
    "            R=Re/2000\n",
    "\n",
    "            f=x1+R*(x2+R*(x3+R*x4))\n",
    "            fp=x2+R*(2*x3+3*R*x4)\n",
    "            fp=fp/2000\n",
    "        f_vec[i]=f\n",
    "        fp_vec[i]=fp\n",
    "    return [f_vec,fp_vec]\n",
    "\n",
    "@njit(parallel=True)\n",
    "def f_tot1(epsD_vec,Re_vec,f1,f2,f3):\n",
    "    N=len(Re_vec)\n",
    "    f_vec=np.zeros(N)\n",
    "    fp_vec=np.zeros(N)\n",
    "    a=np.array([0,0])\n",
    "    for i in prange(N):\n",
    "        Re=Re_vec[i]\n",
    "        epsD=epsD_vec[i]\n",
    "        if Re<=2000:\n",
    "            a=f1(epsD,Re)\n",
    "            f=a[0]\n",
    "            fp=a[1]\n",
    "        elif Re>=4000:\n",
    "            a=f3(epsD,Re)\n",
    "            f=a[0]\n",
    "            fp=a[1]            \n",
    "        else:\n",
    "            a=f2(epsD,Re)\n",
    "            f=a[0]\n",
    "            fp=a[1]            \n",
    "        f_vec[i]=f\n",
    "        fp_vec[i]=fp\n",
    "    return [f_vec,fp_vec]\n",
    "    #f_tot1(epsD,Re,f_lam,f_dunlop,f_swamee)"
   ]
  },
  {
   "cell_type": "code",
   "execution_count": 60,
   "metadata": {},
   "outputs": [
    {
     "name": "stdout",
     "output_type": "stream",
     "text": [
      "initialize variables, time= 0.03655520000006618 s\n"
     ]
    }
   ],
   "source": [
    "start = timer()\n",
    "oo=np.ones(len(Re))\n",
    "\n",
    "f=np.zeros(Np)\n",
    "fp=np.zeros(Np)\n",
    "\n",
    "Re_turb=np.zeros(Np)\n",
    "Re_trans=np.zeros(Np)\n",
    "Re_lam=np.zeros(Np)\n",
    "\n",
    "a=np.zeros((Np,2))\n",
    "a1=np.zeros((Np,2))\n",
    "a2=np.zeros((Np,2))\n",
    "a3=np.zeros((Np,2))\n",
    "\n",
    "print('initialize variables, time=',timer() - start,'s')"
   ]
  },
  {
   "cell_type": "code",
   "execution_count": 61,
   "metadata": {},
   "outputs": [
    {
     "name": "stdout",
     "output_type": "stream",
     "text": [
      "Calculate f & fp, time= 7.280867100000023 s\n",
      "2.45 s ± 48.7 ms per loop (mean ± std. dev. of 7 runs, 1 loop each)\n"
     ]
    }
   ],
   "source": [
    "start = timer()\n",
    "\n",
    "Re_turb=np.maximum(Re,4000)\n",
    "Re_trans=np.minimum(np.maximum(Re,2000),4000)\n",
    "Re_lam=np.minimum(Re,2000)\n",
    "\n",
    "\n",
    "\n",
    "a_turb=1*(Re>=4000)\n",
    "a_trans=(Re<4000)*(Re>2000)*1\n",
    "a_lam=1*(Re<=2000)\n",
    "\n",
    "\n",
    "\n",
    "\n",
    "a1=f_swamee(epsD,Re)\n",
    "a2=f_dunlop(epsD,Re)\n",
    "a3=f_lam(epsD,Re)\n",
    "\n",
    "a=a_turb*a1+a_trans*a2+a_lam*a3\n",
    "\n",
    "a=a_turb*f_swamee(epsD,Re)+a_trans*f_dunlop(epsD,Re)+a_lam*f_lam(epsD,Re)\n",
    "\n",
    "\n",
    "f=a[0]\n",
    "fp=a[1]\n",
    "print('Calculate f & fp, time=',timer() - start,'s')\n",
    "\n",
    "%timeit a=np.where(Re>=4000,1,0)*f_swamee(epsD,Re)+np.where(abs(Re-3000)<1000,1,0)*f_dunlop(epsD,Re)+np.where(Re<=2000,1,0)*f_lam(epsD,Re)"
   ]
  },
  {
   "cell_type": "code",
   "execution_count": null,
   "metadata": {},
   "outputs": [],
   "source": []
  },
  {
   "cell_type": "code",
   "execution_count": 62,
   "metadata": {},
   "outputs": [
    {
     "name": "stdout",
     "output_type": "stream",
     "text": [
      "Calculate f & fp, time= 0.1865023000000292 s\n",
      "193 ms ± 18.7 ms per loop (mean ± std. dev. of 7 runs, 10 loops each)\n",
      "1.99 s ± 29.8 ms per loop (mean ± std. dev. of 7 runs, 1 loop each)\n"
     ]
    }
   ],
   "source": [
    "\n",
    "a=f_tot(epsD,Re)\n",
    "\n",
    "start = timer()\n",
    "a=f_tot(epsD,Re)\n",
    "f=a[0]\n",
    "fp=a[1]\n",
    "print('Calculate f & fp, time=',timer() - start,'s')\n",
    "%timeit f_tot(epsD,Re) #first iteration is slow because of warmup? \n",
    "%timeit f_tot1(epsD,Re,f_lam,f_dunlop,f_swamee)"
   ]
  },
  {
   "cell_type": "code",
   "execution_count": 34,
   "metadata": {},
   "outputs": [
    {
     "data": {
      "text/plain": [
       "array([0., 0., 0., ..., 0., 0., 0.])"
      ]
     },
     "execution_count": 34,
     "metadata": {},
     "output_type": "execute_result"
    }
   ],
   "source": [
    "a=f_tot(epsD,Re)\n",
    "b=f_tot1(epsD,Re,f_lam,f_dunlop,f_swamee)\n"
   ]
  },
  {
   "cell_type": "code",
   "execution_count": 48,
   "metadata": {},
   "outputs": [],
   "source": [
    "Np=10000000\n",
    "Re=100*np.power(1e8/100,np.random.rand(Np))\n",
    "epsD=1e-6*np.power(0.05/1e-6,np.random.rand(Np))"
   ]
  },
  {
   "cell_type": "code",
   "execution_count": null,
   "metadata": {},
   "outputs": [],
   "source": []
  },
  {
   "cell_type": "code",
   "execution_count": 49,
   "metadata": {},
   "outputs": [
    {
     "name": "stdout",
     "output_type": "stream",
     "text": [
      "752 ms ± 8.44 ms per loop (mean ± std. dev. of 7 runs, 1 loop each)\n",
      "1.06 s ± 39.8 ms per loop (mean ± std. dev. of 7 runs, 1 loop each)\n"
     ]
    }
   ],
   "source": [
    "%timeit f_tot(epsD,Re)\n",
    "%timeit np.where(Re>=4000,1,0)*f_swamee(epsD,Re)+np.where(abs(Re-3000)<1000,1,0)*f_dunlop(epsD,Re)+np.where(Re<=2000,1,0)*f_lam(epsD,Re)"
   ]
  },
  {
   "cell_type": "code",
   "execution_count": 55,
   "metadata": {},
   "outputs": [
    {
     "name": "stdout",
     "output_type": "stream",
     "text": [
      "0.7280911000000287\n",
      "1.0134945999999445\n"
     ]
    }
   ],
   "source": [
    "start = timer()\n",
    "a=f_tot(epsD,Re)\n",
    "print(timer() - start)\n",
    "\n",
    "start = timer()\n",
    "a1=f_swamee(epsD,Re)\n",
    "a2=f_dunlop(epsD,Re)\n",
    "a3=f_lam(epsD,Re)\n",
    "a10=np.where(Re>=4000,1,0)\n",
    "a20=np.where(abs(Re-3000)<1000,1,0)\n",
    "a30=np.where(Re<=2000,1,0)\n",
    "b=a1*a10+a2*a20+a3*a30\n",
    "print(timer() - start)\n",
    "\n"
   ]
  },
  {
   "cell_type": "code",
   "execution_count": 54,
   "metadata": {},
   "outputs": [
    {
     "data": {
      "text/plain": [
       "array([[0., 0., 0., ..., 0., 0., 0.],\n",
       "       [0., 0., 0., ..., 0., 0., 0.]])"
      ]
     },
     "execution_count": 54,
     "metadata": {},
     "output_type": "execute_result"
    }
   ],
   "source": []
  },
  {
   "cell_type": "code",
   "execution_count": 2,
   "metadata": {},
   "outputs": [],
   "source": []
  },
  {
   "cell_type": "code",
   "execution_count": 4,
   "metadata": {},
   "outputs": [
    {
     "name": "stdout",
     "output_type": "stream",
     "text": [
      "183 ms ± 2.68 ms per loop (mean ± std. dev. of 7 runs, 10 loops each)\n"
     ]
    }
   ],
   "source": []
  },
  {
   "cell_type": "code",
   "execution_count": 204,
   "metadata": {},
   "outputs": [],
   "source": []
  },
  {
   "cell_type": "code",
   "execution_count": 67,
   "metadata": {},
   "outputs": [],
   "source": []
  },
  {
   "cell_type": "code",
   "execution_count": 171,
   "metadata": {},
   "outputs": [
    {
     "name": "stdout",
     "output_type": "stream",
     "text": [
      "567 ms ± 17.6 ms per loop (mean ± std. dev. of 7 runs, 1 loop each)\n",
      "422 ms ± 11.5 ms per loop (mean ± std. dev. of 7 runs, 1 loop each)\n"
     ]
    }
   ],
   "source": [
    "\n"
   ]
  },
  {
   "cell_type": "code",
   "execution_count": 224,
   "metadata": {},
   "outputs": [],
   "source": []
  },
  {
   "cell_type": "code",
   "execution_count": 212,
   "metadata": {},
   "outputs": [
    {
     "data": {
      "text/plain": [
       "array([0.0126214 , 0.01964285, 0.10846013, ..., 0.00648425, 0.02269704,\n",
       "       0.01236301])"
      ]
     },
     "execution_count": 212,
     "metadata": {},
     "output_type": "execute_result"
    }
   ],
   "source": []
  },
  {
   "cell_type": "code",
   "execution_count": 213,
   "metadata": {},
   "outputs": [
    {
     "data": {
      "text/plain": [
       "0.032"
      ]
     },
     "execution_count": 213,
     "metadata": {},
     "output_type": "execute_result"
    }
   ],
   "source": []
  },
  {
   "cell_type": "code",
   "execution_count": 214,
   "metadata": {},
   "outputs": [
    {
     "data": {
      "text/plain": [
       "array([0.04515778, 0.04515778])"
      ]
     },
     "execution_count": 214,
     "metadata": {},
     "output_type": "execute_result"
    }
   ],
   "source": []
  },
  {
   "cell_type": "code",
   "execution_count": 2,
   "metadata": {},
   "outputs": [
    {
     "name": "stdout",
     "output_type": "stream",
     "text": [
      "55.3 ms ± 4.41 ms per loop (mean ± std. dev. of 7 runs, 1 loop each)\n",
      "52.1 ms ± 8.57 ms per loop (mean ± std. dev. of 7 runs, 1 loop each)\n",
      "1.146432400000009\n"
     ]
    },
    {
     "data": {
      "text/plain": [
       "array([0., 0., 0., ..., 0., 0., 0.])"
      ]
     },
     "execution_count": 2,
     "metadata": {},
     "output_type": "execute_result"
    }
   ],
   "source": [
    "import numpy as np\n",
    "from numba import jit, njit, vectorize, cfunc, prange\n",
    "from timeit import default_timer as timer\n",
    "\n",
    "Np=10000000\n",
    "x_vec=100*np.power(1e8/100,np.random.rand(Np))\n",
    "\n",
    "@njit\n",
    "def f1(x):\n",
    "    return 64/x\n",
    "\n",
    "@njit\n",
    "def f2(x):\n",
    "    #x is the Reynolds number(Re), y is the Darcy friction(f)\n",
    "    #for transition, we can assume Re=4000 (max possible friction)\n",
    "    y=0.02\n",
    "    y=(-2/np.log(10))*np.log(2.51/(4000*np.sqrt(y)))\n",
    "    return 1/(y*y)\n",
    "\n",
    "@njit\n",
    "def f3(x): #colebrook-white approximation\n",
    "    #x is the Reynolds number(Re), y is the Darcy friction(f)\n",
    "    y=0.02\n",
    "    y=(-2/np.log(10))*np.log(2.51/(x*np.sqrt(y)))\n",
    "    return 1/(y*y)\n",
    "\n",
    "\n",
    "\n",
    "%timeit f(x_vec,f1,f2,f3)\n",
    "a=f(x_vec,f1,f2,f3)\n",
    "\n",
    "@njit(parallel=True)\n",
    "def f(x_vec):\n",
    "    N=len(x_vec)\n",
    "    y_vec=np.zeros(N)\n",
    "    for i in prange(N):\n",
    "        x=x_vec[i]\n",
    "        if x<=2000:\n",
    "            y=64/x\n",
    "        elif x>=4000:\n",
    "            y=0.02\n",
    "            y=(-2/np.log(10))*np.log(2.51/(x*np.sqrt(y)))\n",
    "            y=1/(y*y)\n",
    "        else:\n",
    "            y=0.02\n",
    "            y=(-2/np.log(10))*np.log(2.51/(4000*np.sqrt(y)))\n",
    "            y=1/(y*y)\n",
    "        y_vec[i]=y\n",
    "    return y_vec\n",
    "\n",
    "%timeit f(x_vec)  #0.181 seconds \n",
    "b=f(x_vec)\n",
    "\n",
    "a-b\n",
    "\n",
    "start=timer()\n",
    "\n",
    "y = np.empty_like(x_vec)\n",
    "\n",
    "a1=np.where(x_vec<=2000,True,False)\n",
    "a3=np.where(x_vec>=4000,True,False)\n",
    "a2=~(a1 | a3)\n",
    "\n",
    "y[a1] = f1(x_vec[a1])\n",
    "y[a2] = f2(x_vec[a2])\n",
    "y[a3] = f3(x_vec[a3])\n",
    "\n",
    "print(timer() - start)\n",
    "\n",
    "y-a\n",
    "\n",
    "def ff(x): #pure python\n",
    "    y = np.empty_like(x)\n",
    "    \n",
    "    mask = x <= 2000\n",
    "    y[mask] = 64 / x[mask]\n",
    "    \n",
    "    mask = (x > 2000) & (x < 4000)\n",
    "    y[mask] = np.log(1.2 * x[mask])\n",
    "    \n",
    "    mask = x >= 4000\n",
    "    y[mask] = np.log(x[mask])\n",
    "\n",
    "    return y"
   ]
  },
  {
   "cell_type": "code",
   "execution_count": null,
   "metadata": {},
   "outputs": [],
   "source": []
  },
  {
   "cell_type": "code",
   "execution_count": null,
   "metadata": {},
   "outputs": [],
   "source": []
  },
  {
   "cell_type": "code",
   "execution_count": 67,
   "metadata": {},
   "outputs": [
    {
     "name": "stdout",
     "output_type": "stream",
     "text": [
      "70 ms ± 6.14 ms per loop (mean ± std. dev. of 7 runs, 1 loop each)\n"
     ]
    }
   ],
   "source": [
    "Np=10000000\n",
    "x_vec=100*np.power(1e8/100,np.random.rand(Np))\n",
    "\n",
    "@njit(parallel=True)\n",
    "def f(x_vec):\n",
    "    N=len(x_vec)\n",
    "    y_vec=np.zeros(N)\n",
    "    for i in prange(N):\n",
    "        x=x_vec[i]\n",
    "        if x<=2000:\n",
    "            y=64/x\n",
    "        elif x>=4000:\n",
    "            y=0.02\n",
    "            y=(-2/np.log(10))*np.log(2.51/(x*np.sqrt(y)))\n",
    "            y=1/(y*y)\n",
    "        else:\n",
    "            y=0.02\n",
    "            y=(-2/np.log(10))*np.log(2.51/(4000*np.sqrt(y)))\n",
    "            y=1/(y*y)\n",
    "        y_vec[i]=y\n",
    "    return y_vec\n",
    "\n",
    "%timeit f(x_vec)  #0.181 seconds \n"
   ]
  },
  {
   "cell_type": "code",
   "execution_count": null,
   "metadata": {},
   "outputs": [],
   "source": []
  },
  {
   "cell_type": "code",
   "execution_count": null,
   "metadata": {},
   "outputs": [],
   "source": []
  }
 ],
 "metadata": {
  "kernelspec": {
   "display_name": "Python 3",
   "language": "python",
   "name": "python3"
  },
  "language_info": {
   "codemirror_mode": {
    "name": "ipython",
    "version": 3
   },
   "file_extension": ".py",
   "mimetype": "text/x-python",
   "name": "python",
   "nbconvert_exporter": "python",
   "pygments_lexer": "ipython3",
   "version": "3.8.5"
  }
 },
 "nbformat": 4,
 "nbformat_minor": 4
}
