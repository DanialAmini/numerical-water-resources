{
 "cells": [
  {
   "cell_type": "code",
   "execution_count": 15,
   "metadata": {},
   "outputs": [
    {
     "name": "stdout",
     "output_type": "stream",
     "text": [
      "8\n"
     ]
    }
   ],
   "source": [
    "import numpy as np\n",
    "\n",
    "import numexpr\n",
    "print(numexpr.detect_number_of_cores())\n",
    "numexpr.set_num_threads(2)\n",
    "\n",
    "from numba import jit, njit"
   ]
  },
  {
   "cell_type": "code",
   "execution_count": 16,
   "metadata": {},
   "outputs": [],
   "source": [
    "N=10000000"
   ]
  },
  {
   "cell_type": "code",
   "execution_count": 17,
   "metadata": {},
   "outputs": [],
   "source": [
    "a=np.random.rand(N)\n",
    "b=np.random.rand(N)\n",
    "\n",
    "\n",
    "Re=4000*np.exp(np.log(1e8/4000)*np.random.rand(N))\n",
    "epsD=1e-6*np.exp(np.log(0.05/1e-6)*np.random.rand(N))\n"
   ]
  },
  {
   "cell_type": "code",
   "execution_count": 18,
   "metadata": {},
   "outputs": [
    {
     "name": "stdout",
     "output_type": "stream",
     "text": [
      "5.57 s ± 94.9 ms per loop (mean ± std. dev. of 7 runs, 1 loop each)\n"
     ]
    }
   ],
   "source": [
    "y1=np.zeros(len(Re),dtype='float')\n",
    "y2=y1[:]\n",
    "z=y1[:]\n",
    "\n",
    "\n",
    "def func_CW30(Re,epsD):\n",
    "    z=-8.6*np.ones(len(a))\n",
    "    y1=epsD/3.7\n",
    "    y2=(-2/np.log(10)*2.51)/Re\n",
    "\n",
    "    for i in range(6):\n",
    "        z=np.log(y1+y2*np.log(y1+y2*np.log(y1+y2*np.log(y1+y2*np.log(y1+y2*z)))))\n",
    "\n",
    "    z=(-2/np.log(10))*z\n",
    "    return 1/(z*z)\n",
    "\n",
    "%timeit func_CW30(Re,epsD)\n",
    "z_=func_CW30(Re,epsD)\n",
    "\n",
    "#AMD 3500u:\n",
    "#5.55 s ± 279 ms per loop (mean ± std. dev. of 7 runs, 1 loop each)\n",
    "\n",
    "#Intel core 2 duo p8600? \n",
    "#15.4 s ± 1.92 s per loop (mean ± std. dev. of 7 runs, 1 loop each)\n",
    "\n",
    "#3610qm\n",
    "#5.76 s ± 289 ms per loop (mean ± std. dev. of 7 runs, 1 loop each)"
   ]
  },
  {
   "cell_type": "code",
   "execution_count": 19,
   "metadata": {},
   "outputs": [],
   "source": [
    "AA=1/np.sqrt(z_)+2/np.log(10)*np.log(epsD/3.7+2.51/(Re*np.sqrt(z_)))"
   ]
  },
  {
   "cell_type": "code",
   "execution_count": 20,
   "metadata": {},
   "outputs": [
    {
     "data": {
      "text/plain": [
       "3.552713678800501e-13"
      ]
     },
     "execution_count": 20,
     "metadata": {},
     "output_type": "execute_result"
    }
   ],
   "source": [
    "max(abs(AA))*100"
   ]
  },
  {
   "cell_type": "code",
   "execution_count": 21,
   "metadata": {},
   "outputs": [
    {
     "name": "stdout",
     "output_type": "stream",
     "text": [
      "1.25 s ± 67.5 ms per loop (mean ± std. dev. of 7 runs, 1 loop each)\n",
      "max abs rel err = 0.012977505889940028 %\n"
     ]
    }
   ],
   "source": [
    "def func_CW5(Re,epsD):\n",
    "\n",
    "    z=-8.6*np.ones(len(Re))\n",
    "    y1=epsD/3.7\n",
    "    y2=(-2/np.log(10)*2.51)/Re\n",
    "\n",
    "\n",
    "    z=np.log(y1+y2*np.log(y1+y2*np.log(y1+y2*np.log(y1+y2*np.log(y1+y2*z)))))\n",
    "    z=(-2/np.log(10))*z\n",
    "    return 1/(z*z)\n",
    "\n",
    "%timeit func_CW5(Re,epsD)\n",
    "z_hat=func_CW5(Re,epsD)\n",
    "\n",
    "\n",
    "print('max abs rel err =',max(abs((z_-z_hat)/z_))*100,'%')\n",
    "\n",
    "# AMD 3500u\n",
    "# 1.1 s ± 31.4 ms per loop (mean ± std. dev. of 7 runs, 1 loop each)\n",
    "# max abs rel err = 0.012977203796425436 %\n",
    "\n",
    "#Intel core 2 duo\n",
    "# 3.06 s ± 238 ms per loop (mean ± std. dev. of 7 runs, 1 loop each)\n",
    "# max abs rel err = 0.012976754921686231 %\n",
    "\n",
    "#3610qm\n",
    "#1.1 s ± 13.8 ms per loop (mean ± std. dev. of 7 runs, 1 loop each)\n",
    "#max abs rel err = 0.01297598255585404 %"
   ]
  },
  {
   "cell_type": "code",
   "execution_count": 22,
   "metadata": {},
   "outputs": [
    {
     "data": {
      "text/plain": [
       "99999839.3877693"
      ]
     },
     "execution_count": 22,
     "metadata": {},
     "output_type": "execute_result"
    }
   ],
   "source": [
    "max(Re)"
   ]
  },
  {
   "cell_type": "code",
   "execution_count": null,
   "metadata": {},
   "outputs": [],
   "source": []
  },
  {
   "cell_type": "code",
   "execution_count": null,
   "metadata": {},
   "outputs": [],
   "source": []
  },
  {
   "cell_type": "code",
   "execution_count": null,
   "metadata": {},
   "outputs": [],
   "source": []
  },
  {
   "cell_type": "code",
   "execution_count": 23,
   "metadata": {},
   "outputs": [
    {
     "name": "stdout",
     "output_type": "stream",
     "text": [
      "573 ms ± 43.3 ms per loop (mean ± std. dev. of 7 runs, 1 loop each)\n",
      "max abs rel err = 0.012977505889940028 %\n"
     ]
    }
   ],
   "source": [
    "def func_CW5_numexpr(Re,epsD):\n",
    "    oo=np.ones(len(Re))\n",
    "    z=numexpr.evaluate('-8.6*oo')\n",
    "    y1=numexpr.evaluate('epsD/3.7')\n",
    "    y2=numexpr.evaluate('(-2/log(10)*2.51)/Re')\n",
    "\n",
    "    z=numexpr.evaluate('log(y1+y2*log(y1+y2*log(y1+y2*log(y1+y2*log(y1+y2*z)))))')\n",
    "    z=numexpr.evaluate('(-2/log(10))*z')\n",
    "    return numexpr.evaluate('1/(z*z)')\n",
    "\n",
    "%timeit func_CW5_numexpr(Re,epsD)\n",
    "z_hat=func_CW5_numexpr(Re,epsD)\n",
    "\n",
    "\n",
    "print('max abs rel err =',max(abs((z_-z_hat)/z_))*100,'%')\n",
    "\n",
    "# AMD 3500u\n",
    "# 347 ms ± 10.6 ms per loop (mean ± std. dev. of 7 runs, 1 loop each)\n",
    "# max abs rel err = 0.012977203796425436 %\n",
    "\n",
    "#intel core 2 duo\n",
    "# 877 ms ± 21.3 ms per loop (mean ± std. dev. of 7 runs, 1 loop each)\n",
    "# max abs rel err = 0.012976754921686231 %\n",
    "\n",
    "#3610qm\n",
    "#507 ms ± 9.29 ms per loop (mean ± std. dev. of 7 runs, 1 loop each)\n",
    "#max abs rel err = 0.01297598255585404 %"
   ]
  },
  {
   "cell_type": "code",
   "execution_count": 24,
   "metadata": {},
   "outputs": [
    {
     "name": "stdout",
     "output_type": "stream",
     "text": [
      "82.1 ms ± 11.1 ms per loop (mean ± std. dev. of 7 runs, 1 loop each)\n",
      "max abs rel err = 0.012977505889940028 %\n"
     ]
    }
   ],
   "source": [
    "@njit(parallel=True)\n",
    "def func_CW5_numba(Re,epsD):\n",
    "\n",
    "    z=-8.6*np.ones(len(Re))\n",
    "    y1=epsD/3.7\n",
    "    y2=(-2/np.log(10)*2.51)/Re\n",
    "\n",
    "\n",
    "    z=np.log(y1+y2*np.log(y1+y2*np.log(y1+y2*np.log(y1+y2*np.log(y1+y2*z)))))\n",
    "    z=(-2/np.log(10))*z\n",
    "    return 1/(z*z)\n",
    "\n",
    "%timeit func_CW5_numba(Re,epsD)\n",
    "z_hat=func_CW5_numba(Re,epsD)\n",
    "\n",
    "\n",
    "print('max abs rel err =',max(abs((z_-z_hat)/z_))*100,'%')\n",
    "\n",
    "# AMD 3500u\n",
    "# 121 ms ± 7.8 ms per loop (mean ± std. dev. of 7 runs, 1 loop each)\n",
    "# max abs rel err = 0.012977203796425436 %\n",
    "\n",
    "#Intel core 2 duo\n",
    "# 566 ms ± 140 ms per loop (mean ± std. dev. of 7 runs, 1 loop each)\n",
    "# max abs rel err = 0.012976754921686231 %\n",
    "\n",
    "#3610qm\n",
    "#81.9 ms ± 10.2 ms per loop (mean ± std. dev. of 7 runs, 1 loop each)\n",
    "#max abs rel err = 0.01297598255585404 %"
   ]
  },
  {
   "cell_type": "code",
   "execution_count": null,
   "metadata": {},
   "outputs": [],
   "source": []
  },
  {
   "cell_type": "code",
   "execution_count": null,
   "metadata": {},
   "outputs": [],
   "source": []
  }
 ],
 "metadata": {
  "kernelspec": {
   "display_name": "Python 3",
   "language": "python",
   "name": "python3"
  },
  "language_info": {
   "codemirror_mode": {
    "name": "ipython",
    "version": 3
   },
   "file_extension": ".py",
   "mimetype": "text/x-python",
   "name": "python",
   "nbconvert_exporter": "python",
   "pygments_lexer": "ipython3",
   "version": "3.7.8"
  }
 },
 "nbformat": 4,
 "nbformat_minor": 4
}
