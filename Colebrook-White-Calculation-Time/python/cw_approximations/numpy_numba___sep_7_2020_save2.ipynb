{
 "cells": [
  {
   "cell_type": "code",
   "execution_count": 1,
   "metadata": {},
   "outputs": [],
   "source": [
    "import numpy as np\n",
    "from numba import jit, njit, vectorize, cfunc"
   ]
  },
  {
   "cell_type": "code",
   "execution_count": 2,
   "metadata": {},
   "outputs": [],
   "source": [
    "N=10000000\n",
    "#N=1000000\n",
    "#N=100000\n",
    "#N=10000\n",
    "#N=1000\n",
    "#N=100"
   ]
  },
  {
   "cell_type": "code",
   "execution_count": 3,
   "metadata": {},
   "outputs": [],
   "source": [
    "a=np.random.rand(N)\n",
    "b=np.random.rand(N)\n",
    "\n",
    "\n",
    "Re=4000*np.exp(np.log(1e8/4000)*np.random.rand(N))\n",
    "epsD=1e-6*np.exp(np.log(0.05/1e-6)*np.random.rand(N))\n"
   ]
  },
  {
   "cell_type": "code",
   "execution_count": null,
   "metadata": {},
   "outputs": [],
   "source": []
  },
  {
   "cell_type": "code",
   "execution_count": 4,
   "metadata": {},
   "outputs": [],
   "source": [
    "@njit(parallel=True)\n",
    "def f_sum(Re,epsD):\n",
    "    return Re+epsD\n",
    "\n",
    "@njit(parallel=True)\n",
    "def f_mult(Re,epsD):\n",
    "    return Re*epsD\n",
    "\n",
    "@jit(parallel=True)\n",
    "def f_mult6(Re,epsD):\n",
    "    for i in range(6):\n",
    "        Re*epsD\n",
    "    return Re*epsD\n",
    "\n",
    "@jit(parallel=True)\n",
    "def f_log(Re,epsD):  \n",
    "    return np.log(Re)\n",
    "\n",
    "#@jit(parallel=True)\n",
    "def f_where(Re,epsD):  \n",
    "    z=np.where(Re>1e5)*1+np.where(Re<1e5)*2"
   ]
  },
  {
   "cell_type": "code",
   "execution_count": 5,
   "metadata": {},
   "outputs": [],
   "source": [
    "NN=16\n",
    "name_=['' for i in range(NN+1)]\n",
    "time_=np.zeros(NN+1)\n",
    "MARE_=np.zeros(NN+1)"
   ]
  },
  {
   "cell_type": "code",
   "execution_count": 6,
   "metadata": {},
   "outputs": [],
   "source": [
    "name_[0]='swamee jain'\n",
    "@njit(parallel=True)\n",
    "def f_0(Re,epsD): \n",
    "    z=np.log(epsD/3.7+5.74/np.exp(0.9*np.log(Re)))\n",
    "    return 1.3254745276195998/(z*z) #0.25*np.power(np.log(10),2)\n",
    "\n",
    "name_[1]='cw30'\n",
    "@njit(parallel=True)\n",
    "def f_1(Re,epsD):\n",
    "    z=-8.6\n",
    "    y1=epsD/3.7\n",
    "    y2=-2.1801582991543236/Re   #(-2/np.log(10)*2.51)\n",
    "    #manual unrolling \n",
    "    z=np.log(y1+y2*np.log(y1+y2*np.log(y1+y2*np.log(y1+y2*np.log(y1+y2*z)))))\n",
    "    z=np.log(y1+y2*np.log(y1+y2*np.log(y1+y2*np.log(y1+y2*np.log(y1+y2*z)))))\n",
    "    z=np.log(y1+y2*np.log(y1+y2*np.log(y1+y2*np.log(y1+y2*np.log(y1+y2*z)))))\n",
    "    z=np.log(y1+y2*np.log(y1+y2*np.log(y1+y2*np.log(y1+y2*np.log(y1+y2*z)))))\n",
    "    z=np.log(y1+y2*np.log(y1+y2*np.log(y1+y2*np.log(y1+y2*np.log(y1+y2*z)))))\n",
    "    z=np.log(y1+y2*np.log(y1+y2*np.log(y1+y2*np.log(y1+y2*np.log(y1+y2*z)))))\n",
    "    return 1.3254745276195998/(z*z) #1/np.power((-2/np.log(10)),2)\n",
    "\n",
    "name_[2]='cw5'\n",
    "@njit(parallel=True)\n",
    "def f_2(Re,epsD):\n",
    "    z=-8.6\n",
    "    y1=epsD/3.7\n",
    "    y2=-2.1801582991543236/Re   #(-2/np.log(10)*2.51)\n",
    "    z=np.log(y1+y2*np.log(y1+y2*np.log(y1+y2*np.log(y1+y2*np.log(y1+y2*z)))))\n",
    "    return 1.3254745276195998/(z*z) #1/np.power((-2/np.log(10)),2)\n",
    "\n",
    "\n",
    "name_[3]='goudar-sonnad'\n",
    "@jit(parallel=True)\n",
    "def f_3(Re,epsD): #'Goudar–Sonnad'\n",
    "    #\n",
    "    a_=2/np.log(10)\n",
    "    b_=epsD/3.7\n",
    "    d_=np.log(10)*Re/5.02\n",
    "    s_=b_*d_+np.log(d_)\n",
    "    q_=np.exp(np.log(s_)*s_/(s_+1))\n",
    "    #q_=np.power(s_,s_/(s_+1))\n",
    "    g_=b_*d_+np.log(d_/q_)\n",
    "    z_=np.log(q_/g_)\n",
    "    dla_=z_*g_/(g_+1)\n",
    "    dcfa_=dla_*(1+(z_/2)/((g_+1)*(g_+1)+z_/3*(2*g_-1)))\n",
    "    f=a_*(np.log(d_/q_)+dcfa_)\n",
    "    f=1/(f*f)\n",
    "    #\n",
    "    return f\n",
    "\n",
    "name_[4]='haaland_1983'\n",
    "@jit(parallel=True)\n",
    "def f_4(Re,epsD): \n",
    "    f=np.log10(epsD/3.7+np.exp(np.log(7/Re)*0.9))\n",
    "    f=0.25/(f*f)\n",
    "    #\n",
    "    return f\n",
    "\n",
    "name_[5]='Barr1981'\n",
    "@jit(parallel=True)\n",
    "def f_5(Re,epsD): \n",
    "    y1=-2*np.log10(epsD/3.7+4.518*np.log10(Re/7)/(Re*(1+np.exp(np.log(Re)*0.52)/29*np.exp(np.log(epsD)*0.7))))\n",
    "    f=1/(y1*y1)\n",
    "    #\n",
    "    return f\n",
    "\n",
    "name_[6]='serghides1984'\n",
    "@jit(parallel=True)\n",
    "def f_6(Re,epsD): \n",
    "    y1=epsD/3.7\n",
    "    y2=-0.8685889638065035*np.log(y1+12/Re)   #2/np.log(10)\n",
    "    y3=-0.8685889638065035*np.log(y1+2.51*y2/Re)\n",
    "    y4=-0.8685889638065035*np.log(y1+2.51*y3/Re)\n",
    "    f=y2-(y3-y2)*(y3-y2)/(y4-2*y3+y2)\n",
    "    #\n",
    "    return 1/(f*f)\n",
    "\n",
    "name_[7]='Vatankhah_K_08'\n",
    "@jit(parallel=True)\n",
    "def f_7(Re,epsD): \n",
    "    y1=0.124*Re*epsD+np.log(0.4587*Re)\n",
    "    f=0.8686*np.log(0.4587*Re/(np.exp(np.log(y1-0.31)*y1/(y1+0.9633))))\n",
    "    return 1/(f*f)\n",
    "\n",
    "name_[8]='zig1982'\n",
    "@jit(parallel=True)\n",
    "def f_8(Re,epsD): \n",
    "    y1=epsD/3.7-5.02/Re*np.log10(epsD/3.7-5.02/Re*np.log10(epsD/3.7+13/Re))\n",
    "    f=-0.8685889638065035*np.log(y1)\n",
    "    f=1/(f*f)\n",
    "    f=np.log10(2.51/(Re*np.sqrt(f))+epsD/3.7)\n",
    "    return 0.25/(f*f)\n",
    "\n",
    "name_[9]='S.Alashkar_2012'\n",
    "@jit(parallel=True)\n",
    "def f_9(Re,epsD): \n",
    "    y1=epsD/3.7065\n",
    "    y2=2.5226/Re\n",
    "    f=np.log(y1-0.8686068432*y2*np.log(y1-0.8784893582*y2*np.log(y1+np.exp(np.log(1.665368035*y2)*0.8373492157))))\n",
    "    return 1.325474505/(f*f)\n",
    "\n",
    "name_[10]='Fang 2011'\n",
    "@jit(parallel=True)\n",
    "def f_10(Re,epsD): \n",
    "    y1=0.234*np.exp(np.log(epsD)*1.1007)\n",
    "    y2=-60.525*np.exp(np.log(Re)*-1.1105)\n",
    "    y3=56.291*np.exp(np.log(Re)*-1.0712)\n",
    "    f=np.log(y1+y2+y3)\n",
    "    return 1.613/(f*f)\n",
    "\n",
    "name_[11]='Evangelides'\n",
    "@jit(parallel=True)\n",
    "def f_11(Re,epsD): \n",
    "    y1=7-np.log10(Re)\n",
    "    y1=y1*y1*y1*y1\n",
    "    y1=0.2479-0.0000947*y1\n",
    "    y2=np.log10(epsD/3.615+7.366*np.exp(np.log(Re)*-0.9142))\n",
    "    return y1/(y2*y2)\n",
    "\n",
    "name_[12]='vatan19'\n",
    "@jit(parallel=True)\n",
    "def f_12(Re,epsD): \n",
    "    y1=0.8685889638065035 #2/np.log(10)  -a\n",
    "    y2=0.39840637450199207 #1/2.51  -a1\n",
    "    y3=0.12363404028060514  #   a2\n",
    "    y4=y3*Re*epsD+np.log(Re/2.51) #s\n",
    "    y5=1+0.49959/((y4+1)/np.log(y1*y4)-(1+5.448*y4)/(8*(y4+1))) #lambda\n",
    "    f=y1*np.log(y2*Re)-y1*y4/(y4+y5)*np.log(y1*y4)\n",
    "    return 1/(f*f)\n",
    "\n",
    "name_[13]='newton2'\n",
    "@jit(parallel=True)\n",
    "def f_13(Re,epsD): \n",
    "    z_=-6.880288946433447 #1/sqrt(0.028)*log(10)/(-2)\n",
    "    y1=epsD/3.7\n",
    "    y2=-2.180158299154324/Re     #-2/log(10)*2,51\n",
    "    z_=z_-(z_-np.log(y1+y2*z_))/(1-y2/(y1+y2*z_))\n",
    "    z_=z_-(z_-np.log(y1+y2*z_))/(1-y2/(y1+y2*z_))\n",
    "    return 1.325474527619600/(z_*z_)  #(ln(10)/(-2))^2\n",
    "\n",
    "name_[14]='Newton_CW_5iter'\n",
    "@jit(parallel=True)\n",
    "def f_14(Re,epsD): \n",
    "    z_=-6.880288946433447 #1/sqrt(0.028)*log(10)/(-2)\n",
    "    y1=epsD/3.7\n",
    "    y2=-2.180158299154324/Re     #-2/log(10)*2,51\n",
    "    z_=z_-(z_-np.log(y1+y2*z_))/(1-y2/(y1+y2*z_))\n",
    "    z_=z_-(z_-np.log(y1+y2*z_))/(1-y2/(y1+y2*z_))\n",
    "    z_=z_-(z_-np.log(y1+y2*z_))/(1-y2/(y1+y2*z_))\n",
    "    z_=z_-(z_-np.log(y1+y2*z_))/(1-y2/(y1+y2*z_))\n",
    "    z_=z_-(z_-np.log(y1+y2*z_))/(1-y2/(y1+y2*z_))\n",
    "    return 1.325474527619600/(z_*z_)  #(ln(10)/(-2))^2\n",
    "\n",
    "name_[15]='Halley_CW_4iter'\n",
    "@jit(parallel=True)\n",
    "def f_15(Re,epsD): \n",
    "    z_=-6.880288946433447 #1/sqrt(0.028)*log(10)/(-2)\n",
    "    y1=epsD/3.7\n",
    "    y2=-2.180158299154324/Re #-2/log(10)*2,51\n",
    "    f_=0\n",
    "    temp=0\n",
    "    fp_=0\n",
    "    fpp_=0\n",
    "    #\n",
    "    f_=z_-np.log(y1+y2*z_)\n",
    "    temp=y2/(y1+y2*z_)\n",
    "    fp_=1-temp\n",
    "    fpp_=-temp*temp\n",
    "    z_=z_-2*f_*fp_/(2*fp_*fp_-f_*fpp_)\n",
    "    #\n",
    "    f_=z_-np.log(y1+y2*z_)\n",
    "    temp=y2/(y1+y2*z_)\n",
    "    fp_=1-temp\n",
    "    fpp_=-temp*temp\n",
    "    z_=z_-2*f_*fp_/(2*fp_*fp_-f_*fpp_)\n",
    "    #\n",
    "    f_=z_-np.log(y1+y2*z_)\n",
    "    temp=y2/(y1+y2*z_)\n",
    "    fp_=1-temp\n",
    "    fpp_=-temp*temp\n",
    "    z_=z_-2*f_*fp_/(2*fp_*fp_-f_*fpp_)\n",
    "    #\n",
    "    f_=z_-np.log(y1+y2*z_)\n",
    "    temp=y2/(y1+y2*z_)\n",
    "    fp_=1-temp\n",
    "    fpp_=-temp*temp\n",
    "    z_=z_-2*f_*fp_/(2*fp_*fp_-f_*fpp_)\n",
    "    #\n",
    "    return 1.325474527619600/(z_*z_)  #(ln(10)/(-2))^2\n",
    "    \n",
    "name_[16]='Praks'\n",
    "@jit(parallel=True)\n",
    "def f_16(Re,epsD): \n",
    "    a=-0.8685889638065035#(2/np.log(10))\n",
    "    delta_=74205.5+1000*epsD*Re\n",
    "    A=8-a*np.log(16/Re+epsD/3.7)\n",
    "    B=-74914381.46/(delta_*delta_)\n",
    "    C=1391459721232.67/(delta_*delta_*delta_)\n",
    "    z_=8-A-0.5*A*A*B\n",
    "    z_=a*np.log(2.51/Re*z_+epsD/3.7)\n",
    "    z_=a*np.log(2.51/Re*z_+epsD/3.7)\n",
    "    z_=a*np.log(2.51/Re*z_+epsD/3.7)\n",
    "    #\n",
    "    return 1/(z_*z_) #%(ln(10)/(-2))^2"
   ]
  },
  {
   "cell_type": "code",
   "execution_count": 7,
   "metadata": {},
   "outputs": [],
   "source": [
    "\n",
    "def f_(Re,epsD,no_):\n",
    "    if   no_==0:\n",
    "        return f_0(Re,epsD)\n",
    "    elif no_==1:\n",
    "        return f_1(Re,epsD)\n",
    "    elif no_==2:\n",
    "        return f_2(Re,epsD)\n",
    "    elif no_==3:\n",
    "        return f_3(Re,epsD)\n",
    "    elif no_==4:\n",
    "        return f_4(Re,epsD)\n",
    "    elif no_==5:\n",
    "        return f_5(Re,epsD)\n",
    "    elif no_==6:\n",
    "        return f_6(Re,epsD)\n",
    "    elif no_==7:\n",
    "        return f_7(Re,epsD)\n",
    "    elif no_==8:\n",
    "        return f_8(Re,epsD)\n",
    "    elif no_==9:\n",
    "        return f_9(Re,epsD)\n",
    "    elif no_==10:\n",
    "        return f_10(Re,epsD)\n",
    "    elif no_==11:\n",
    "        return f_11(Re,epsD)\n",
    "    elif no_==12:\n",
    "        return f_12(Re,epsD)\n",
    "    elif no_==13:\n",
    "        return f_13(Re,epsD)\n",
    "    elif no_==14:\n",
    "        return f_14(Re,epsD)\n",
    "    elif no_==15:\n",
    "        return f_15(Re,epsD)\n",
    "    elif no_==16:\n",
    "        return f_16(Re,epsD)    "
   ]
  },
  {
   "cell_type": "code",
   "execution_count": null,
   "metadata": {},
   "outputs": [],
   "source": []
  },
  {
   "cell_type": "code",
   "execution_count": 8,
   "metadata": {},
   "outputs": [
    {
     "name": "stdout",
     "output_type": "stream",
     "text": [
      "check accuracy with CW\n"
     ]
    }
   ],
   "source": [
    "print('check accuracy with CW')\n",
    "@njit(parallel=True)\n",
    "def func_errCW(Re,epsD,z_):\n",
    "    AA=1/np.sqrt(z_)+2/np.log(10)*np.log(epsD/3.7+2.51/(Re*np.sqrt(z_)))\n",
    "    print('cw err=', np.max(np.abs(AA))*100,'%')\n",
    "\n",
    "def func_err(z_,z_hat):\n",
    "    return max(abs((z_-z_hat)/z_))*100"
   ]
  },
  {
   "cell_type": "code",
   "execution_count": 9,
   "metadata": {},
   "outputs": [
    {
     "name": "stdout",
     "output_type": "stream",
     "text": [
      "cw err= 3.552713678800501e-13 %\n"
     ]
    }
   ],
   "source": [
    "z_=f_(Re,epsD,1)\n",
    "func_errCW(Re,epsD,z_)"
   ]
  },
  {
   "cell_type": "code",
   "execution_count": 10,
   "metadata": {},
   "outputs": [
    {
     "name": "stdout",
     "output_type": "stream",
     "text": [
      "103 ms ± 8.52 ms per loop (mean ± std. dev. of 7 runs, 1 loop each)\n",
      "919 ms ± 59.3 ms per loop (mean ± std. dev. of 7 runs, 1 loop each)\n",
      "151 ms ± 5.83 ms per loop (mean ± std. dev. of 7 runs, 1 loop each)\n",
      "173 ms ± 3.09 ms per loop (mean ± std. dev. of 7 runs, 1 loop each)\n",
      "125 ms ± 20.5 ms per loop (mean ± std. dev. of 7 runs, 1 loop each)\n",
      "247 ms ± 8.44 ms per loop (mean ± std. dev. of 7 runs, 1 loop each)\n",
      "116 ms ± 9.99 ms per loop (mean ± std. dev. of 7 runs, 1 loop each)\n",
      "165 ms ± 19.5 ms per loop (mean ± std. dev. of 7 runs, 1 loop each)\n",
      "188 ms ± 24.8 ms per loop (mean ± std. dev. of 7 runs, 1 loop each)\n",
      "164 ms ± 14.2 ms per loop (mean ± std. dev. of 7 runs, 1 loop each)\n",
      "191 ms ± 33.7 ms per loop (mean ± std. dev. of 7 runs, 1 loop each)\n",
      "184 ms ± 11 ms per loop (mean ± std. dev. of 7 runs, 1 loop each)\n",
      "130 ms ± 19.9 ms per loop (mean ± std. dev. of 7 runs, 1 loop each)\n",
      "89.9 ms ± 8.15 ms per loop (mean ± std. dev. of 7 runs, 1 loop each)\n",
      "205 ms ± 18 ms per loop (mean ± std. dev. of 7 runs, 1 loop each)\n",
      "171 ms ± 6.93 ms per loop (mean ± std. dev. of 7 runs, 1 loop each)\n",
      "140 ms ± 4.29 ms per loop (mean ± std. dev. of 7 runs, 1 loop each)\n"
     ]
    }
   ],
   "source": [
    "for i in range(NN+1):\n",
    "    result = %timeit -o f_(Re,epsD,i)\n",
    "    time_[i]=result.average\n",
    "    MARE_[i]=func_err(z_,f_(Re,epsD,i))    \n"
   ]
  },
  {
   "cell_type": "code",
   "execution_count": 11,
   "metadata": {},
   "outputs": [
    {
     "name": "stdout",
     "output_type": "stream",
     "text": [
      "python-numba-numpy-intel 3610qm-N= 10000000\n",
      "         swamee jain \t,t=\t 0.10292 \ts,t/t_SJ=\t 1.0 \t,err=\t 3.358037925455073 \t%\n",
      "                cw30 \t,t=\t 0.918728 \ts,t/t_SJ=\t 8.927 \t,err=\t 0.0 \t%\n",
      "                 cw5 \t,t=\t 0.15105 \ts,t/t_SJ=\t 1.468 \t,err=\t 0.012977877765717082 \t%\n",
      "       goudar-sonnad \t,t=\t 0.172981 \ts,t/t_SJ=\t 1.681 \t,err=\t 1.0368113138723236e-10 \t%\n",
      "        haaland_1983 \t,t=\t 0.12503 \ts,t/t_SJ=\t 1.215 \t,err=\t 3.418743204774515 \t%\n",
      "            Barr1981 \t,t=\t 0.247352 \ts,t/t_SJ=\t 2.403 \t,err=\t 0.5336528305845375 \t%\n",
      "       serghides1984 \t,t=\t 0.116101 \ts,t/t_SJ=\t 1.128 \t,err=\t 0.003099109818555796 \t%\n",
      "      Vatankhah_K_08 \t,t=\t 0.164643 \ts,t/t_SJ=\t 1.6 \t,err=\t 0.05154592909575923 \t%\n",
      "             zig1982 \t,t=\t 0.18758 \ts,t/t_SJ=\t 1.823 \t,err=\t 0.014312969411736008 \t%\n",
      "     S.Alashkar_2012 \t,t=\t 0.163789 \ts,t/t_SJ=\t 1.591 \t,err=\t 0.11916004696711836 \t%\n",
      "           Fang 2011 \t,t=\t 0.191498 \ts,t/t_SJ=\t 1.861 \t,err=\t 0.4907904155389456 \t%\n",
      "         Evangelides \t,t=\t 0.184288 \ts,t/t_SJ=\t 1.791 \t,err=\t 0.8087913980483231 \t%\n",
      "             vatan19 \t,t=\t 0.130436 \ts,t/t_SJ=\t 1.267 \t,err=\t 0.12529989661772103 \t%\n",
      "             newton2 \t,t=\t 0.089929 \ts,t/t_SJ=\t 0.874 \t,err=\t 0.0010535774400079949 \t%\n",
      "     Newton_CW_5iter \t,t=\t 0.204528 \ts,t/t_SJ=\t 1.987 \t,err=\t 9.458171665238968e-14 \t%\n",
      "     Halley_CW_4iter \t,t=\t 0.170928 \ts,t/t_SJ=\t 1.661 \t,err=\t 9.458171665238968e-14 \t%\n",
      "               Praks \t,t=\t 0.140139 \ts,t/t_SJ=\t 1.362 \t,err=\t 0.029586928978512655 \t%\n"
     ]
    }
   ],
   "source": [
    "print('python-numba-numpy-intel 3610qm-N=',N)\n",
    "\n",
    "for i in range(NN+1):\n",
    "    print('%20s'%name_[i],'\\t,t=\\t',round(time_[i],6),'\\ts,t/t_SJ=\\t',round(time_[i]/time_[0],3),'\\t,err=\\t',MARE_[i],'\\t%')\n",
    "    \n"
   ]
  },
  {
   "cell_type": "code",
   "execution_count": null,
   "metadata": {},
   "outputs": [],
   "source": []
  },
  {
   "cell_type": "code",
   "execution_count": 12,
   "metadata": {},
   "outputs": [],
   "source": [
    "#approximating log\n",
    "\n",
    "#@jit\n",
    "#def f(x):\n",
    "    #y1=np.sqrt(x)\n",
    "    #return -0.00911977367379447+0.0201791446960595*x-(0.92930823536411+0.0353105579811749*x+174.249927598629*y1)/(0.0584091431932963+184.459217046452*x+21.5475391442964*y1)\n",
    "    #return -14.25054935+-139.9443694*y1+-0.001494028/y1+65.07628527*np.sqrt(y1)+302.9462386*x\n",
    "    #return -0.00913491794126033+0.0201609704451216*x+-6.07070882259017*y1-(0.714558523718348+0.0353136870008399*x+191.855385668806*y1)/(0.0437599551230402+277.769273975508*x+21.6866445747455*y1)\n",
    "    #xx=x/0.015752447\n",
    "    #return -18.3320571697832+3.90142400857296*xx+(0.0931048343272263+91.2488786280689*xx)/(0.0189822790005925+8.0723529251094*xx)\n",
    "\n",
    "    "
   ]
  },
  {
   "cell_type": "code",
   "execution_count": 190,
   "metadata": {},
   "outputs": [
    {
     "name": "stdout",
     "output_type": "stream",
     "text": [
      "81.6 ms ± 7.49 ms per loop (mean ± std. dev. of 7 runs, 1 loop each)\n",
      "35.7 ms ± 772 µs per loop (mean ± std. dev. of 7 runs, 1 loop each)\n"
     ]
    }
   ],
   "source": [
    "@jit(parallel=True)\n",
    "def f1(z):\n",
    "    y1=np.logical_and(z<0.1    ,z>=0.01)\n",
    "    y2=np.logical_and(z<0.01   ,z>=0.001)\n",
    "    y3=np.logical_and(z<0.001  ,z>=0.0001)\n",
    "    y4=np.logical_and(z<0.0001 ,z>=0.00001)\n",
    "    y5=np.logical_and(z<0.00001,z>=0.000001)\n",
    "    y6=np.logical_and(z<0.000001,z>=0.0000001) \n",
    "    z=-2*y1-3*y2-4*y3-5*y4-6*y5-7*y6\n",
    "    zz=100*y1+1000*y2+10000*y3+100000*y4+1000000*y5+10000000*y6\n",
    "    return z+np.log(zz)\n",
    "\n",
    "def f5(z):\n",
    "    y1=np.floor(np.log10(z))\n",
    "    z=z/np.power(10,y1)\n",
    "    return y1+np.log10(z)\n",
    "\n",
    "@jit(parallel=True)\n",
    "def f2(z):\n",
    "    return np.log(z)\n",
    "\n",
    "@jit(parallel=True)\n",
    "def f3(z):\n",
    "    y1=0.01*(z<0.01)\n",
    "    return y1\n",
    "\n",
    "@jit(parallel=True)\n",
    "def f2(z):\n",
    "    return np.log(z)\n",
    "\n",
    "\n",
    "z1=np.float32(epsD/3.7-2.180158299154324/Re*(-6.8))\n",
    "z2=np.float64(epsD/3.7-2.180158299154324/Re*(-6.8))\n",
    "\n",
    "%timeit f1(z2)\n",
    "%timeit f2(z2)\n",
    "\n"
   ]
  },
  {
   "cell_type": "code",
   "execution_count": 183,
   "metadata": {},
   "outputs": [
    {
     "data": {
      "text/plain": [
       "-4"
      ]
     },
     "execution_count": 183,
     "metadata": {},
     "output_type": "execute_result"
    }
   ],
   "source": [
    "f1(0.00015)"
   ]
  },
  {
   "cell_type": "code",
   "execution_count": 60,
   "metadata": {},
   "outputs": [
    {
     "ename": "TypeError",
     "evalue": "ufunc 'ldexp' not supported for the input types, and the inputs could not be safely coerced to any supported types according to the casting rule ''safe''",
     "output_type": "error",
     "traceback": [
      "\u001b[1;31m---------------------------------------------------------------------------\u001b[0m",
      "\u001b[1;31mTypeError\u001b[0m                                 Traceback (most recent call last)",
      "\u001b[1;32m<ipython-input-60-8ec5098d800e>\u001b[0m in \u001b[0;36m<module>\u001b[1;34m\u001b[0m\n\u001b[1;32m----> 1\u001b[1;33m \u001b[0mnp\u001b[0m\u001b[1;33m.\u001b[0m\u001b[0mldexp\u001b[0m\u001b[1;33m(\u001b[0m\u001b[1;36m5\u001b[0m\u001b[1;33m,\u001b[0m \u001b[0mRe\u001b[0m\u001b[1;33m)\u001b[0m\u001b[1;33m\u001b[0m\u001b[1;33m\u001b[0m\u001b[0m\n\u001b[0m",
      "\u001b[1;31mTypeError\u001b[0m: ufunc 'ldexp' not supported for the input types, and the inputs could not be safely coerced to any supported types according to the casting rule ''safe''"
     ]
    }
   ],
   "source": [
    "np.ldexp(5, Re)\n"
   ]
  },
  {
   "cell_type": "code",
   "execution_count": 62,
   "metadata": {},
   "outputs": [
    {
     "data": {
      "text/plain": [
       "2.3978952727983707"
      ]
     },
     "execution_count": 62,
     "metadata": {},
     "output_type": "execute_result"
    }
   ],
   "source": [
    "np.log1p(10)"
   ]
  },
  {
   "cell_type": "code",
   "execution_count": 63,
   "metadata": {},
   "outputs": [
    {
     "data": {
      "text/plain": [
       "2.302585092994046"
      ]
     },
     "execution_count": 63,
     "metadata": {},
     "output_type": "execute_result"
    }
   ],
   "source": [
    "np.log(10)\n"
   ]
  },
  {
   "cell_type": "code",
   "execution_count": 67,
   "metadata": {},
   "outputs": [
    {
     "data": {
      "text/plain": [
       "8.726646259971648"
      ]
     },
     "execution_count": 67,
     "metadata": {},
     "output_type": "execute_result"
    }
   ],
   "source": [
    "np.radians(500)"
   ]
  },
  {
   "cell_type": "code",
   "execution_count": 161,
   "metadata": {},
   "outputs": [
    {
     "data": {
      "text/plain": [
       "0.26236426446749106"
      ]
     },
     "execution_count": 161,
     "metadata": {},
     "output_type": "execute_result"
    }
   ],
   "source": [
    "np.log(1.3,dtype='float32')"
   ]
  },
  {
   "cell_type": "code",
   "execution_count": null,
   "metadata": {},
   "outputs": [],
   "source": []
  }
 ],
 "metadata": {
  "kernelspec": {
   "display_name": "Python 3",
   "language": "python",
   "name": "python3"
  },
  "language_info": {
   "codemirror_mode": {
    "name": "ipython",
    "version": 3
   },
   "file_extension": ".py",
   "mimetype": "text/x-python",
   "name": "python",
   "nbconvert_exporter": "python",
   "pygments_lexer": "ipython3",
   "version": "3.8.5"
  }
 },
 "nbformat": 4,
 "nbformat_minor": 4
}
