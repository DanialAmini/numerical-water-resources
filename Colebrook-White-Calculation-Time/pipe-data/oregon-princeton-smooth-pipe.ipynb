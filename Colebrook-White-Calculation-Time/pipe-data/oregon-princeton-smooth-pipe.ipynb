{
 "cells": [
  {
   "cell_type": "code",
   "execution_count": 1,
   "id": "be479964",
   "metadata": {},
   "outputs": [],
   "source": [
    "%reset -f\n"
   ]
  },
  {
   "cell_type": "code",
   "execution_count": 19,
   "id": "75804e0e",
   "metadata": {},
   "outputs": [],
   "source": [
    "import numpy as np\n",
    "import matplotlib.pyplot as plt"
   ]
  },
  {
   "cell_type": "code",
   "execution_count": 3,
   "id": "8ca54d78",
   "metadata": {},
   "outputs": [],
   "source": [
    "oregon_smooth=np.array([[11.21,5.537],[20.22,3.492],[29.28,2.329],[43.19,1.523],[57.73,1.173],\n",
    "[64.58,0.9863],[86.05,0.7826],[113.3,0.5709],[135.3,0.4815],[157.5,0.4182],[179.4,0.3655],\n",
    "[206.4,0.3237],[228,0.2884],[270.9,0.2433],[315.2,0.2077],[358.9,0.1834],[402.9,0.1656],[450.2,0.1475],\n",
    "[522.5,0.1245],[583.1,0.1126],[671.8,0.09917],[789.8,0.08501],[891,0.07722],[1013,0.06707],[1197,0.0588],\n",
    "[1300,0.05328],[1390,0.04815],[1669,0.04304],[1994,0.03739],[2227,0.03405],[2554,0.03091],[2868,0.02804],\n",
    "[2903,0.03182],[2926,0.03846],[2955,0.03363],[2991,0.04124],[2997,0.035],[3047,0.03875],[3080,0.04285],\n",
    "[3264,0.0426],[3980,0.03995],[4835,0.03797],[5959,0.0361],[8162,0.03364],[10900,0.03088],[13650,0.02903],\n",
    "[18990,0.0267],[29430,0.02386],[40850,0.02086],[59220,0.02],[84760,0.01805],[120000,0.01686],[176000,0.01594],\n",
    "[237700,0.01511],[298200,0.01462],[467800,0.01365],[587500,0.01313],[824200,0.01244],[1050000,0.01198]])"
   ]
  },
  {
   "cell_type": "code",
   "execution_count": 4,
   "id": "8b781aed",
   "metadata": {},
   "outputs": [],
   "source": [
    "princeton_smooth=np.array([[31310,0.02364],[41440,0.02216],[56360,0.02061],[73970,0.01929],[98460,0.01815],\n",
    "[145600,0.01666],[184800,0.01594],[229600,0.01529],[308500,0.01461],[408100,0.01384],[537800,0.01324],\n",
    "[750700,0.01249],[1024000,0.01183],[1342000,0.01131],[1791000,0.01079],[2352000,0.01028],[3109000,0.00989],\n",
    "[4438000,0.00941],[6103000,0.00897],[7757000,0.00862],[10310000,0.00825],[13680000,0.00798],\n",
    "[18300000,0.00767],[24130000,0.0074],[30150000,0.0072],[35540000,0.00708]])"
   ]
  },
  {
   "cell_type": "code",
   "execution_count": 46,
   "id": "abffa463",
   "metadata": {},
   "outputs": [],
   "source": [
    "alldata=np.concatenate((oregon_smooth,princeton_smooth))\n",
    "#turbulent data only\n",
    "alldata=alldata[alldata[:,0]>4000]\n",
    "Re=alldata[:,0]\n",
    "f=alldata[:,1]\n"
   ]
  },
  {
   "cell_type": "code",
   "execution_count": null,
   "id": "f2513b06",
   "metadata": {},
   "outputs": [],
   "source": []
  },
  {
   "cell_type": "code",
   "execution_count": null,
   "id": "c3ebcd9c",
   "metadata": {},
   "outputs": [],
   "source": []
  },
  {
   "cell_type": "code",
   "execution_count": 47,
   "id": "9a391b9f",
   "metadata": {},
   "outputs": [],
   "source": [
    "fhat=Re*0+0.01"
   ]
  },
  {
   "cell_type": "code",
   "execution_count": 48,
   "id": "eb62270c",
   "metadata": {},
   "outputs": [],
   "source": [
    "for i in range(100):\n",
    "    fhat=1/(2*np.log10(0/3.7+2.51/Re/np.sqrt(fhat)))**2"
   ]
  },
  {
   "cell_type": "code",
   "execution_count": 49,
   "id": "671669ec",
   "metadata": {},
   "outputs": [
    {
     "data": {
      "text/plain": [
       "<matplotlib.collections.PathCollection at 0x21729e8c0a0>"
      ]
     },
     "execution_count": 49,
     "metadata": {},
     "output_type": "execute_result"
    },
    {
     "data": {
      "image/png": "[encoded data removed]",
      "text/plain": [
       "<Figure size 432x288 with 1 Axes>"
      ]
     },
     "metadata": {
      "needs_background": "light"
     },
     "output_type": "display_data"
    }
   ],
   "source": [
    "plt.scatter(f,fhat)"
   ]
  },
  {
   "cell_type": "code",
   "execution_count": null,
   "id": "87a28b26",
   "metadata": {},
   "outputs": [],
   "source": []
  },
  {
   "cell_type": "code",
   "execution_count": null,
   "id": "c1975181",
   "metadata": {},
   "outputs": [],
   "source": []
  },
  {
   "cell_type": "code",
   "execution_count": null,
   "id": "dc9b6693",
   "metadata": {},
   "outputs": [],
   "source": []
  }
 ],
 "metadata": {
  "kernelspec": {
   "display_name": "Python 3 (ipykernel)",
   "language": "python",
   "name": "python3"
  },
  "language_info": {
   "codemirror_mode": {
    "name": "ipython",
    "version": 3
   },
   "file_extension": ".py",
   "mimetype": "text/x-python",
   "name": "python",
   "nbconvert_exporter": "python",
   "pygments_lexer": "ipython3",
   "version": "3.8.6"
  }
 },
 "nbformat": 4,
 "nbformat_minor": 5
}
