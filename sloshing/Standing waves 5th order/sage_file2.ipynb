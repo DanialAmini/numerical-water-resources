{
 "cells": [
  {
   "cell_type": "code",
   "execution_count": 1,
   "metadata": {
    "collapsed": false,
    "deletable": true,
    "editable": true
   },
   "outputs": [
    {
     "data": {
      "text/plain": [
       "30014"
      ]
     },
     "execution_count": 1,
     "metadata": {},
     "output_type": "execute_result"
    }
   ],
   "source": [
    "1+1+30012"
   ]
  },
  {
   "cell_type": "code",
   "execution_count": 2,
   "metadata": {
    "collapsed": true,
    "deletable": true,
    "editable": true
   },
   "outputs": [],
   "source": [
    "reset()\n",
    "\n",
    "from __future__ import print_function"
   ]
  },
  {
   "cell_type": "code",
   "execution_count": 3,
   "metadata": {
    "collapsed": false,
    "deletable": true,
    "editable": true
   },
   "outputs": [],
   "source": [
    "x, y, z, t, ii, i , j, m, q, eps=var('x y z t ii i j m q eps')\n",
    "ii=var('ii')\n",
    "assume(ii,'integer')\n",
    "\n",
    "######################################\n",
    "#q=99941/100000\n",
    "#q=90/100\n",
    "#x=pi/6\n",
    "#t=pi/8\n",
    "\n",
    "A =[[[0 for i in range(1,12)] for j in range(12)] for m in range(12)]\n",
    "B =[[[0 for i in range(1,12)] for j in range(12)] for m in range(12)]\n",
    "C=[0 for i in range (1,12)]\n",
    "D=[0 for i in range(1,12)]\n",
    "for i in range(1,11):\n",
    "    C[i]=var('cc_'+str(i))\n",
    "    D[i]=var('dd_'+str(i))\n",
    "    for j in range(11):\n",
    "        for m in range(11):\n",
    "            A[i][j][m]=var('aa_'+str(i)+'_'+str(j)+'_'+str(m))\n",
    "            B[i][j][m]=var('bb_'+str(i)+'_'+str(j)+'_'+str(m))"
   ]
  },
  {
   "cell_type": "code",
   "execution_count": null,
   "metadata": {
    "collapsed": true,
    "deletable": true,
    "editable": true
   },
   "outputs": [],
   "source": []
  },
  {
   "cell_type": "code",
   "execution_count": 4,
   "metadata": {
    "collapsed": true,
    "deletable": true,
    "editable": true
   },
   "outputs": [],
   "source": [
    "NN=5\n",
    "NNp=max(1,NN-1)\n",
    "Ncore=8\n",
    "\n",
    "AAA =[[[0 for i in range(1,12)] for j in range(12)] for m in range(12)]\n",
    "BBB =[[[0 for i in range(1,12)] for j in range(12)] for m in range(12)]\n",
    "CCC=[0 for i in range (1,12)]\n",
    "DDD=[0 for i in range(1,12)]\n",
    "\n",
    "CCC[1]=sqrt(q)\n",
    "AAA[1][1][1]=-1/sqrt(q)\n",
    "BBB[1][1][1]=1\n",
    "\n",
    "DDD[2]=-1/8*(q^2 - 1)/q\n",
    "AAA[2][0][2]=1/16*(3*q^2 + 1)/q^(3/2)\n",
    "AAA[2][2][2]=3/16*(q^4 - 1)/q^(7/2)\n",
    "BBB[2][2][0]=1/8*(q^2 + 1)/q\n",
    "BBB[2][2][2]=-1/8*(q^2 - 3)/q^3\n",
    "\n",
    "CCC[3]=-1/64*(2*q^6 + 3*q^4 + 12*q^2 - 9)/q^(7/2)\n",
    "AAA[3][1][1]=1/256*(6*q^10 + 11*q^8 - 63*q^6 + 96*q^4 + 27*q^2 + 27)/q^(13/2)\n",
    "AAA[3][1][3]=-1/256*(31*q^4 - 62*q^2 - 9)/q^(9/2)\n",
    "AAA[3][3][1]=-1/256*(6*q^8 - 13*q^6 - 5*q^4 + 9*q^2 + 3)/q^(9/2)\n",
    "AAA[3][3][3]=-1/256*(39*q^6 - 53*q^4 + 5*q^2 + 9)/q^(13/2)\n",
    "BBB[3][1][1]=-1/256*(6*q^10 + 3*q^8 - 43*q^6 + 72*q^4 + 15*q^2 + 27)/q^6\n",
    "BBB[3][1][3]=1/256*(5*q^4 - 18*q^2 - 3)/q^4\n",
    "BBB[3][3][1]=3/256*(2*q^8 + q^6 - 15*q^4 + 27*q^2 + 9)/q^4\n",
    "BBB[3][3][3]=-3/256*(q^6 - 3*q^4 + 3*q^2 - 9)/q^6\n",
    "\n",
    "DDD[4]=1/1024*(6*q^12 + 5*q^10 - 56*q^8 + 87*q^6 + 39*q^4 - 72*q^2 - 9)/q^7\n",
    "AAA[4][0][2]=-1/2048*(18*q^12 + 27*q^10 - 91*q^8 + 344*q^6 - 122*q^4 + 117*q^2 + 27)/q^(15/2)\n",
    "AAA[4][0][4]=1/4096*(67*q^8 - 235*q^6 - 185*q^4 + 207*q^2 + 18)/q^(15/2)\n",
    "AAA[4][2][2]=1/3072*(18*q^12 + 259*q^10 - 240*q^8 - 256*q^6 + 252*q^4 + 189*q^2 + 162)/q^(19/2)\n",
    "AAA[4][2][4]=1/3072*(398*q^10 + 63*q^8 - 1298*q^6 + 144*q^4 + 1188*q^2 + 81)*sqrt(q)/(4*q^10 + 3*q^8)\n",
    "AAA[4][4][2]=1/6144*(54*q^14 + 207*q^12 - 1060*q^10 - 1743*q^8 + 4502*q^6 - 207*q^4 - 648*q^2 - 81)*sqrt(q)/(q^10 + 3*q^8)\n",
    "AAA[4][4][4]=1/12288*(197*q^12 + 1732*q^10 + 1481*q^8 - 9872*q^6 + 7623*q^4 - 756*q^2 - 405)*sqrt(q)/(q^12 + 5*q^10)\n",
    "BBB[4][2][0]=-1/1024*(32*q^10 + 18*q^8 - 23*q^6 + 27*q^4 + 63*q^2 + 27)/q^7\n",
    "BBB[4][2][2]=-1/768*(54*q^10 + 45*q^8 - 68*q^6 + 90*q^4 + 54*q^2 + 81)/q^9\n",
    "BBB[4][2][4]=-1/3072*(6*q^8 + 283*q^6 - 351*q^4 + 1053*q^2 + 81)/(4*q^9 + 3*q^7)\n",
    "BBB[4][4][0]=1/1024*(6*q^12 + 21*q^10 - 66*q^8 + 2*q^6 + 66*q^4 + 81*q^2 + 18)/q^7\n",
    "BBB[4][4][2]=-1/768*(18*q^12 - 105*q^10 - 273*q^8 + 518*q^6 + 288*q^4 - 621*q^2 - 81)/(q^9 + 3*q^7)\n",
    "BBB[4][4][4]=1/3072*(21*q^10 + q^8 - 262*q^6 + 522*q^4 + 81*q^2 + 405)/(q^11 + 5*q^9)\n",
    "\n",
    "CCC[5]=-1/16384*(12*q^16 - 176*q^14 - 681*q^12 + 201*q^10 + 279*q^8 - 978*q^6 - 279*q^4 + 513*q^2 + 405)/q^(19/2)\n",
    "AAA[5][1][1]=1/65536*(97200*q^34 + 969300*q^32 + 10312920*q^30 + 40437585*q^28 - 99942680*q^26 - 718547767*q^24 - 1053139982*q^22 - 468613281*q^20 - 625150182*q^18 - 1543359636*q^16 - 1317006294*q^14 - 610724583*q^12 - 538477502*q^10 - 434987253*q^8 - 119464668*q^6 + 24483303*q^4 + 17432820*q^2 + 2259900)*sqrt(q)/(2700*q^27 + 24945*q^25 + 73990*q^23 + 93072*q^21 + 46690*q^19 + 1267*q^17 - 5220*q^15 - 900*q^13)\n",
    "AAA[5][1][3]=1/65536*(192*q^16 - 8536*q^14 - 24494*q^12 - 2281*q^10 - 7833*q^8 - 34170*q^6 - 16344*q^4 - 25461*q^2 - 2673)*sqrt(q)/(4*q^13 + 3*q^11)\n",
    "AAA[5][1][5]=-1/65536*(1828*q^12 + 352*q^10 - 10757*q^8 + 35788*q^6 - 594*q^4 - 8100*q^2 - 405)*sqrt(q)/(4*q^13 + 3*q^11)\n",
    "AAA[5][3][1]=1/65536*(108*q^18 - 5934*q^16 + 5105*q^14 + 46195*q^12 - 51879*q^10 - 35153*q^8 + 4283*q^6 + 7569*q^4 + 4239*q^2 + 891)*sqrt(q)/(q^13 + 3*q^11)\n",
    "AAA[5][3][3]=-1/65536*(5400*q^22 + 12918*q^20 - 137093*q^18 - 272731*q^16 + 357403*q^14 + 299725*q^12 + 100929*q^10 + 467859*q^8 + 215865*q^6 - 91935*q^4 - 169128*q^2 - 43740)*sqrt(q)/(4*q^19 + 35*q^17 + 84*q^15 + 45*q^13)\n",
    "AAA[5][3][5]=-1/65536*(78144*q^16 + 364169*q^14 - 491094*q^12 - 1068351*q^10 + 1162018*q^8 + 332347*q^6 - 358650*q^4 - 114885*q^2 - 4050)*sqrt(q)/(36*q^17 + 215*q^15 + 181*q^13 + 30*q^11)\n",
    "AAA[5][5][1]=-1/65536*(180*q^22 - 360*q^20 - 1329*q^18 - 1389*q^16 - 10180*q^14 + 25076*q^12 + 40794*q^10 - 62542*q^8 + 3864*q^6 + 3132*q^4 + 2511*q^2 + 243)*sqrt(q)/(5*q^15 + 18*q^13 + 9*q^11)\n",
    "AAA[5][5][3]=-1/65536*(10290*q^22 + 43395*q^20 - 173337*q^18 - 602962*q^16 + 701240*q^14 + 1757970*q^12 - 1345366*q^10 - 1223160*q^8 + 844206*q^6 + 21555*q^4 - 31401*q^2 - 2430)*sqrt(q)/(5*q^19 + 45*q^17 + 113*q^15 + 59*q^13 - 30*q^11)\n",
    "AAA[5][5][5]=-1/65536*(5415*q^16 + 32830*q^14 - 2142*q^12 - 121450*q^10 + 28240*q^8 + 135290*q^6 - 88578*q^4 + 8370*q^2 + 2025)*sqrt(q)/(3*q^17 + 20*q^15 + 25*q^13)\n",
    "BBB[5][1][1]=-1/196608*(291600*q^34 + 2907900*q^32 + 32753160*q^30 + 149869395*q^28 - 96175800*q^26 - 1388122677*q^24 - 1816814730*q^22 - 673012947*q^20 - 2204709010*q^18 - 4183229964*q^16 - 2019366082*q^14 - 127366501*q^12 - 1024292202*q^10 - 1272297663*q^8 - 404176500*q^6 + 54476469*q^4 + 49965660*q^2 + 6779700)/(2700*q^26 + 24945*q^24 + 73990*q^22 + 93072*q^20 + 46690*q^18 + 1267*q^16 - 5220*q^14 - 900*q^12)\n",
    "BBB[5][1][3]=1/196608*(576*q^16 + 8184*q^14 + 17094*q^12 + 22645*q^10 + 2281*q^8 + 23658*q^6 + 7776*q^4 + 22761*q^2 + 2673)/(4*q^12 + 3*q^10)\n",
    "BBB[5][1][5]=1/196608*(60*q^12 + 1728*q^10 + 781*q^8 + 16476*q^6 - 4158*q^4 - 4212*q^2 - 243)/(4*q^12 + 3*q^10)\n",
    "BBB[5][3][1]=-3/65536*(20*q^18 - 1386*q^16 + 1159*q^14 + 17385*q^12 - 1473*q^10 - 24611*q^8 + 13245*q^6 + 5427*q^4 + 12393*q^2 + 2673)/(q^12 + 3*q^10)\n",
    "BBB[5][3][3]=3/65536*(216*q^22 - 570*q^20 - 18933*q^18 - 71519*q^16 - 100329*q^14 - 35063*q^12 + 38725*q^10 - 123273*q^8 - 114291*q^6 - 157707*q^4 - 125388*q^2 - 43740)/(4*q^18 + 35*q^16 + 84*q^14 + 45*q^12)\n",
    "BBB[5][3][5]=-3/65536*(320*q^16 + 1737*q^14 - 4390*q^12 - 8591*q^10 + 157370*q^8 + 25203*q^6 + 112590*q^4 + 62451*q^2 + 2430)/(36*q^16 + 215*q^14 + 181*q^12 + 30*q^10)\n",
    "BBB[5][5][1]=5/196608*(108*q^22 + 648*q^20 - 3735*q^18 + 5853*q^16 + 84492*q^14 + 18828*q^12 - 256546*q^10 - 31890*q^8 + 169632*q^6 + 96228*q^4 + 37665*q^2 + 3645)/(5*q^14 + 18*q^12 + 9*q^10)\n",
    "BBB[5][5][3]=-5/196608*(342*q^22 + 1257*q^20 + 2085*q^18 - 31430*q^16 - 390368*q^14 - 350282*q^12 + 1479350*q^10 + 570136*q^8 - 1001838*q^6 - 419175*q^4 + 146205*q^2 + 12150)/(5*q^18 + 45*q^16 + 113*q^14 + 59*q^12 - 30*q^10)\n",
    "BBB[5][5][5]=5/196608*(45*q^16 - 150*q^14 - 570*q^12 + 2618*q^10 - 3896*q^8 - 498*q^6 + 25866*q^4 + 8910*q^2 + 6075)/(3*q^16 + 20*q^14 + 25*q^12)\n",
    "\n",
    "for i in range(1,NNp+1):\n",
    "    if CCC[i]==0:\n",
    "        C[i]=CCC[i]\n",
    "    if DDD[i]==0:\n",
    "        D[i]=DDD[i]\n",
    "    for j in range(i+1):\n",
    "        for m in range(i+1):\n",
    "            if AAA[i][j][m]==0: \n",
    "                A[i][j][m]=AAA[i][j][m]\n",
    "            if BBB[i][j][m]==0:\n",
    "                B[i][j][m]=BBB[i][j][m]"
   ]
  },
  {
   "cell_type": "code",
   "execution_count": null,
   "metadata": {
    "collapsed": true,
    "deletable": true,
    "editable": true
   },
   "outputs": [],
   "source": []
  },
  {
   "cell_type": "code",
   "execution_count": null,
   "metadata": {
    "collapsed": false,
    "deletable": true,
    "editable": true
   },
   "outputs": [],
   "source": []
  },
  {
   "cell_type": "code",
   "execution_count": 5,
   "metadata": {
    "collapsed": false,
    "deletable": true,
    "editable": true
   },
   "outputs": [],
   "source": [
    "fq_1,fq_2,fq_3,fq_4,fq_5,fq_6,fq_7,fq_8,fq_9,fq_10=var('fq_1 fq_2 fq_3 fq_4 fq_5 fq_6 fq_7 fq_8 fq_9 fq_10')\n",
    "\n",
    "def fw(N):\n",
    "    temp=0\n",
    "    for i in range(1,N+1):\n",
    "        temp=temp+C[i]*eps^(i-1)\n",
    "    return temp\n",
    "\n",
    "def fB(N):\n",
    "    temp=0\n",
    "    for i in range(1,N+1):\n",
    "        temp=temp+D[i]*eps^i\n",
    "    return temp"
   ]
  },
  {
   "cell_type": "code",
   "execution_count": null,
   "metadata": {
    "collapsed": false,
    "deletable": true,
    "editable": true
   },
   "outputs": [],
   "source": []
  },
  {
   "cell_type": "code",
   "execution_count": 6,
   "metadata": {
    "collapsed": false,
    "deletable": true,
    "editable": true
   },
   "outputs": [],
   "source": [
    "def f_eta(x,t,N):\n",
    "    temp=0\n",
    "    for i in range(1,N+1):\n",
    "        for j in range(i+1):\n",
    "            for m in range(i+1):\n",
    "                temp=temp+eps^i*B[i][j][m]*cos(j*x)*cos(m*t)\n",
    "    return temp\n",
    "\n",
    "def f_eta_t(x,t,N):\n",
    "    temp=0\n",
    "    for i in range(1,N+1):\n",
    "        for j in range(i+1):\n",
    "            for m in range(i+1):\n",
    "                temp=temp-m*fw(N-i+1)*eps^i*B[i][j][m]*cos(j*x)*sin(m*t)\n",
    "    return temp\n",
    "\n",
    "def f_eta_x(x,t,N):\n",
    "    temp=0\n",
    "    for i in range(1,N+1):\n",
    "        for j in range(i+1):\n",
    "            for m in range(i+1):\n",
    "                temp=temp-j*eps^i*B[i][j][m]*sin(j*x)*cos(m*t)\n",
    "    return temp\n",
    "\n",
    "def f_eta_x1(x,t,N,NN):\n",
    "    temp=0\n",
    "    for i in range(NN,NN+1):\n",
    "        for j in range(i+1):\n",
    "            for m in range(i+1):\n",
    "                temp=temp-j*eps^i*B[i][j][m]*sin(j*x)*cos(m*t)\n",
    "    return temp\n",
    "\n",
    "def f_eta_i(x,t,NN):\n",
    "    temp=0\n",
    "    for i in range(NN,NN+1):#counter one more than necessary\n",
    "        for j in range(i+1):\n",
    "            for m in range(i+1):\n",
    "                temp=temp+eps^i*B[i][j][m]*cos(j*x)*cos(m*t)\n",
    "    return temp"
   ]
  },
  {
   "cell_type": "code",
   "execution_count": 7,
   "metadata": {
    "collapsed": false,
    "deletable": true,
    "editable": true
   },
   "outputs": [],
   "source": [
    "def feta_power_n(x,t,N_t,N_o):\n",
    "    temp=0\n",
    "    N=N_o+1\n",
    "    if N_t==1:\n",
    "        for i1 in range(1,N):\n",
    "            if i1<=N_o:\n",
    "                temp=temp+f_eta_i(x,t,i1)\n",
    "    if N_t==2:\n",
    "        for i1 in range(1,N):\n",
    "            for i2 in range(1,N):\n",
    "                if i1+i2<=N_o:\n",
    "                    temp=temp+f_eta_i(x,t,i1)*f_eta_i(x,t,i2)\n",
    "    if N_t==3:\n",
    "        for i1 in range(1,N):\n",
    "            for i2 in range(1,N):\n",
    "                for i3 in range(1,N):\n",
    "                    if i1+i2+i3<=N_o:\n",
    "                        temp=temp+f_eta_i(x,t,i1)*f_eta_i(x,t,i2)*f_eta_i(x,t,i3)\n",
    "    if N_t==4:\n",
    "        for i1 in range(1,N):\n",
    "            for i2 in range(1,N):\n",
    "                for i3 in range(1,N):\n",
    "                    for i4 in range(1,N):\n",
    "                        if i1+i2+i3+i4<=N_o:\n",
    "                            temp=temp+f_eta_i(x,t,i1)*f_eta_i(x,t,i2)*f_eta_i(x,t,i3)*f_eta_i(x,t,i4)\n",
    "    if N_t==5:\n",
    "        for i1 in range(1,N):\n",
    "            for i2 in range(1,N):\n",
    "                for i3 in range(1,N):\n",
    "                    for i4 in range(1,N):\n",
    "                        for i5 in range(1,N):\n",
    "                            if i1+i2+i3+i4+i5<=N_o:\n",
    "                                temp=temp+f_eta_i(x,t,i1)*f_eta_i(x,t,i2)*f_eta_i(x,t,i3)*f_eta_i(x,t,i4)*f_eta_i(x,t,i5)\n",
    "    if N_t==6:\n",
    "        for i1 in range(1,N):\n",
    "            for i2 in range(1,N):\n",
    "                for i3 in range(1,N):\n",
    "                    for i4 in range(1,N):\n",
    "                        for i5 in range(1,N):\n",
    "                            for i6 in range(1,N):\n",
    "                                if i1+i2+i3+i4+i5+i6<=N_o:\n",
    "                                    temp=temp+f_eta_i(x,t,i1)*f_eta_i(x,t,i2)*f_eta_i(x,t,i3)*f_eta_i(x,t,i4)*f_eta_i(x,t,i5)*f_eta_i(x,t,i6)\n",
    "    if N_t==7:\n",
    "        for i1 in range(1,N):\n",
    "            for i2 in range(1,N):\n",
    "                for i3 in range(1,N):\n",
    "                    for i4 in range(1,N):\n",
    "                        for i5 in range(1,N):\n",
    "                            for i6 in range(1,N):\n",
    "                                for i7 in range(1,N):\n",
    "                                    if i1+i2+i3+i4+i5+i6+i7<=N_o:\n",
    "                                        temp=temp+f_eta_i(x,t,i1)*f_eta_i(x,t,i2)*f_eta_i(x,t,i3)*f_eta_i(x,t,i4)*f_eta_i(x,t,i5)*f_eta_i(x,t,i6)*f_eta_i(x,t,i7)\n",
    "    if N_t==8:\n",
    "        for i1 in range(1,N):\n",
    "            for i2 in range(1,N):\n",
    "                for i3 in range(1,N):\n",
    "                    for i4 in range(1,N):\n",
    "                        for i5 in range(1,N):\n",
    "                            for i6 in range(1,N):\n",
    "                                for i7 in range(1,N):\n",
    "                                    for i8 in range(1,N):\n",
    "                                        if i1+i2+i3+i4+i5+i6+i7+i8<=N_o:\n",
    "                                            temp=temp+f_eta_i(x,t,i1)*f_eta_i(x,t,i2)*f_eta_i(x,t,i3)*f_eta_i(x,t,i4)*f_eta_i(x,t,i5)*f_eta_i(x,t,i6)*f_eta_i(x,t,i7)*f_eta_i(x,t,i8)\n",
    "    if N_t==9:\n",
    "        for i1 in range(1,N):\n",
    "            for i2 in range(1,N):\n",
    "                for i3 in range(1,N):\n",
    "                    for i4 in range(1,N):\n",
    "                        for i5 in range(1,N):\n",
    "                            for i6 in range(1,N):\n",
    "                                for i7 in range(1,N):\n",
    "                                    for i8 in range(1,N):\n",
    "                                        for i9 in range(1,N):\n",
    "                                            if i1+i2+i3+i4+i5+i6+i7+i8+i9<=N_o:\n",
    "                                                temp=temp+f_eta_i(x,t,i1)*f_eta_i(x,t,i2)*f_eta_i(x,t,i3)*f_eta_i(x,t,i4)*f_eta_i(x,t,i5)*f_eta_i(x,t,i6)*f_eta_i(x,t,i7)*f_eta_i(x,t,i8)*f_eta_i(x,t,i9)\n",
    "    if N_t==10:\n",
    "        for i1 in range(1,N):\n",
    "            for i2 in range(1,N):\n",
    "                for i3 in range(1,N):\n",
    "                    for i4 in range(1,N):\n",
    "                        for i5 in range(1,N):\n",
    "                            for i6 in range(1,N):\n",
    "                                for i7 in range(1,N):\n",
    "                                    for i8 in range(1,N):\n",
    "                                        for i9 in range(1,N):\n",
    "                                            for i10 in range(1,N):\n",
    "                                                if i1+i2+i3+i4+i5+i6+i7+i8+i9+i10<=N_o:\n",
    "                                                    temp=temp+f_eta_i(x,t,i1)*f_eta_i(x,t,i2)*f_eta_i(x,t,i3)*f_eta_i(x,t,i4)*f_eta_i(x,t,i5)*f_eta_i(x,t,i6)*f_eta_i(x,t,i7)*f_eta_i(x,t,i8)*f_eta_i(x,t,i9)*f_eta_i(x,t,i10)\n",
    "    \n",
    "    return temp\n",
    "#print(\" \")"
   ]
  },
  {
   "cell_type": "code",
   "execution_count": null,
   "metadata": {
    "collapsed": false,
    "deletable": true,
    "editable": true
   },
   "outputs": [],
   "source": []
  },
  {
   "cell_type": "code",
   "execution_count": 8,
   "metadata": {
    "collapsed": false,
    "deletable": true,
    "editable": true
   },
   "outputs": [
    {
     "name": "stdout",
     "output_type": "stream",
     "text": [
      "fq values\n",
      "j=0 0\n",
      "j=1 fq_1\n",
      "j=2 fq_2\n",
      "j=3 fq_3\n",
      "j=4 fq_4\n",
      "j=5 fq_5\n",
      "j=6 fq_6\n",
      "j=7 fq_7\n",
      "j=8 fq_8\n",
      "j=9 fq_9\n",
      "j=10 fq_10\n",
      "0\n",
      "q\n",
      "2*q/(q^2 + 1)\n",
      "(q^3 + 3*q)/(3*q^2 + 1)\n",
      "4*(q^3 + q)/(q^4 + 6*q^2 + 1)\n",
      "(q^5 + 10*q^3 + 5*q)/(5*q^4 + 10*q^2 + 1)\n",
      "2*(3*q^5 + 10*q^3 + 3*q)/(q^6 + 15*q^4 + 15*q^2 + 1)\n",
      "(q^7 + 21*q^5 + 35*q^3 + 7*q)/(7*q^6 + 35*q^4 + 21*q^2 + 1)\n",
      "8*(q^7 + 7*q^5 + 7*q^3 + q)/(q^8 + 28*q^6 + 70*q^4 + 28*q^2 + 1)\n",
      "(q^9 + 36*q^7 + 126*q^5 + 84*q^3 + 9*q)/(9*q^8 + 84*q^6 + 126*q^4 + 36*q^2 + 1)\n",
      "2*(5*q^9 + 60*q^7 + 126*q^5 + 60*q^3 + 5*q)/(q^10 + 45*q^8 + 210*q^6 + 210*q^4 + 45*q^2 + 1)\n"
     ]
    }
   ],
   "source": [
    "fq_1,fq_2,fq_3,fq_4,fq_5,fq_6,fq_7,fq_8,fq_9,fq_10=var('fq_1 fq_2 fq_3 fq_4 fq_5 fq_6 fq_7 fq_8 fq_9 fq_10')\n",
    "\n",
    "def fw(N):\n",
    "    temp=0\n",
    "    for i in range(1,N+1):\n",
    "        temp=temp+C[i]*eps^(i-1)\n",
    "    return temp\n",
    "\n",
    "def fB(N):\n",
    "    temp=0\n",
    "    for i in range(1,N+1):\n",
    "        temp=temp+D[i]*eps^i\n",
    "    return temp\n",
    "\n",
    "def fq(j,q):\n",
    "    if j==0:\n",
    "        return 0\n",
    "    elif j==1:\n",
    "        return fq_1\n",
    "    elif j==2:\n",
    "        return fq_2\n",
    "    elif j==3:\n",
    "        return fq_3\n",
    "    elif j==4:\n",
    "        return fq_4\n",
    "    elif j==5:\n",
    "        return fq_5\n",
    "    elif j==6:\n",
    "        return fq_6\n",
    "    elif j==7:\n",
    "        return fq_7\n",
    "    elif j==8:\n",
    "        return fq_8\n",
    "    elif j==9:\n",
    "        return fq_9\n",
    "    elif j==10:\n",
    "        return fq_10\n",
    "\n",
    "def fq2(j,q):\n",
    "    #return tanh(j*arctanh(q)).trig_expand()\n",
    "    #return tanh(j*arctanh(q))\n",
    "    if j==0:\n",
    "        return 0\n",
    "    elif j==1:\n",
    "        return q\n",
    "    elif j==2:\n",
    "        return 2*q/(q^2 + 1)    \n",
    "    elif j==3:\n",
    "        return (q^3 + 3*q)/(3*q^2 + 1)   \n",
    "    elif j==4:\n",
    "        return 4*(q^3 + q)/(q^4 + 6*q^2 + 1)\n",
    "    elif j==5:\n",
    "        return (q^5 + 10*q^3 + 5*q)/(5*q^4 + 10*q^2 + 1)\n",
    "    elif j==6:\n",
    "        return 2*(3*q^5 + 10*q^3 + 3*q)/(q^6 + 15*q^4 + 15*q^2 + 1)\n",
    "    elif j==7:\n",
    "        return (q^7 + 21*q^5 + 35*q^3 + 7*q)/(7*q^6 + 35*q^4 + 21*q^2 + 1) \n",
    "    elif j==8:\n",
    "        return 8*(q^7 + 7*q^5 + 7*q^3 + q)/(q^8 + 28*q^6 + 70*q^4 + 28*q^2 + 1)   \n",
    "    elif j==9:\n",
    "        return (q^9 + 36*q^7 + 126*q^5 + 84*q^3 + 9*q)/(9*q^8 + 84*q^6 + 126*q^4 + 36*q^2 + 1) \n",
    "    elif j==10:\n",
    "        return 2*(5*q^9 + 60*q^7 + 126*q^5 + 60*q^3 + 5*q)/(q^10 + 45*q^8 + 210*q^6 + 210*q^4 + 45*q^2 + 1)   \n",
    "            \n",
    "print(\"fq values\")\n",
    "for j in range(10+1):\n",
    "    print('j='+str(j),fq(j,q)),\n",
    "    \n",
    "for j in range(10+1):\n",
    "    print(tanh(j*arctanh(q)).trig_expand())"
   ]
  },
  {
   "cell_type": "code",
   "execution_count": 9,
   "metadata": {
    "collapsed": true,
    "deletable": true,
    "editable": true
   },
   "outputs": [],
   "source": [
    "def fcosh(x,t,N_o,i,j):\n",
    "    temp1=1\n",
    "    temp2=0    \n",
    "    for nn in range(1,N_o+1):\n",
    "        if mod(nn,2)==0:\n",
    "            temp1=temp1+(1+(-1)^nn)/2/factorial(nn)*j^nn*feta_power_n(x,t,nn,N_o)\n",
    "        if mod(nn,2)==1:\n",
    "            temp2=temp2+(1-(-1)^nn)/2/factorial(nn)*j^nn*feta_power_n(x,t,nn,N_o)\n",
    "    return temp1+temp2*fq(j,q)\n",
    "\n",
    "def fcoshP(x,t,N_o,i,j):\n",
    "    temp1=1\n",
    "    temp2=0    \n",
    "    for nn in range(1,N_o+1):\n",
    "        if mod(nn,2)==0:\n",
    "            temp1=temp1+(1+(-1)^nn)/2/factorial(nn)*j^nn*feta_power_n(x,t,nn,N_o)\n",
    "        if mod(nn,2)==1:\n",
    "            temp2=temp2+(1-(-1)^nn)/2/factorial(nn)*j^nn*feta_power_n(x,t,nn,N_o)\n",
    "    return temp2+temp1*fq(j,q)"
   ]
  },
  {
   "cell_type": "code",
   "execution_count": null,
   "metadata": {
    "collapsed": true,
    "deletable": true,
    "editable": true
   },
   "outputs": [],
   "source": []
  },
  {
   "cell_type": "code",
   "execution_count": 10,
   "metadata": {
    "collapsed": true,
    "deletable": true,
    "editable": true
   },
   "outputs": [],
   "source": [
    "def f_phi(x,t,N):\n",
    "    temp=0\n",
    "    for i in range(1,N+1): \n",
    "        for j in range(i+1):\n",
    "            for m in range(i+1):\n",
    "                temp=temp+eps^i*A[i][j][m]*cos(j*x)*sin(m*t)*fcosh(x,t,N-i,i,j)\n",
    "    return temp\n",
    "\n",
    "def f_phi_t(x,t,N):\n",
    "    temp=0\n",
    "    for i in range(1,N+1): \n",
    "        for j in range(i+1):\n",
    "            for m in range(i+1):\n",
    "                temp=temp+m*eps^i*fw(N-i+1)*A[i][j][m]*cos(j*x)*cos(m*t)*fcosh(x,t,N-i,i,j)\n",
    "    return temp\n",
    "\n",
    "def f_u(x,t,N):\n",
    "    temp=0\n",
    "    for i in range(1,N+1): \n",
    "        for j in range(i+1):\n",
    "            for m in range(i+1):\n",
    "                temp=temp-j*eps^i*A[i][j][m]*sin(j*x)*sin(m*t)*fcosh(x,t,N-i,i,j)\n",
    "    return temp\n",
    "\n",
    "def f_w(x,t,N):\n",
    "    temp=0\n",
    "    for i in range(1,N+1): \n",
    "        for j in range(i+1):\n",
    "            for m in range(i+1):\n",
    "                temp=temp+j*eps^i*A[i][j][m]*cos(j*x)*sin(m*t)*fcoshP(x,t,N-i,i,j)\n",
    "    return temp\n",
    "\n",
    "def f_u1(x,t,N,NN):\n",
    "    temp=0\n",
    "    for i in range(NN,NN+1): \n",
    "        for j in range(i+1):\n",
    "            for m in range(i+1):\n",
    "                temp=temp-j*eps^i*A[i][j][m]*sin(j*x)*sin(m*t)*fcosh(x,t,N-i,i,j)\n",
    "    return temp\n",
    "\n",
    "def f_w1(x,t,N,NN):\n",
    "    temp=0\n",
    "    for i in range(NN,NN+1): \n",
    "        for j in range(i+1):\n",
    "            for m in range(i+1):\n",
    "                temp=temp+j*eps^i*A[i][j][m]*cos(j*x)*sin(m*t)*fcoshP(x,t,N-i,i,j)\n",
    "    return temp"
   ]
  },
  {
   "cell_type": "code",
   "execution_count": null,
   "metadata": {
    "collapsed": false,
    "deletable": true,
    "editable": true
   },
   "outputs": [],
   "source": []
  },
  {
   "cell_type": "code",
   "execution_count": null,
   "metadata": {
    "collapsed": false,
    "deletable": true,
    "editable": true
   },
   "outputs": [],
   "source": []
  },
  {
   "cell_type": "code",
   "execution_count": null,
   "metadata": {
    "collapsed": false,
    "deletable": true,
    "editable": true
   },
   "outputs": [],
   "source": []
  },
  {
   "cell_type": "code",
   "execution_count": null,
   "metadata": {
    "collapsed": false,
    "deletable": true,
    "editable": true
   },
   "outputs": [],
   "source": []
  },
  {
   "cell_type": "code",
   "execution_count": null,
   "metadata": {
    "collapsed": false,
    "deletable": true,
    "editable": true
   },
   "outputs": [],
   "source": []
  },
  {
   "cell_type": "code",
   "execution_count": null,
   "metadata": {
    "collapsed": false,
    "deletable": true,
    "editable": true
   },
   "outputs": [],
   "source": []
  },
  {
   "cell_type": "code",
   "execution_count": null,
   "metadata": {
    "collapsed": true,
    "deletable": true,
    "editable": true
   },
   "outputs": [],
   "source": []
  },
  {
   "cell_type": "code",
   "execution_count": null,
   "metadata": {
    "collapsed": true,
    "deletable": true,
    "editable": true
   },
   "outputs": [],
   "source": []
  },
  {
   "cell_type": "code",
   "execution_count": null,
   "metadata": {
    "collapsed": false,
    "deletable": true,
    "editable": true
   },
   "outputs": [],
   "source": []
  },
  {
   "cell_type": "code",
   "execution_count": null,
   "metadata": {
    "collapsed": true,
    "deletable": true,
    "editable": true
   },
   "outputs": [],
   "source": []
  },
  {
   "cell_type": "code",
   "execution_count": null,
   "metadata": {
    "collapsed": false,
    "deletable": true,
    "editable": true
   },
   "outputs": [],
   "source": []
  },
  {
   "cell_type": "code",
   "execution_count": 11,
   "metadata": {
    "collapsed": false,
    "deletable": true,
    "editable": true
   },
   "outputs": [],
   "source": [
    "#additional constraints on A, B, C, D\n",
    "\n",
    "#for i in range(1,NN+1):\n",
    "#    for j in range(NN+1):\n",
    "#        for m in range(NN+1):\n",
    "#            if j==0:\n",
    "#                B[i][j][m]=0\n",
    "#            if m==0:\n",
    "#                A[i][j][m]=0\n",
    "#            if mod(i+j,2)==1 or mod(j+m,2)==1 or mod(i+m,2)==1:\n",
    "#                A[i][j][m]=0\n",
    "#                B[i][j][m]=0\n",
    "\n",
    "#D[1]=0\n",
    "#D[3]=0\n",
    "#D[5]=0\n",
    "#D[7]=0\n",
    "#D[9]=0\n",
    "\n",
    "#C[2]=0\n",
    "#C[4]=0\n",
    "#C[6]=0\n",
    "#C[8]=0\n",
    "#C[10]=0"
   ]
  },
  {
   "cell_type": "code",
   "execution_count": null,
   "metadata": {
    "collapsed": false,
    "deletable": true,
    "editable": true
   },
   "outputs": [],
   "source": []
  },
  {
   "cell_type": "code",
   "execution_count": 12,
   "metadata": {
    "collapsed": false,
    "deletable": true,
    "editable": true
   },
   "outputs": [],
   "source": [
    "def f_s_i(x,i):\n",
    "    return sin(i*x)\n",
    "def f_c_i(x,i):\n",
    "    return cos(i*x)"
   ]
  },
  {
   "cell_type": "code",
   "execution_count": null,
   "metadata": {
    "collapsed": false,
    "deletable": true,
    "editable": true
   },
   "outputs": [],
   "source": []
  },
  {
   "cell_type": "code",
   "execution_count": 13,
   "metadata": {
    "collapsed": true,
    "deletable": true,
    "editable": true
   },
   "outputs": [],
   "source": [
    "#####################"
   ]
  },
  {
   "cell_type": "code",
   "execution_count": 14,
   "metadata": {
    "collapsed": false,
    "deletable": true,
    "editable": true
   },
   "outputs": [
    {
     "data": {
      "text/plain": [
       "0"
      ]
     },
     "execution_count": 14,
     "metadata": {},
     "output_type": "execute_result"
    }
   ],
   "source": [
    "eq_aa40=integral(f_eta(x,t,NN),x,0,pi).coefficient(eps^NN)\n",
    "eq_aa40"
   ]
  },
  {
   "cell_type": "code",
   "execution_count": 15,
   "metadata": {
    "collapsed": true,
    "deletable": true,
    "editable": true
   },
   "outputs": [],
   "source": [
    "temp4=eq_aa40"
   ]
  },
  {
   "cell_type": "code",
   "execution_count": null,
   "metadata": {
    "collapsed": true,
    "deletable": true,
    "editable": true
   },
   "outputs": [],
   "source": []
  },
  {
   "cell_type": "code",
   "execution_count": null,
   "metadata": {
    "collapsed": true,
    "deletable": true,
    "editable": true
   },
   "outputs": [],
   "source": []
  },
  {
   "cell_type": "code",
   "execution_count": null,
   "metadata": {
    "collapsed": false,
    "deletable": true,
    "editable": true
   },
   "outputs": [],
   "source": []
  },
  {
   "cell_type": "code",
   "execution_count": null,
   "metadata": {
    "collapsed": false,
    "deletable": true,
    "editable": true
   },
   "outputs": [],
   "source": []
  },
  {
   "cell_type": "code",
   "execution_count": null,
   "metadata": {
    "collapsed": false,
    "deletable": true,
    "editable": true
   },
   "outputs": [],
   "source": []
  },
  {
   "cell_type": "code",
   "execution_count": 16,
   "metadata": {
    "collapsed": false,
    "deletable": true,
    "editable": true
   },
   "outputs": [],
   "source": [
    "#@parallel(4)\n",
    "#def simplify2_term(temp10):\n",
    "    "
   ]
  },
  {
   "cell_type": "code",
   "execution_count": 17,
   "metadata": {
    "collapsed": false,
    "deletable": true,
    "editable": true
   },
   "outputs": [],
   "source": [
    "def simplify2(temp4):\n",
    "    temp5=temp4.operands()\n",
    "    temp6=[[0 for i in range(2)] for j in range(4*(NN+1)^2+1)]\n",
    "    for i in range(len(temp5)):\n",
    "        factors=temp5[i].factor_list()\n",
    "        coeff=1\n",
    "        coeff_sjx,coeff_cjx,coeff_smt,coeff_cmt=0,0,0,0\n",
    "        for f, mul in factors:\n",
    "            for j in range(0,10):\n",
    "                if f == f_s_i(x,j):\n",
    "                    coeff_sjx=j\n",
    "                if f == f_c_i(x,j):\n",
    "                    coeff_cjx=j\n",
    "                if f == f_s_i(t,j):\n",
    "                    coeff_smt=j\n",
    "                if f == f_c_i(t,j):\n",
    "                    coeff_cmt=j                \n",
    "            coeff*=f^mul\n",
    "        coeff_trig=1\n",
    "\n",
    "        if coeff_sjx>0:\n",
    "            coeff_trig*=f_s_i(x,coeff_sjx)\n",
    "        coeff_trig*=f_c_i(x,coeff_cjx)\n",
    "        if coeff_smt>0:\n",
    "            coeff_trig*=f_s_i(t,coeff_smt)\n",
    "        coeff_trig*=f_c_i(t,coeff_cmt)\n",
    "\n",
    "\n",
    "        if coeff_smt>0:\n",
    "            if coeff_sjx>0:\n",
    "                ii=coeff_smt*(NN+1)+coeff_sjx\n",
    "            else:\n",
    "                ii=coeff_smt*(NN+1)+coeff_cjx+(NN+1)^2\n",
    "        else:\n",
    "            if coeff_sjx>0:\n",
    "                ii=coeff_cmt*(NN+1)+coeff_sjx+2*(NN+1)^2\n",
    "            else:\n",
    "                ii=coeff_cmt*(NN+1)+coeff_cjx+3*(NN+1)^2\n",
    "        \n",
    "        #this for block can be parallelized\n",
    "        #function with three outputs: coeff,coeff_trig,ii\n",
    "        #then the index for the for can be feed into it \n",
    "\n",
    "        coeff/=coeff_trig\n",
    "        temp6[ii][0]=temp6[ii][0]+coeff\n",
    "        temp6[ii][1]=coeff_trig\n",
    "\n",
    "        #print(coeff,coeff_cjx,coeff_smt)\n",
    "        print (\" progress \" + str(i+1)+\" of \" + str(len(temp5)) , end=\"\\r\") \n",
    "    temp7=[[0 for i in range(2)] for j in range(4*(NN+1)^2+1)]\n",
    "    ii=0\n",
    "    for i in range(len(temp6)):\n",
    "        if temp6[i][0]!=0:\n",
    "            temp7[ii][0]=temp6[i][0]\n",
    "            temp7[ii][1]=temp6[i][1]\n",
    "            ii=ii+1\n",
    "    temp7=temp7[0:ii]\n",
    "\n",
    "    temp8=-temp4\n",
    "    for i in range(len(temp7)):\n",
    "        temp8=temp8+temp7[i][0]*temp7[i][1]\n",
    "    print(\" \")\n",
    "    print(\"zero if simplified: \",temp8.expand())\n",
    "    temp9=[0 for i in range(len(temp7))]\n",
    "    for i in range(len(temp7)):\n",
    "        temp9[i]=temp7[i][0]\n",
    "        print(temp7[i][1],\"   \",end='')\n",
    "    return temp9"
   ]
  },
  {
   "cell_type": "code",
   "execution_count": null,
   "metadata": {
    "collapsed": false,
    "deletable": true,
    "editable": true
   },
   "outputs": [],
   "source": []
  },
  {
   "cell_type": "code",
   "execution_count": 18,
   "metadata": {
    "collapsed": false,
    "deletable": true,
    "editable": true
   },
   "outputs": [
    {
     "name": "stdout",
     "output_type": "stream",
     "text": [
      " \n",
      "zero if simplified:  0\n"
     ]
    }
   ],
   "source": [
    "eq_aa41=simplify2(temp4)"
   ]
  },
  {
   "cell_type": "code",
   "execution_count": 19,
   "metadata": {
    "collapsed": false,
    "deletable": true,
    "editable": true
   },
   "outputs": [
    {
     "data": {
      "text/plain": [
       "[]"
      ]
     },
     "execution_count": 19,
     "metadata": {},
     "output_type": "execute_result"
    }
   ],
   "source": [
    "eq_aa41"
   ]
  },
  {
   "cell_type": "code",
   "execution_count": 20,
   "metadata": {
    "collapsed": true,
    "deletable": true,
    "editable": true
   },
   "outputs": [],
   "source": [
    "#as a result: \n",
    "i=NN\n",
    "j=0\n",
    "for m in range(i+1):\n",
    "    B[i][j][m]=0"
   ]
  },
  {
   "cell_type": "code",
   "execution_count": null,
   "metadata": {
    "collapsed": false,
    "deletable": true,
    "editable": true
   },
   "outputs": [],
   "source": []
  },
  {
   "cell_type": "code",
   "execution_count": 21,
   "metadata": {
    "collapsed": false,
    "deletable": true,
    "editable": true,
    "scrolled": true
   },
   "outputs": [
    {
     "name": "stdout",
     "output_type": "stream",
     "text": [
      "2*bb_5_1_1 + 2*bb_5_1_3 + 2*bb_5_1_5 + 2*bb_5_3_1 + 2*bb_5_3_3 + 2*bb_5_3_5 + 2*bb_5_5_1 + 2*bb_5_5_3 + 2*bb_5_5_5\n"
     ]
    }
   ],
   "source": [
    "#wave height constraint 1\n",
    "eq_aa20=(f_eta(0,0,NN)-f_eta(pi,0,NN)-2*eps).expand().coefficient(eps,NN)\n",
    "print(eq_aa20)"
   ]
  },
  {
   "cell_type": "code",
   "execution_count": null,
   "metadata": {
    "collapsed": false,
    "deletable": true,
    "editable": true
   },
   "outputs": [],
   "source": []
  },
  {
   "cell_type": "code",
   "execution_count": 22,
   "metadata": {
    "collapsed": false,
    "deletable": true,
    "editable": true
   },
   "outputs": [
    {
     "name": "stdout",
     "output_type": "stream",
     "text": [
      "2*bb_5_1_1 + 2*bb_5_1_3 + 2*bb_5_1_5 + 2*bb_5_3_1 + 2*bb_5_3_3 + 2*bb_5_3_5 + 2*bb_5_5_1 + 2*bb_5_5_3 + 2*bb_5_5_5\n"
     ]
    }
   ],
   "source": [
    "#wave height constraint 2\n",
    "eq_aa21=(f_eta(0,0,NN)-f_eta(0,pi,NN)-2*eps).expand().coefficient(eps,NN)\n",
    "print(eq_aa21)"
   ]
  },
  {
   "cell_type": "code",
   "execution_count": null,
   "metadata": {
    "collapsed": false,
    "deletable": true,
    "editable": true
   },
   "outputs": [],
   "source": []
  },
  {
   "cell_type": "code",
   "execution_count": 23,
   "metadata": {
    "collapsed": false,
    "deletable": true,
    "editable": true
   },
   "outputs": [],
   "source": [
    "##############################"
   ]
  },
  {
   "cell_type": "code",
   "execution_count": null,
   "metadata": {
    "collapsed": true,
    "deletable": true,
    "editable": true
   },
   "outputs": [],
   "source": []
  },
  {
   "cell_type": "code",
   "execution_count": null,
   "metadata": {
    "collapsed": false,
    "deletable": true,
    "editable": true
   },
   "outputs": [],
   "source": []
  },
  {
   "cell_type": "code",
   "execution_count": 24,
   "metadata": {
    "collapsed": false,
    "deletable": true,
    "editable": true
   },
   "outputs": [
    {
     "name": "stdout",
     "output_type": "stream",
     "text": [
      "0  1  2  3  4  5  6  7  8  9  10  "
     ]
    }
   ],
   "source": [
    "#parallel code for calculating kinematic free surface boundary condition \n",
    "\n",
    "#index generator\n",
    "list_=[(0,0) for i in range(NNp^2+1)]\n",
    "\n",
    "ii=1\n",
    "for i1 in range(1,NNp+1):\n",
    "    for i2 in range(1,NNp+1):\n",
    "        if i1+i2<=NN: #condition for i1&i2 directly used here\n",
    "            list_[ii]=i1,i2\n",
    "            ii=ii+1\n",
    "list_=list_[0:ii]\n",
    "list_\n",
    "\n",
    "#main function\n",
    "@parallel(Ncore)\n",
    "def fpar(i1,i2):\n",
    "    if i1==0 and i2==0:\n",
    "        return f_eta_t(x,t,NN)-f_w(x,t,NN)\n",
    "    else:\n",
    "        return f_u1(x,t,NNp,i1)*f_eta_x1(x,t,NNp,i2)\n",
    "\n",
    "#parallel runner\n",
    "r=fpar(list_)\n",
    "result_=[0 for i in range(ii)]\n",
    "\n",
    "#evaluate parallel\n",
    "iii=0\n",
    "eq_aa1=0\n",
    "for i in r:\n",
    "    #print i\n",
    "    result_[iii]=i\n",
    "    #print(result_[iii][0][0][0],result_[iii][1])\n",
    "    eq_aa1=eq_aa1+result_[iii][1]\n",
    "    #print(list_[ii][0][0][0])\n",
    "    print(iii,\" \",end='')\n",
    "    iii=iii+1\n",
    "\n",
    "#eq_aa1\n",
    "    \n",
    "#regular code\n",
    "#eq_aa1=f_eta_t(x,t,NN)-f_w(x,t,NN)\n",
    "#for i1 in range(1,NNp+1):\n",
    "#    for i2 in range(1,NNp+1):\n",
    "#        if i1+i2<=NN:\n",
    "#            eq_aa1=eq_aa1+f_u1(x,t,NNp,i1)*f_eta_x1(x,t,NNp,i2)\n",
    "\n",
    "#another bottleneck here: 10 minutes for O10\n",
    "eq_aa10_=eq_aa1.expand().coefficient(eps,NN)"
   ]
  },
  {
   "cell_type": "code",
   "execution_count": 25,
   "metadata": {
    "collapsed": false,
    "deletable": true,
    "editable": true
   },
   "outputs": [],
   "source": [
    "#eq_aa10_"
   ]
  },
  {
   "cell_type": "code",
   "execution_count": null,
   "metadata": {
    "collapsed": true,
    "deletable": true,
    "editable": true
   },
   "outputs": [],
   "source": []
  },
  {
   "cell_type": "code",
   "execution_count": null,
   "metadata": {
    "collapsed": false,
    "deletable": true,
    "editable": true
   },
   "outputs": [],
   "source": [
    "\n"
   ]
  },
  {
   "cell_type": "code",
   "execution_count": null,
   "metadata": {
    "collapsed": false,
    "deletable": true,
    "editable": true
   },
   "outputs": [],
   "source": []
  },
  {
   "cell_type": "code",
   "execution_count": 26,
   "metadata": {
    "collapsed": false,
    "deletable": true,
    "editable": true
   },
   "outputs": [],
   "source": [
    "def simplify1(temp0):\n",
    "    temp1=temp0.trig_expand().expand().operands()\n",
    "    print(\"length of expression=\",len(temp1))\n",
    "    tempsize=len(temp1)\n",
    "\n",
    "    temp3=0\n",
    "    for i in range(tempsize):\n",
    "        factors=temp1[i].factor_list()\n",
    "        nsx,ncx,nst,nct,coeff=0,0,0,0,1\n",
    "        for f, mul in factors:\n",
    "            if f == sin(x):\n",
    "                nsx += mul\n",
    "            elif f == cos(x):\n",
    "                ncx += mul\n",
    "            elif f==sin(t):\n",
    "                nst+=mul\n",
    "            elif f==cos(t):\n",
    "                nct+=mul\n",
    "            else:\n",
    "                coeff *= f^mul\n",
    "        temp3=temp3+((sin(x)^nsx*cos(x)^ncx).trig_reduce()*(sin(t)^nst*cos(t)^nct).trig_reduce()*coeff)\n",
    "        print (\"progress \" + str(i+1)+\" of \" + str(tempsize) , end=\"\\r\")\n",
    "\n",
    "    temp4=temp3.expand()\n",
    "    return temp4"
   ]
  },
  {
   "cell_type": "code",
   "execution_count": 27,
   "metadata": {
    "collapsed": false,
    "deletable": true,
    "editable": true
   },
   "outputs": [
    {
     "name": "stdout",
     "output_type": "stream",
     "text": [
      "length of expression= 252\n",
      "progress 252 of 252\r"
     ]
    }
   ],
   "source": [
    "temp0=eq_aa10_\n",
    "temp4=simplify1(temp0)"
   ]
  },
  {
   "cell_type": "code",
   "execution_count": 28,
   "metadata": {
    "collapsed": false,
    "deletable": true,
    "editable": true
   },
   "outputs": [],
   "source": [
    "#temp4"
   ]
  },
  {
   "cell_type": "code",
   "execution_count": 29,
   "metadata": {
    "collapsed": false,
    "deletable": true,
    "editable": true
   },
   "outputs": [
    {
     "name": "stdout",
     "output_type": "stream",
     "text": [
      " progress 192 of 192\n",
      "zero if simplified:  0\n",
      "cos(x)*sin(t)    cos(3*x)*sin(t)    cos(5*x)*sin(t)    cos(x)*sin(3*t)    cos(3*x)*sin(3*t)    cos(5*x)*sin(3*t)    cos(x)*sin(5*t)    cos(3*x)*sin(5*t)    cos(5*x)*sin(5*t)    "
     ]
    }
   ],
   "source": [
    "temp5=simplify2(temp4)"
   ]
  },
  {
   "cell_type": "code",
   "execution_count": 30,
   "metadata": {
    "collapsed": true,
    "deletable": true,
    "editable": true
   },
   "outputs": [],
   "source": [
    "#as you can see, fk always becomes cosjx*sinmt even before substituting coefficients!"
   ]
  },
  {
   "cell_type": "code",
   "execution_count": null,
   "metadata": {
    "collapsed": false,
    "deletable": true,
    "editable": true
   },
   "outputs": [],
   "source": []
  },
  {
   "cell_type": "code",
   "execution_count": 31,
   "metadata": {
    "collapsed": true,
    "deletable": true,
    "editable": true
   },
   "outputs": [],
   "source": [
    "eq_ct_12=temp5"
   ]
  },
  {
   "cell_type": "code",
   "execution_count": null,
   "metadata": {
    "collapsed": false,
    "deletable": true,
    "editable": true
   },
   "outputs": [],
   "source": []
  },
  {
   "cell_type": "code",
   "execution_count": 32,
   "metadata": {
    "collapsed": true,
    "deletable": true,
    "editable": true
   },
   "outputs": [],
   "source": [
    "################################"
   ]
  },
  {
   "cell_type": "code",
   "execution_count": null,
   "metadata": {
    "collapsed": false,
    "deletable": true,
    "editable": true
   },
   "outputs": [],
   "source": []
  },
  {
   "cell_type": "code",
   "execution_count": 33,
   "metadata": {
    "collapsed": false,
    "deletable": true,
    "editable": true
   },
   "outputs": [
    {
     "name": "stdout",
     "output_type": "stream",
     "text": [
      "0  1  2  3  4  5  6  "
     ]
    }
   ],
   "source": [
    "#parallel code for calculating dynamic free surface boundary condition \n",
    "\n",
    "#index generator\n",
    "list_=[(0,0) for i in range(NNp^2+1)]\n",
    "\n",
    "ii=1\n",
    "for i1 in range(1,NNp+1):\n",
    "    for i2 in range(i1,NNp+1):\n",
    "        if i1+i2<=NN: #condition for i1&i2 directly used here\n",
    "            list_[ii]=i1,i2\n",
    "            ii=ii+1\n",
    "list_=list_[0:ii]\n",
    "\n",
    "#main function\n",
    "@parallel(4)\n",
    "def fpar2(i1,i2):\n",
    "    if i1==0 and i2==0:\n",
    "        return f_phi_t(x,t,NN)+f_eta(x,t,NN)-fB(NN)\n",
    "    else:\n",
    "        if i1==i2:\n",
    "            return 1/2*(f_u1(x,t,NNp,i1)^2+f_w1(x,t,NNp,i1)^2)\n",
    "        else:\n",
    "            return (f_u1(x,t,NNp,i1)*f_u1(x,t,NNp,i2)+f_w1(x,t,NNp,i1)*f_w1(x,t,NNp,i2))\n",
    "\n",
    "#parallel runner\n",
    "r2=fpar2(list_)\n",
    "result_=[0 for i in range(ii)]\n",
    "\n",
    "#evaluate parallel\n",
    "iii=0\n",
    "eq_aa1=0\n",
    "for i in r2:\n",
    "    #print i\n",
    "    result_[iii]=i\n",
    "    #print(result_[iii][0][0][0],result_[iii][1])\n",
    "    eq_aa1=eq_aa1+result_[iii][1]\n",
    "    #print(list_[ii][0][0][0])\n",
    "    print(iii,\" \",end='')\n",
    "    iii=iii+1\n",
    "\n",
    "#eq_aa1\n",
    "\n",
    "#regular code\n",
    "#eq_aa1=f_phi_t(x,t,NN)+f_eta(x,t,NN)-fB(NN)\n",
    "#for i1 in range(1,NNp+1):\n",
    "#    for i2 in range(i1,NNp+1):\n",
    "#        if i1+i2<=NN:\n",
    "#            if i1==i2:\n",
    "#                eq_aa1=eq_aa1+1/2*(f_u1(x,t,NNp,i1)*f_u1(x,t,NNp,i2)+f_w1(x,t,NNp,i1)*f_w1(x,t,NNp,i2))\n",
    "#            else:\n",
    "#                eq_aa1=eq_aa1+(f_u1(x,t,NNp,i1)*f_u1(x,t,NNp,i2)+f_w1(x,t,NNp,i1)*f_w1(x,t,NNp,i2))\n",
    "\n",
    "eq_aa10_=eq_aa1.expand().coefficient(eps,NN)"
   ]
  },
  {
   "cell_type": "code",
   "execution_count": 34,
   "metadata": {
    "collapsed": false,
    "deletable": true,
    "editable": true
   },
   "outputs": [],
   "source": [
    "#eq_aa10_"
   ]
  },
  {
   "cell_type": "code",
   "execution_count": null,
   "metadata": {
    "collapsed": true,
    "deletable": true,
    "editable": true
   },
   "outputs": [],
   "source": []
  },
  {
   "cell_type": "code",
   "execution_count": 35,
   "metadata": {
    "collapsed": false,
    "deletable": true,
    "editable": true
   },
   "outputs": [
    {
     "name": "stdout",
     "output_type": "stream",
     "text": [
      "length of expression= 398\n",
      "progress 398 of 398\r"
     ]
    }
   ],
   "source": [
    "temp0=eq_aa10_\n",
    "temp4=simplify1(temp0)"
   ]
  },
  {
   "cell_type": "code",
   "execution_count": 36,
   "metadata": {
    "collapsed": false,
    "deletable": true,
    "editable": true
   },
   "outputs": [],
   "source": [
    "#temp4"
   ]
  },
  {
   "cell_type": "code",
   "execution_count": 37,
   "metadata": {
    "collapsed": false,
    "deletable": true,
    "editable": true
   },
   "outputs": [
    {
     "name": "stdout",
     "output_type": "stream",
     "text": [
      " progress 398 of 398\n",
      "zero if simplified:  0\n",
      "cos(t)*cos(x)    cos(t)*cos(3*x)    cos(t)*cos(5*x)    cos(3*t)*cos(x)    cos(3*t)*cos(3*x)    cos(3*t)*cos(5*x)    cos(5*t)*cos(x)    cos(5*t)*cos(3*x)    cos(5*t)*cos(5*x)    "
     ]
    }
   ],
   "source": [
    "temp5=simplify2(temp4)"
   ]
  },
  {
   "cell_type": "code",
   "execution_count": 38,
   "metadata": {
    "collapsed": true,
    "deletable": true,
    "editable": true
   },
   "outputs": [],
   "source": [
    "#you will notice again that the pattern is cos(jx)*cos(mt)"
   ]
  },
  {
   "cell_type": "code",
   "execution_count": 39,
   "metadata": {
    "collapsed": true,
    "deletable": true,
    "editable": true
   },
   "outputs": [],
   "source": [
    "eq_ct_13=temp5"
   ]
  },
  {
   "cell_type": "code",
   "execution_count": null,
   "metadata": {
    "collapsed": false,
    "deletable": true,
    "editable": true
   },
   "outputs": [],
   "source": []
  },
  {
   "cell_type": "code",
   "execution_count": 40,
   "metadata": {
    "collapsed": true,
    "deletable": true,
    "editable": true
   },
   "outputs": [],
   "source": [
    "#things to improve: parallelize simplify_1 & simplify_2\n"
   ]
  },
  {
   "cell_type": "code",
   "execution_count": null,
   "metadata": {
    "collapsed": true,
    "deletable": true,
    "editable": true
   },
   "outputs": [],
   "source": []
  },
  {
   "cell_type": "code",
   "execution_count": null,
   "metadata": {
    "collapsed": true,
    "deletable": true,
    "editable": true
   },
   "outputs": [],
   "source": []
  },
  {
   "cell_type": "code",
   "execution_count": null,
   "metadata": {
    "collapsed": true,
    "deletable": true,
    "editable": true
   },
   "outputs": [],
   "source": []
  },
  {
   "cell_type": "code",
   "execution_count": 41,
   "metadata": {
    "collapsed": true,
    "deletable": true,
    "editable": true
   },
   "outputs": [],
   "source": [
    "#for first order, eq_aa41 is just one equation (?) so perhaps this will cause a problem there"
   ]
  },
  {
   "cell_type": "code",
   "execution_count": 42,
   "metadata": {
    "collapsed": false,
    "deletable": true,
    "editable": true
   },
   "outputs": [],
   "source": [
    "eq_all=eq_ct_12+eq_ct_13"
   ]
  },
  {
   "cell_type": "code",
   "execution_count": 43,
   "metadata": {
    "collapsed": false,
    "deletable": true,
    "editable": true
   },
   "outputs": [],
   "source": [
    "eq_all.append(eq_aa20)"
   ]
  },
  {
   "cell_type": "code",
   "execution_count": 44,
   "metadata": {
    "collapsed": false,
    "deletable": true,
    "editable": true
   },
   "outputs": [],
   "source": [
    "eq_all.append(eq_aa21)"
   ]
  },
  {
   "cell_type": "code",
   "execution_count": 45,
   "metadata": {
    "collapsed": true,
    "deletable": true,
    "editable": true
   },
   "outputs": [],
   "source": [
    "eq_list=eq_all"
   ]
  },
  {
   "cell_type": "code",
   "execution_count": 46,
   "metadata": {
    "collapsed": false,
    "deletable": true,
    "editable": true
   },
   "outputs": [
    {
     "data": {
      "text/plain": [
       "[-1/1536*aa_1_1_1*bb_1_1_1^4*fq_1 - 1/12*aa_2_2_2*bb_1_1_1^3 - 1/32*aa_3_1_1*bb_1_1_1^2*fq_1 - 1/32*aa_3_1_3*bb_1_1_1^2*fq_1 - 1/4*aa_1_1_1*bb_2_2_0^2*fq_1 + 1/4*aa_1_1_1*bb_2_2_0*bb_2_2_2*fq_1 - 1/8*aa_1_1_1*bb_2_2_2^2*fq_1 - 1/16*aa_1_1_1*bb_1_1_1*bb_3_1_1*fq_1 + 1/16*aa_1_1_1*bb_1_1_1*bb_3_1_3*fq_1 + 1/16*aa_1_1_1*bb_1_1_1*bb_3_3_1*fq_1 - 1/16*aa_1_1_1*bb_1_1_1*bb_3_3_3*fq_1 - 9/32*aa_3_3_1*bb_1_1_1^2*fq_3 - 9/32*aa_3_3_3*bb_1_1_1^2*fq_3 - 1/2*aa_4_2_2*bb_1_1_1 + 1/2*aa_3_1_1*bb_2_2_0 - 3/2*aa_3_3_1*bb_2_2_0 - 1/4*aa_3_1_1*bb_2_2_2 + 1/4*aa_3_1_3*bb_2_2_2 + 3/4*aa_3_3_1*bb_2_2_2 - 3/4*aa_3_3_3*bb_2_2_2 - 1/2*aa_2_2_2*bb_3_1_1 + 1/2*aa_2_2_2*bb_3_1_3 + 1/2*aa_2_2_2*bb_3_3_1 - 1/2*aa_2_2_2*bb_3_3_3 + 1/2*aa_1_1_1*bb_4_2_0 - 1/4*aa_1_1_1*bb_4_2_2 - bb_5_1_1*cc_1 - bb_3_1_1*cc_3 - bb_1_1_1*cc_5 - aa_5_1_1*fq_1,\n",
       " -3/1024*aa_1_1_1*bb_1_1_1^4*fq_1 - 3/8*aa_2_2_2*bb_1_1_1^3 - 3/64*aa_1_1_1*bb_1_1_1^2*bb_2_2_0 - 3/32*aa_3_1_1*bb_1_1_1^2*fq_1 - 3/32*aa_3_1_3*bb_1_1_1^2*fq_1 + 3/8*aa_1_1_1*bb_2_2_0^2*fq_1 - 3/8*aa_1_1_1*bb_2_2_0*bb_2_2_2*fq_1 + 3/16*aa_1_1_1*bb_2_2_2^2*fq_1 - 3/16*aa_1_1_1*bb_1_1_1*bb_3_1_1*fq_1 + 3/16*aa_1_1_1*bb_1_1_1*bb_3_1_3*fq_1 - 3/2*aa_2_2_2*bb_1_1_1*bb_2_2_0*fq_2 - 27/16*aa_3_3_1*bb_1_1_1^2*fq_3 - 27/16*aa_3_3_3*bb_1_1_1^2*fq_3 - 3/2*aa_4_2_2*bb_1_1_1 - 3*aa_4_4_2*bb_1_1_1 - 3/2*aa_3_1_1*bb_2_2_0 + 3/4*aa_3_1_1*bb_2_2_2 - 3/4*aa_3_1_3*bb_2_2_2 - 3/2*aa_2_2_2*bb_3_1_1 + 3/2*aa_2_2_2*bb_3_1_3 - 3/2*aa_1_1_1*bb_4_2_0 + 3/4*aa_1_1_1*bb_4_2_2 + 3/2*aa_1_1_1*bb_4_4_0 - 3/4*aa_1_1_1*bb_4_4_2 - bb_5_3_1*cc_1 - bb_3_3_1*cc_3 - 3*aa_5_3_1*fq_3,\n",
       " -5/3072*aa_1_1_1*bb_1_1_1^4*fq_1 - 5/24*aa_2_2_2*bb_1_1_1^3 - 5/64*aa_1_1_1*bb_1_1_1^2*bb_2_2_0 - 5/8*aa_1_1_1*bb_2_2_0^2*fq_1 + 5/8*aa_1_1_1*bb_2_2_0*bb_2_2_2*fq_1 - 5/16*aa_1_1_1*bb_2_2_2^2*fq_1 - 5/16*aa_1_1_1*bb_1_1_1*bb_3_3_1*fq_1 + 5/16*aa_1_1_1*bb_1_1_1*bb_3_3_3*fq_1 - 5/2*aa_2_2_2*bb_1_1_1*bb_2_2_0*fq_2 - 45/32*aa_3_3_1*bb_1_1_1^2*fq_3 - 45/32*aa_3_3_3*bb_1_1_1^2*fq_3 - 5*aa_4_4_2*bb_1_1_1 - 15/2*aa_3_3_1*bb_2_2_0 + 15/4*aa_3_3_1*bb_2_2_2 - 15/4*aa_3_3_3*bb_2_2_2 - 5/2*aa_2_2_2*bb_3_3_1 + 5/2*aa_2_2_2*bb_3_3_3 - 5/2*aa_1_1_1*bb_4_4_0 + 5/4*aa_1_1_1*bb_4_4_2 - bb_5_5_1*cc_1 - 5*aa_5_5_1*fq_5,\n",
       " -1/1024*aa_1_1_1*bb_1_1_1^4*fq_1 - 1/8*aa_2_2_2*bb_1_1_1^3 - 1/32*aa_3_1_1*bb_1_1_1^2*fq_1 - 1/16*aa_3_1_3*bb_1_1_1^2*fq_1 - 1/4*aa_1_1_1*bb_2_2_0*bb_2_2_2*fq_1 + 1/16*aa_1_1_1*bb_2_2_2^2*fq_1 - 1/16*aa_1_1_1*bb_1_1_1*bb_3_1_1*fq_1 + 1/16*aa_1_1_1*bb_1_1_1*bb_3_3_1*fq_1 - 9/32*aa_3_3_1*bb_1_1_1^2*fq_3 - 9/16*aa_3_3_3*bb_1_1_1^2*fq_3 - 1/2*aa_4_2_2*bb_1_1_1 - 1/2*aa_4_2_4*bb_1_1_1 + 1/2*aa_3_1_3*bb_2_2_0 - 3/2*aa_3_3_3*bb_2_2_0 + 1/4*aa_3_1_1*bb_2_2_2 - 3/4*aa_3_3_1*bb_2_2_2 - 1/2*aa_2_2_2*bb_3_1_1 + 1/2*aa_2_2_2*bb_3_3_1 + 1/4*aa_1_1_1*bb_4_2_2 - 1/4*aa_1_1_1*bb_4_2_4 - 3*bb_5_1_3*cc_1 - 3*bb_3_1_3*cc_3 - aa_5_1_3*fq_1,\n",
       " -9/2048*aa_1_1_1*bb_1_1_1^4*fq_1 - 9/16*aa_2_2_2*bb_1_1_1^3 - 3/64*aa_1_1_1*bb_1_1_1^2*bb_2_2_0 - 3/128*aa_1_1_1*bb_1_1_1^2*bb_2_2_2 - 3/32*aa_3_1_1*bb_1_1_1^2*fq_1 - 3/16*aa_3_1_3*bb_1_1_1^2*fq_1 + 3/8*aa_1_1_1*bb_2_2_0*bb_2_2_2*fq_1 - 3/32*aa_1_1_1*bb_2_2_2^2*fq_1 - 3/16*aa_1_1_1*bb_1_1_1*bb_3_1_1*fq_1 - 3/2*aa_2_2_2*bb_1_1_1*bb_2_2_0*fq_2 - 3/4*aa_2_2_2*bb_1_1_1*bb_2_2_2*fq_2 - 27/16*aa_3_3_1*bb_1_1_1^2*fq_3 - 27/8*aa_3_3_3*bb_1_1_1^2*fq_3 - 3/2*aa_4_2_2*bb_1_1_1 - 3/2*aa_4_2_4*bb_1_1_1 - 3*aa_4_4_2*bb_1_1_1 - 3*aa_4_4_4*bb_1_1_1 - 3/2*aa_3_1_3*bb_2_2_0 - 3/4*aa_3_1_1*bb_2_2_2 - 3/2*aa_2_2_2*bb_3_1_1 - 3/4*aa_1_1_1*bb_4_2_2 + 3/4*aa_1_1_1*bb_4_2_4 + 3/4*aa_1_1_1*bb_4_4_2 - 3/4*aa_1_1_1*bb_4_4_4 - 3*bb_5_3_3*cc_1 - 3*bb_3_3_3*cc_3 - 3*aa_5_3_3*fq_3,\n",
       " -5/2048*aa_1_1_1*bb_1_1_1^4*fq_1 - 5/16*aa_2_2_2*bb_1_1_1^3 - 5/64*aa_1_1_1*bb_1_1_1^2*bb_2_2_0 - 5/128*aa_1_1_1*bb_1_1_1^2*bb_2_2_2 - 5/8*aa_1_1_1*bb_2_2_0*bb_2_2_2*fq_1 + 5/32*aa_1_1_1*bb_2_2_2^2*fq_1 - 5/16*aa_1_1_1*bb_1_1_1*bb_3_3_1*fq_1 - 5/2*aa_2_2_2*bb_1_1_1*bb_2_2_0*fq_2 - 5/4*aa_2_2_2*bb_1_1_1*bb_2_2_2*fq_2 - 45/32*aa_3_3_1*bb_1_1_1^2*fq_3 - 45/16*aa_3_3_3*bb_1_1_1^2*fq_3 - 5*aa_4_4_2*bb_1_1_1 - 5*aa_4_4_4*bb_1_1_1 - 15/2*aa_3_3_3*bb_2_2_0 - 15/4*aa_3_3_1*bb_2_2_2 - 5/2*aa_2_2_2*bb_3_3_1 - 5/4*aa_1_1_1*bb_4_4_2 + 5/4*aa_1_1_1*bb_4_4_4 - 3*bb_5_5_3*cc_1 - 5*aa_5_5_3*fq_5,\n",
       " -1/3072*aa_1_1_1*bb_1_1_1^4*fq_1 - 1/24*aa_2_2_2*bb_1_1_1^3 - 1/32*aa_3_1_3*bb_1_1_1^2*fq_1 - 1/16*aa_1_1_1*bb_2_2_2^2*fq_1 - 1/16*aa_1_1_1*bb_1_1_1*bb_3_1_3*fq_1 + 1/16*aa_1_1_1*bb_1_1_1*bb_3_3_3*fq_1 - 9/32*aa_3_3_3*bb_1_1_1^2*fq_3 - 1/2*aa_4_2_4*bb_1_1_1 + 1/4*aa_3_1_3*bb_2_2_2 - 3/4*aa_3_3_3*bb_2_2_2 - 1/2*aa_2_2_2*bb_3_1_3 + 1/2*aa_2_2_2*bb_3_3_3 + 1/4*aa_1_1_1*bb_4_2_4 - 5*bb_5_1_5*cc_1 - aa_5_1_5*fq_1,\n",
       " -3/2048*aa_1_1_1*bb_1_1_1^4*fq_1 - 3/16*aa_2_2_2*bb_1_1_1^3 - 3/128*aa_1_1_1*bb_1_1_1^2*bb_2_2_2 - 3/32*aa_3_1_3*bb_1_1_1^2*fq_1 + 3/32*aa_1_1_1*bb_2_2_2^2*fq_1 - 3/16*aa_1_1_1*bb_1_1_1*bb_3_1_3*fq_1 - 3/4*aa_2_2_2*bb_1_1_1*bb_2_2_2*fq_2 - 27/16*aa_3_3_3*bb_1_1_1^2*fq_3 - 3/2*aa_4_2_4*bb_1_1_1 - 3*aa_4_4_4*bb_1_1_1 - 3/4*aa_3_1_3*bb_2_2_2 - 3/2*aa_2_2_2*bb_3_1_3 - 3/4*aa_1_1_1*bb_4_2_4 + 3/4*aa_1_1_1*bb_4_4_4 - 5*bb_5_3_5*cc_1 - 3*aa_5_3_5*fq_3,\n",
       " -5/6144*aa_1_1_1*bb_1_1_1^4*fq_1 - 5/48*aa_2_2_2*bb_1_1_1^3 - 5/128*aa_1_1_1*bb_1_1_1^2*bb_2_2_2 - 5/32*aa_1_1_1*bb_2_2_2^2*fq_1 - 5/16*aa_1_1_1*bb_1_1_1*bb_3_3_3*fq_1 - 5/4*aa_2_2_2*bb_1_1_1*bb_2_2_2*fq_2 - 45/32*aa_3_3_3*bb_1_1_1^2*fq_3 - 5*aa_4_4_4*bb_1_1_1 - 15/4*aa_3_3_3*bb_2_2_2 - 5/2*aa_2_2_2*bb_3_3_3 - 5/4*aa_1_1_1*bb_4_4_4 - 5*bb_5_5_5*cc_1 - 5*aa_5_5_5*fq_5,\n",
       " 25/1536*aa_1_1_1*bb_1_1_1^4*cc_1 + 1/16*aa_1_1_1^2*bb_1_1_1^3*fq_1 + 3/16*aa_1_1_1*bb_1_1_1^2*bb_2_2_0*cc_1*fq_1 + 1/8*aa_1_1_1*bb_1_1_1^2*bb_2_2_2*cc_1*fq_1 + 1/8*aa_1_1_1^2*bb_1_1_1*bb_2_2_0*fq_1^2 + 2/3*aa_2_2_2*bb_1_1_1^3*cc_1*fq_2 + 7/8*aa_1_1_1*aa_2_2_2*bb_1_1_1^2*fq_1*fq_2 + 13/16*aa_1_1_1*aa_2_2_2*bb_1_1_1^2 + 1/8*aa_1_1_1^2*bb_1_1_1*bb_2_2_0 + 9/32*aa_3_1_1*bb_1_1_1^2*cc_1 + 9/32*aa_3_1_3*bb_1_1_1^2*cc_1 + 27/32*aa_3_3_1*bb_1_1_1^2*cc_1 + 27/32*aa_3_3_3*bb_1_1_1^2*cc_1 + 2*aa_2_2_2*bb_1_1_1*bb_2_2_0*cc_1 + 1/4*aa_1_1_1*bb_2_2_0^2*cc_1 + 2*aa_2_2_2*bb_1_1_1*bb_2_2_2*cc_1 + 1/4*aa_1_1_1*bb_2_2_0*bb_2_2_2*cc_1 + 1/8*aa_1_1_1*bb_2_2_2^2*cc_1 + 9/16*aa_1_1_1*bb_1_1_1*bb_3_1_1*cc_1 + 3/16*aa_1_1_1*bb_1_1_1*bb_3_1_3*cc_1 + 3/16*aa_1_1_1*bb_1_1_1*bb_3_3_1*cc_1 + 1/16*aa_1_1_1*bb_1_1_1*bb_3_3_3*cc_1 + 9/32*aa_1_1_1*bb_1_1_1^2*cc_3 + 1/2*aa_1_1_1*aa_3_1_1*bb_1_1_1*fq_1 + 1/2*aa_1_1_1*aa_3_1_3*bb_1_1_1*fq_1 + 3/4*aa_1_1_1*aa_3_3_1*bb_1_1_1*fq_1 + 3/4*aa_1_1_1*aa_3_3_3*bb_1_1_1*fq_1 + aa_1_1_1*aa_2_2_2*bb_2_2_0*fq_1 + 1/4*aa_1_1_1^2*bb_3_1_1*fq_1 - 1/4*aa_1_1_1^2*bb_3_1_3*fq_1 + 1/2*aa_3_1_1*bb_2_2_0*cc_1*fq_1 + 1/4*aa_3_1_1*bb_2_2_2*cc_1*fq_1 + 3/4*aa_3_1_3*bb_2_2_2*cc_1*fq_1 + 1/2*aa_1_1_1*bb_4_2_0*cc_1*fq_1 + 1/4*aa_1_1_1*bb_4_2_2*cc_1*fq_1 + 1/2*aa_1_1_1*bb_2_2_0*cc_3*fq_1 + 1/4*aa_1_1_1*bb_2_2_2*cc_3*fq_1 + 4*aa_2_2_2^2*bb_1_1_1*fq_2 + 1/2*aa_1_1_1*aa_2_2_2*bb_2_2_0*fq_2 + aa_4_2_2*bb_1_1_1*cc_1*fq_2 + aa_2_2_2*bb_3_1_1*cc_1*fq_2 + aa_2_2_2*bb_3_1_3*cc_1*fq_2 + aa_2_2_2*bb_3_3_1*cc_1*fq_2 + aa_2_2_2*bb_3_3_3*cc_1*fq_2 + aa_2_2_2*bb_1_1_1*cc_3*fq_2 + 1/2*aa_2_2_2*aa_3_1_1*fq_1*fq_2 + 1/2*aa_2_2_2*aa_3_1_3*fq_1*fq_2 + 1/2*aa_1_1_1*aa_4_2_2*fq_1*fq_2 + 3/4*aa_1_1_1*aa_3_3_1*bb_1_1_1*fq_3 + 3/4*aa_1_1_1*aa_3_3_3*bb_1_1_1*fq_3 + 3/2*aa_3_3_1*bb_2_2_0*cc_1*fq_3 + 3/4*aa_3_3_1*bb_2_2_2*cc_1*fq_3 + 9/4*aa_3_3_3*bb_2_2_2*cc_1*fq_3 + 3/2*aa_2_2_2*aa_3_3_1*fq_2*fq_3 + 3/2*aa_2_2_2*aa_3_3_3*fq_2*fq_3 + 1/2*aa_2_2_2*aa_3_1_1 + 1/2*aa_2_2_2*aa_3_1_3 + 3/2*aa_2_2_2*aa_3_3_1 + 3/2*aa_2_2_2*aa_3_3_3 + 1/2*aa_1_1_1*aa_4_2_2 + aa_5_1_1*cc_1 + aa_3_1_1*cc_3 + aa_1_1_1*cc_5 + bb_5_1_1,\n",
       " 25/3072*aa_1_1_1*bb_1_1_1^4*cc_1 + 1/48*aa_1_1_1^2*bb_1_1_1^3*fq_1 + 9/64*aa_1_1_1*bb_1_1_1^2*bb_2_2_0*cc_1*fq_1 + 3/32*aa_1_1_1*bb_1_1_1^2*bb_2_2_2*cc_1*fq_1 + 1/8*aa_1_1_1^2*bb_1_1_1*bb_2_2_0*fq_1^2 + 1/2*aa_2_2_2*bb_1_1_1^3*cc_1*fq_2 + 11/32*aa_1_1_1*aa_2_2_2*bb_1_1_1^2*fq_1*fq_2 + 7/32*aa_1_1_1*aa_2_2_2*bb_1_1_1^2 + 1/8*aa_1_1_1^2*bb_1_1_1*bb_2_2_0 + 3/32*aa_3_1_1*bb_1_1_1^2*cc_1 + 3/32*aa_3_1_3*bb_1_1_1^2*cc_1 + 27/16*aa_3_3_1*bb_1_1_1^2*cc_1 + 27/16*aa_3_3_3*bb_1_1_1^2*cc_1 + aa_2_2_2*bb_1_1_1*bb_2_2_0*cc_1 + 1/8*aa_1_1_1*bb_2_2_0^2*cc_1 + aa_2_2_2*bb_1_1_1*bb_2_2_2*cc_1 + 1/8*aa_1_1_1*bb_2_2_0*bb_2_2_2*cc_1 + 1/16*aa_1_1_1*bb_2_2_2^2*cc_1 + 3/16*aa_1_1_1*bb_1_1_1*bb_3_1_1*cc_1 + 1/16*aa_1_1_1*bb_1_1_1*bb_3_1_3*cc_1 + 3/8*aa_1_1_1*bb_1_1_1*bb_3_3_1*cc_1 + 1/8*aa_1_1_1*bb_1_1_1*bb_3_3_3*cc_1 + 3/32*aa_1_1_1*bb_1_1_1^2*cc_3 + 9/8*aa_1_1_1*aa_3_3_1*bb_1_1_1*fq_1 + 9/8*aa_1_1_1*aa_3_3_3*bb_1_1_1*fq_1 + 3/4*aa_1_1_1*aa_2_2_2*bb_2_2_0*fq_1 + 1/4*aa_1_1_1^2*bb_3_3_1*fq_1 - 1/4*aa_1_1_1^2*bb_3_3_3*fq_1 + 1/2*aa_3_1_1*bb_2_2_0*cc_1*fq_1 + 1/4*aa_3_1_1*bb_2_2_2*cc_1*fq_1 + 3/4*aa_3_1_3*bb_2_2_2*cc_1*fq_1 + 1/2*aa_1_1_1*bb_4_2_0*cc_1*fq_1 + 1/4*aa_1_1_1*bb_4_2_2*cc_1*fq_1 + 1/2*aa_1_1_1*bb_4_4_0*cc_1*fq_1 + 1/4*aa_1_1_1*bb_4_4_2*cc_1*fq_1 + 1/2*aa_1_1_1*bb_2_2_0*cc_3*fq_1 + 1/4*aa_1_1_1*bb_2_2_2*cc_3*fq_1 + 3/4*aa_1_1_1*aa_2_2_2*bb_2_2_0*fq_2 + aa_4_2_2*bb_1_1_1*cc_1*fq_2 + aa_2_2_2*bb_3_1_1*cc_1*fq_2 + aa_2_2_2*bb_3_1_3*cc_1*fq_2 + aa_2_2_2*bb_1_1_1*cc_3*fq_2 + 1/2*aa_2_2_2*aa_3_1_1*fq_1*fq_2 + 1/2*aa_2_2_2*aa_3_1_3*fq_1*fq_2 + 1/2*aa_1_1_1*aa_4_2_2*fq_1*fq_2 + 3/8*aa_1_1_1*aa_3_3_1*bb_1_1_1*fq_3 + 3/8*aa_1_1_1*aa_3_3_3*bb_1_1_1*fq_3 + 2*aa_4_4_2*bb_1_1_1*cc_1*fq_4 + aa_1_1_1*aa_4_4_2*fq_1*fq_4 - 1/2*aa_2_2_2*aa_3_1_1 - 1/2*aa_2_2_2*aa_3_1_3 - 1/2*aa_1_1_1*aa_4_2_2 + aa_1_1_1*aa_4_4_2 + aa_5_3_1*cc_1 + aa_3_3_1*cc_3 + bb_5_3_1,\n",
       " 5/3072*aa_1_1_1*bb_1_1_1^4*cc_1 + 3/64*aa_1_1_1*bb_1_1_1^2*bb_2_2_0*cc_1*fq_1 + 1/32*aa_1_1_1*bb_1_1_1^2*bb_2_2_2*cc_1*fq_1 + 1/6*aa_2_2_2*bb_1_1_1^3*cc_1*fq_2 + 1/32*aa_1_1_1*aa_2_2_2*bb_1_1_1^2*fq_1*fq_2 - 1/32*aa_1_1_1*aa_2_2_2*bb_1_1_1^2 + 27/32*aa_3_3_1*bb_1_1_1^2*cc_1 + 27/32*aa_3_3_3*bb_1_1_1^2*cc_1 + aa_2_2_2*bb_1_1_1*bb_2_2_0*cc_1 + 1/8*aa_1_1_1*bb_2_2_0^2*cc_1 + aa_2_2_2*bb_1_1_1*bb_2_2_2*cc_1 + 1/8*aa_1_1_1*bb_2_2_0*bb_2_2_2*cc_1 + 1/16*aa_1_1_1*bb_2_2_2^2*cc_1 + 3/16*aa_1_1_1*bb_1_1_1*bb_3_3_1*cc_1 + 1/16*aa_1_1_1*bb_1_1_1*bb_3_3_3*cc_1 + 3/8*aa_1_1_1*aa_3_3_1*bb_1_1_1*fq_1 + 3/8*aa_1_1_1*aa_3_3_3*bb_1_1_1*fq_1 + 1/4*aa_1_1_1*aa_2_2_2*bb_2_2_0*fq_1 + 1/2*aa_1_1_1*bb_4_4_0*cc_1*fq_1 + 1/4*aa_1_1_1*bb_4_4_2*cc_1*fq_1 - 1/4*aa_1_1_1*aa_2_2_2*bb_2_2_0*fq_2 + aa_2_2_2*bb_3_3_1*cc_1*fq_2 + aa_2_2_2*bb_3_3_3*cc_1*fq_2 - 3/8*aa_1_1_1*aa_3_3_1*bb_1_1_1*fq_3 - 3/8*aa_1_1_1*aa_3_3_3*bb_1_1_1*fq_3 + 3/2*aa_3_3_1*bb_2_2_0*cc_1*fq_3 + 3/4*aa_3_3_1*bb_2_2_2*cc_1*fq_3 + 9/4*aa_3_3_3*bb_2_2_2*cc_1*fq_3 + 3/2*aa_2_2_2*aa_3_3_1*fq_2*fq_3 + 3/2*aa_2_2_2*aa_3_3_3*fq_2*fq_3 + 2*aa_4_4_2*bb_1_1_1*cc_1*fq_4 + aa_1_1_1*aa_4_4_2*fq_1*fq_4 - 3/2*aa_2_2_2*aa_3_3_1 - 3/2*aa_2_2_2*aa_3_3_3 - aa_1_1_1*aa_4_4_2 + aa_5_5_1*cc_1 + bb_5_5_1,\n",
       " 25/3072*aa_1_1_1*bb_1_1_1^4*cc_1 - 1/32*aa_1_1_1^2*bb_1_1_1^3*fq_1 + 1/16*aa_1_1_1*bb_1_1_1^2*bb_2_2_0*cc_1*fq_1 + 3/32*aa_1_1_1*bb_1_1_1^2*bb_2_2_2*cc_1*fq_1 - 1/8*aa_1_1_1^2*bb_1_1_1*bb_2_2_0*fq_1^2 + 1/16*aa_1_1_1^2*bb_1_1_1*bb_2_2_2*fq_1^2 + 1/2*aa_2_2_2*bb_1_1_1^3*cc_1*fq_2 - 7/16*aa_1_1_1*aa_2_2_2*bb_1_1_1^2*fq_1*fq_2 - 13/32*aa_1_1_1*aa_2_2_2*bb_1_1_1^2 - 1/8*aa_1_1_1^2*bb_1_1_1*bb_2_2_0 + 1/16*aa_1_1_1^2*bb_1_1_1*bb_2_2_2 + 3/32*aa_3_1_1*bb_1_1_1^2*cc_1 + 9/16*aa_3_1_3*bb_1_1_1^2*cc_1 + 9/32*aa_3_3_1*bb_1_1_1^2*cc_1 + 27/16*aa_3_3_3*bb_1_1_1^2*cc_1 + 2*aa_2_2_2*bb_1_1_1*bb_2_2_0*cc_1 + aa_2_2_2*bb_1_1_1*bb_2_2_2*cc_1 + 1/4*aa_1_1_1*bb_2_2_0*bb_2_2_2*cc_1 + 1/16*aa_1_1_1*bb_2_2_2^2*cc_1 + 3/16*aa_1_1_1*bb_1_1_1*bb_3_1_1*cc_1 + 3/8*aa_1_1_1*bb_1_1_1*bb_3_1_3*cc_1 + 1/16*aa_1_1_1*bb_1_1_1*bb_3_3_1*cc_1 + 1/8*aa_1_1_1*bb_1_1_1*bb_3_3_3*cc_1 + 3/32*aa_1_1_1*bb_1_1_1^2*cc_3 - 1/2*aa_1_1_1*aa_3_1_1*bb_1_1_1*fq_1 - 3/4*aa_1_1_1*aa_3_3_1*bb_1_1_1*fq_1 - aa_1_1_1*aa_2_2_2*bb_2_2_0*fq_1 + 1/2*aa_1_1_1*aa_2_2_2*bb_2_2_2*fq_1 - 1/4*aa_1_1_1^2*bb_3_1_1*fq_1 + 1/2*aa_1_1_1^2*bb_3_1_3*fq_1 + 3/2*aa_3_1_3*bb_2_2_0*cc_1*fq_1 + 1/4*aa_3_1_1*bb_2_2_2*cc_1*fq_1 + 1/4*aa_1_1_1*bb_4_2_2*cc_1*fq_1 + 1/4*aa_1_1_1*bb_4_2_4*cc_1*fq_1 + 1/4*aa_1_1_1*bb_2_2_2*cc_3*fq_1 - 2*aa_2_2_2^2*bb_1_1_1*fq_2 - 1/2*aa_1_1_1*aa_2_2_2*bb_2_2_0*fq_2 + 1/4*aa_1_1_1*aa_2_2_2*bb_2_2_2*fq_2 + aa_4_2_2*bb_1_1_1*cc_1*fq_2 + 2*aa_4_2_4*bb_1_1_1*cc_1*fq_2 + aa_2_2_2*bb_3_1_1*cc_1*fq_2 + aa_2_2_2*bb_3_3_1*cc_1*fq_2 + aa_2_2_2*bb_1_1_1*cc_3*fq_2 - 1/2*aa_2_2_2*aa_3_1_1*fq_1*fq_2 - 1/2*aa_1_1_1*aa_4_2_2*fq_1*fq_2 + 1/2*aa_1_1_1*aa_4_2_4*fq_1*fq_2 - 3/4*aa_1_1_1*aa_3_3_1*bb_1_1_1*fq_3 + 9/2*aa_3_3_3*bb_2_2_0*cc_1*fq_3 + 3/4*aa_3_3_1*bb_2_2_2*cc_1*fq_3 - 3/2*aa_2_2_2*aa_3_3_1*fq_2*fq_3 - 1/2*aa_2_2_2*aa_3_1_1 - 3/2*aa_2_2_2*aa_3_3_1 - 1/2*aa_1_1_1*aa_4_2_2 + 1/2*aa_1_1_1*aa_4_2_4 + 3*aa_5_1_3*cc_1 + 3*aa_3_1_3*cc_3 + bb_5_1_3,\n",
       " 25/6144*aa_1_1_1*bb_1_1_1^4*cc_1 - 1/96*aa_1_1_1^2*bb_1_1_1^3*fq_1 + 3/64*aa_1_1_1*bb_1_1_1^2*bb_2_2_0*cc_1*fq_1 + 9/128*aa_1_1_1*bb_1_1_1^2*bb_2_2_2*cc_1*fq_1 - 1/8*aa_1_1_1^2*bb_1_1_1*bb_2_2_0*fq_1^2 + 1/16*aa_1_1_1^2*bb_1_1_1*bb_2_2_2*fq_1^2 + 3/8*aa_2_2_2*bb_1_1_1^3*cc_1*fq_2 - 11/64*aa_1_1_1*aa_2_2_2*bb_1_1_1^2*fq_1*fq_2 - 7/64*aa_1_1_1*aa_2_2_2*bb_1_1_1^2 - 1/8*aa_1_1_1^2*bb_1_1_1*bb_2_2_0 + 1/16*aa_1_1_1^2*bb_1_1_1*bb_2_2_2 + 1/32*aa_3_1_1*bb_1_1_1^2*cc_1 + 3/16*aa_3_1_3*bb_1_1_1^2*cc_1 + 9/16*aa_3_3_1*bb_1_1_1^2*cc_1 + 27/8*aa_3_3_3*bb_1_1_1^2*cc_1 + aa_2_2_2*bb_1_1_1*bb_2_2_0*cc_1 + 1/2*aa_2_2_2*bb_1_1_1*bb_2_2_2*cc_1 + 1/8*aa_1_1_1*bb_2_2_0*bb_2_2_2*cc_1 + 1/32*aa_1_1_1*bb_2_2_2^2*cc_1 + 1/16*aa_1_1_1*bb_1_1_1*bb_3_1_1*cc_1 + 1/8*aa_1_1_1*bb_1_1_1*bb_3_1_3*cc_1 + 1/8*aa_1_1_1*bb_1_1_1*bb_3_3_1*cc_1 + 1/4*aa_1_1_1*bb_1_1_1*bb_3_3_3*cc_1 + 1/32*aa_1_1_1*bb_1_1_1^2*cc_3 - 9/8*aa_1_1_1*aa_3_3_1*bb_1_1_1*fq_1 - 3/4*aa_1_1_1*aa_2_2_2*bb_2_2_0*fq_1 + 3/8*aa_1_1_1*aa_2_2_2*bb_2_2_2*fq_1 - 1/4*aa_1_1_1^2*bb_3_3_1*fq_1 + 1/2*aa_1_1_1^2*bb_3_3_3*fq_1 + 3/2*aa_3_1_3*bb_2_2_0*cc_1*fq_1 + 1/4*aa_3_1_1*bb_2_2_2*cc_1*fq_1 + 1/4*aa_1_1_1*bb_4_2_2*cc_1*fq_1 + 1/4*aa_1_1_1*bb_4_2_4*cc_1*fq_1 + 1/4*aa_1_1_1*bb_4_4_2*cc_1*fq_1 + 1/4*aa_1_1_1*bb_4_4_4*cc_1*fq_1 + 1/4*aa_1_1_1*bb_2_2_2*cc_3*fq_1 - 3/4*aa_1_1_1*aa_2_2_2*bb_2_2_0*fq_2 + 3/8*aa_1_1_1*aa_2_2_2*bb_2_2_2*fq_2 + aa_4_2_2*bb_1_1_1*cc_1*fq_2 + 2*aa_4_2_4*bb_1_1_1*cc_1*fq_2 + aa_2_2_2*bb_3_1_1*cc_1*fq_2 + aa_2_2_2*bb_1_1_1*cc_3*fq_2 - 1/2*aa_2_2_2*aa_3_1_1*fq_1*fq_2 - 1/2*aa_1_1_1*aa_4_2_2*fq_1*fq_2 + 1/2*aa_1_1_1*aa_4_2_4*fq_1*fq_2 - 3/8*aa_1_1_1*aa_3_3_1*bb_1_1_1*fq_3 + 2*aa_4_4_2*bb_1_1_1*cc_1*fq_4 + 4*aa_4_4_4*bb_1_1_1*cc_1*fq_4 - aa_1_1_1*aa_4_4_2*fq_1*fq_4 + aa_1_1_1*aa_4_4_4*fq_1*fq_4 + 1/2*aa_2_2_2*aa_3_1_1 + 1/2*aa_1_1_1*aa_4_2_2 - 1/2*aa_1_1_1*aa_4_2_4 - aa_1_1_1*aa_4_4_2 + aa_1_1_1*aa_4_4_4 + 3*aa_5_3_3*cc_1 + 3*aa_3_3_3*cc_3 + bb_5_3_3,\n",
       " 5/6144*aa_1_1_1*bb_1_1_1^4*cc_1 + 1/64*aa_1_1_1*bb_1_1_1^2*bb_2_2_0*cc_1*fq_1 + 3/128*aa_1_1_1*bb_1_1_1^2*bb_2_2_2*cc_1*fq_1 + 1/8*aa_2_2_2*bb_1_1_1^3*cc_1*fq_2 - 1/64*aa_1_1_1*aa_2_2_2*bb_1_1_1^2*fq_1*fq_2 + 1/64*aa_1_1_1*aa_2_2_2*bb_1_1_1^2 + 9/32*aa_3_3_1*bb_1_1_1^2*cc_1 + 27/16*aa_3_3_3*bb_1_1_1^2*cc_1 + aa_2_2_2*bb_1_1_1*bb_2_2_0*cc_1 + 1/2*aa_2_2_2*bb_1_1_1*bb_2_2_2*cc_1 + 1/8*aa_1_1_1*bb_2_2_0*bb_2_2_2*cc_1 + 1/32*aa_1_1_1*bb_2_2_2^2*cc_1 + 1/16*aa_1_1_1*bb_1_1_1*bb_3_3_1*cc_1 + 1/8*aa_1_1_1*bb_1_1_1*bb_3_3_3*cc_1 - 3/8*aa_1_1_1*aa_3_3_1*bb_1_1_1*fq_1 - 1/4*aa_1_1_1*aa_2_2_2*bb_2_2_0*fq_1 + 1/8*aa_1_1_1*aa_2_2_2*bb_2_2_2*fq_1 + 1/4*aa_1_1_1*bb_4_4_2*cc_1*fq_1 + 1/4*aa_1_1_1*bb_4_4_4*cc_1*fq_1 + 1/4*aa_1_1_1*aa_2_2_2*bb_2_2_0*fq_2 - 1/8*aa_1_1_1*aa_2_2_2*bb_2_2_2*fq_2 + aa_2_2_2*bb_3_3_1*cc_1*fq_2 + 3/8*aa_1_1_1*aa_3_3_1*bb_1_1_1*fq_3 + 9/2*aa_3_3_3*bb_2_2_0*cc_1*fq_3 + 3/4*aa_3_3_1*bb_2_2_2*cc_1*fq_3 - 3/2*aa_2_2_2*aa_3_3_1*fq_2*fq_3 + 2*aa_4_4_2*bb_1_1_1*cc_1*fq_4 + 4*aa_4_4_4*bb_1_1_1*cc_1*fq_4 - aa_1_1_1*aa_4_4_2*fq_1*fq_4 + aa_1_1_1*aa_4_4_4*fq_1*fq_4 + 3/2*aa_2_2_2*aa_3_3_1 + aa_1_1_1*aa_4_4_2 - aa_1_1_1*aa_4_4_4 + 3*aa_5_5_3*cc_1 + bb_5_5_3,\n",
       " 5/3072*aa_1_1_1*bb_1_1_1^4*cc_1 - 1/32*aa_1_1_1^2*bb_1_1_1^3*fq_1 + 1/32*aa_1_1_1*bb_1_1_1^2*bb_2_2_2*cc_1*fq_1 - 1/16*aa_1_1_1^2*bb_1_1_1*bb_2_2_2*fq_1^2 + 1/6*aa_2_2_2*bb_1_1_1^3*cc_1*fq_2 - 7/16*aa_1_1_1*aa_2_2_2*bb_1_1_1^2*fq_1*fq_2 - 13/32*aa_1_1_1*aa_2_2_2*bb_1_1_1^2 - 1/16*aa_1_1_1^2*bb_1_1_1*bb_2_2_2 + 9/32*aa_3_1_3*bb_1_1_1^2*cc_1 + 27/32*aa_3_3_3*bb_1_1_1^2*cc_1 + aa_2_2_2*bb_1_1_1*bb_2_2_2*cc_1 + 1/16*aa_1_1_1*bb_2_2_2^2*cc_1 + 3/16*aa_1_1_1*bb_1_1_1*bb_3_1_3*cc_1 + 1/16*aa_1_1_1*bb_1_1_1*bb_3_3_3*cc_1 - 1/2*aa_1_1_1*aa_3_1_3*bb_1_1_1*fq_1 - 3/4*aa_1_1_1*aa_3_3_3*bb_1_1_1*fq_1 - 1/2*aa_1_1_1*aa_2_2_2*bb_2_2_2*fq_1 - 1/4*aa_1_1_1^2*bb_3_1_3*fq_1 + 3/4*aa_3_1_3*bb_2_2_2*cc_1*fq_1 + 1/4*aa_1_1_1*bb_4_2_4*cc_1*fq_1 - 2*aa_2_2_2^2*bb_1_1_1*fq_2 - 1/4*aa_1_1_1*aa_2_2_2*bb_2_2_2*fq_2 + 2*aa_4_2_4*bb_1_1_1*cc_1*fq_2 + aa_2_2_2*bb_3_1_3*cc_1*fq_2 + aa_2_2_2*bb_3_3_3*cc_1*fq_2 - 1/2*aa_2_2_2*aa_3_1_3*fq_1*fq_2 - 1/2*aa_1_1_1*aa_4_2_4*fq_1*fq_2 - 3/4*aa_1_1_1*aa_3_3_3*bb_1_1_1*fq_3 + 9/4*aa_3_3_3*bb_2_2_2*cc_1*fq_3 - 3/2*aa_2_2_2*aa_3_3_3*fq_2*fq_3 - 1/2*aa_2_2_2*aa_3_1_3 - 3/2*aa_2_2_2*aa_3_3_3 - 1/2*aa_1_1_1*aa_4_2_4 + 5*aa_5_1_5*cc_1 + bb_5_1_5,\n",
       " 5/6144*aa_1_1_1*bb_1_1_1^4*cc_1 - 1/96*aa_1_1_1^2*bb_1_1_1^3*fq_1 + 3/128*aa_1_1_1*bb_1_1_1^2*bb_2_2_2*cc_1*fq_1 - 1/16*aa_1_1_1^2*bb_1_1_1*bb_2_2_2*fq_1^2 + 1/8*aa_2_2_2*bb_1_1_1^3*cc_1*fq_2 - 11/64*aa_1_1_1*aa_2_2_2*bb_1_1_1^2*fq_1*fq_2 - 7/64*aa_1_1_1*aa_2_2_2*bb_1_1_1^2 - 1/16*aa_1_1_1^2*bb_1_1_1*bb_2_2_2 + 3/32*aa_3_1_3*bb_1_1_1^2*cc_1 + 27/16*aa_3_3_3*bb_1_1_1^2*cc_1 + 1/2*aa_2_2_2*bb_1_1_1*bb_2_2_2*cc_1 + 1/32*aa_1_1_1*bb_2_2_2^2*cc_1 + 1/16*aa_1_1_1*bb_1_1_1*bb_3_1_3*cc_1 + 1/8*aa_1_1_1*bb_1_1_1*bb_3_3_3*cc_1 - 9/8*aa_1_1_1*aa_3_3_3*bb_1_1_1*fq_1 - 3/8*aa_1_1_1*aa_2_2_2*bb_2_2_2*fq_1 - 1/4*aa_1_1_1^2*bb_3_3_3*fq_1 + 3/4*aa_3_1_3*bb_2_2_2*cc_1*fq_1 + 1/4*aa_1_1_1*bb_4_2_4*cc_1*fq_1 + 1/4*aa_1_1_1*bb_4_4_4*cc_1*fq_1 - 3/8*aa_1_1_1*aa_2_2_2*bb_2_2_2*fq_2 + 2*aa_4_2_4*bb_1_1_1*cc_1*fq_2 + aa_2_2_2*bb_3_1_3*cc_1*fq_2 - 1/2*aa_2_2_2*aa_3_1_3*fq_1*fq_2 - 1/2*aa_1_1_1*aa_4_2_4*fq_1*fq_2 - 3/8*aa_1_1_1*aa_3_3_3*bb_1_1_1*fq_3 + 4*aa_4_4_4*bb_1_1_1*cc_1*fq_4 - aa_1_1_1*aa_4_4_4*fq_1*fq_4 + 1/2*aa_2_2_2*aa_3_1_3 + 1/2*aa_1_1_1*aa_4_2_4 - aa_1_1_1*aa_4_4_4 + 5*aa_5_3_5*cc_1 + bb_5_3_5,\n",
       " 1/6144*aa_1_1_1*bb_1_1_1^4*cc_1 + 1/128*aa_1_1_1*bb_1_1_1^2*bb_2_2_2*cc_1*fq_1 + 1/24*aa_2_2_2*bb_1_1_1^3*cc_1*fq_2 - 1/64*aa_1_1_1*aa_2_2_2*bb_1_1_1^2*fq_1*fq_2 + 1/64*aa_1_1_1*aa_2_2_2*bb_1_1_1^2 + 27/32*aa_3_3_3*bb_1_1_1^2*cc_1 + 1/2*aa_2_2_2*bb_1_1_1*bb_2_2_2*cc_1 + 1/32*aa_1_1_1*bb_2_2_2^2*cc_1 + 1/16*aa_1_1_1*bb_1_1_1*bb_3_3_3*cc_1 - 3/8*aa_1_1_1*aa_3_3_3*bb_1_1_1*fq_1 - 1/8*aa_1_1_1*aa_2_2_2*bb_2_2_2*fq_1 + 1/4*aa_1_1_1*bb_4_4_4*cc_1*fq_1 + 1/8*aa_1_1_1*aa_2_2_2*bb_2_2_2*fq_2 + aa_2_2_2*bb_3_3_3*cc_1*fq_2 + 3/8*aa_1_1_1*aa_3_3_3*bb_1_1_1*fq_3 + 9/4*aa_3_3_3*bb_2_2_2*cc_1*fq_3 - 3/2*aa_2_2_2*aa_3_3_3*fq_2*fq_3 + 4*aa_4_4_4*bb_1_1_1*cc_1*fq_4 - aa_1_1_1*aa_4_4_4*fq_1*fq_4 + 3/2*aa_2_2_2*aa_3_3_3 + aa_1_1_1*aa_4_4_4 + 5*aa_5_5_5*cc_1 + bb_5_5_5,\n",
       " 2*bb_5_1_1 + 2*bb_5_1_3 + 2*bb_5_1_5 + 2*bb_5_3_1 + 2*bb_5_3_3 + 2*bb_5_3_5 + 2*bb_5_5_1 + 2*bb_5_5_3 + 2*bb_5_5_5,\n",
       " 2*bb_5_1_1 + 2*bb_5_1_3 + 2*bb_5_1_5 + 2*bb_5_3_1 + 2*bb_5_3_3 + 2*bb_5_3_5 + 2*bb_5_5_1 + 2*bb_5_5_3 + 2*bb_5_5_5]"
      ]
     },
     "execution_count": 46,
     "metadata": {},
     "output_type": "execute_result"
    }
   ],
   "source": [
    "eq_list"
   ]
  },
  {
   "cell_type": "code",
   "execution_count": 47,
   "metadata": {
    "collapsed": true,
    "deletable": true,
    "editable": true
   },
   "outputs": [],
   "source": [
    "#substitutions should be made in eq_list for all the variables from orders 1 to NNp"
   ]
  },
  {
   "cell_type": "code",
   "execution_count": null,
   "metadata": {
    "collapsed": false,
    "deletable": true,
    "editable": true
   },
   "outputs": [],
   "source": []
  },
  {
   "cell_type": "code",
   "execution_count": 48,
   "metadata": {
    "collapsed": false,
    "deletable": true,
    "editable": true
   },
   "outputs": [
    {
     "name": "stdout",
     "output_type": "stream",
     "text": [
      "progress 20 of 20\r"
     ]
    }
   ],
   "source": [
    "for ii in range(len(eq_list)):\n",
    "    for i_ in range(1,NN):\n",
    "        eq_list[ii]=eq_list[ii].substitute(vars()['cc_' + str(i_) ]==CCC[i_])\n",
    "        eq_list[ii]=eq_list[ii].substitute(vars()['dd_' + str(i_) ]==DDD[i_])\n",
    "        for j_ in range(i_+1):\n",
    "            for m_ in range(i_+1):\n",
    "                eq_list[ii]=eq_list[ii].substitute(vars()['aa_' + str(i_) + '_' + str(j_) + '_' + str(m_)]==AAA[i_][j_][m_])\n",
    "                eq_list[ii]=eq_list[ii].substitute(vars()['bb_' + str(i_) + '_' + str(j_) + '_' + str(m_)]==BBB[i_][j_][m_])\n",
    "    for j_ in range(1,NN+1):\n",
    "        eq_list[ii]=eq_list[ii].substitute(vars()['fq_' + str(j_) ]==fq2(j_,q))\n",
    "\n",
    "    eq_list[ii]=eq_list[ii].simplify_full()\n",
    "    print (\"progress \" + str(ii+1)+\" of \" + str(len(eq_list)) , end=\"\\r\")"
   ]
  },
  {
   "cell_type": "code",
   "execution_count": 49,
   "metadata": {
    "collapsed": false,
    "deletable": true,
    "editable": true
   },
   "outputs": [],
   "source": [
    "#eq_list"
   ]
  },
  {
   "cell_type": "code",
   "execution_count": null,
   "metadata": {
    "collapsed": true,
    "deletable": true,
    "editable": true
   },
   "outputs": [],
   "source": []
  },
  {
   "cell_type": "code",
   "execution_count": 50,
   "metadata": {
    "collapsed": false,
    "deletable": true,
    "editable": true
   },
   "outputs": [],
   "source": [
    "eps1=var('eps1')"
   ]
  },
  {
   "cell_type": "code",
   "execution_count": 51,
   "metadata": {
    "collapsed": true,
    "deletable": true,
    "editable": true
   },
   "outputs": [],
   "source": [
    "eq_varfinder=0\n",
    "for i in range(len(eq_list)):\n",
    "    eq_varfinder=eq_varfinder+eq_list[i]*eps1^i\n",
    "varlist=eq_varfinder.variables()"
   ]
  },
  {
   "cell_type": "code",
   "execution_count": 52,
   "metadata": {
    "collapsed": false,
    "deletable": true,
    "editable": true
   },
   "outputs": [
    {
     "data": {
      "text/plain": [
       "(aa_5_1_1,\n",
       " aa_5_1_3,\n",
       " aa_5_1_5,\n",
       " aa_5_3_1,\n",
       " aa_5_3_3,\n",
       " aa_5_3_5,\n",
       " aa_5_5_1,\n",
       " aa_5_5_3,\n",
       " aa_5_5_5,\n",
       " bb_5_1_1,\n",
       " bb_5_1_3,\n",
       " bb_5_1_5,\n",
       " bb_5_3_1,\n",
       " bb_5_3_3,\n",
       " bb_5_3_5,\n",
       " bb_5_5_1,\n",
       " bb_5_5_3,\n",
       " bb_5_5_5,\n",
       " cc_5,\n",
       " eps1,\n",
       " q)"
      ]
     },
     "execution_count": 52,
     "metadata": {},
     "output_type": "execute_result"
    }
   ],
   "source": [
    "varlist"
   ]
  },
  {
   "cell_type": "code",
   "execution_count": 53,
   "metadata": {
    "collapsed": false,
    "deletable": true,
    "editable": true
   },
   "outputs": [],
   "source": [
    "varlist=varlist[0:len(varlist)-2]"
   ]
  },
  {
   "cell_type": "code",
   "execution_count": 54,
   "metadata": {
    "collapsed": false,
    "deletable": true,
    "editable": true
   },
   "outputs": [],
   "source": [
    "sol=solve(eq_list,varlist)[0]"
   ]
  },
  {
   "cell_type": "code",
   "execution_count": 55,
   "metadata": {
    "collapsed": false,
    "deletable": true,
    "editable": true
   },
   "outputs": [
    {
     "data": {
      "text/plain": [
       "[aa_5_1_1 == 1/65536*(97200*q^34 + 969300*q^32 + 10312920*q^30 + 40437585*q^28 - 99942680*q^26 - 718547767*q^24 - 1053139982*q^22 - 468613281*q^20 - 625150182*q^18 - 1543359636*q^16 - 1317006294*q^14 - 610724583*q^12 - 538477502*q^10 - 434987253*q^8 - 119464668*q^6 + 24483303*q^4 + 17432820*q^2 + 2259900)/(2700*q^(53/2) + 24945*q^(49/2) + 73990*q^(45/2) + 93072*q^(41/2) + 46690*q^(37/2) + 1267*q^(33/2) - 5220*q^(29/2) - 900*q^(25/2)),\n",
       " aa_5_1_3 == 1/65536*(192*q^16 - 8536*q^14 - 24494*q^12 - 2281*q^10 - 7833*q^8 - 34170*q^6 - 16344*q^4 - 25461*q^2 - 2673)/(4*q^(25/2) + 3*q^(21/2)),\n",
       " aa_5_1_5 == -1/65536*(1828*q^(25/2) + 352*q^(21/2) - 10757*q^(17/2) + 35788*q^(13/2) - 594*q^(9/2) - 8100*q^(5/2) - 405*sqrt(q))/(4*q^13 + 3*q^11),\n",
       " aa_5_3_1 == 1/65536*(108*q^18 - 5934*q^16 + 5105*q^14 + 46195*q^12 - 51879*q^10 - 35153*q^8 + 4283*q^6 + 7569*q^4 + 4239*q^2 + 891)/(q^(25/2) + 3*q^(21/2)),\n",
       " aa_5_3_3 == -1/65536*(5400*q^22 + 12918*q^20 - 137093*q^18 - 272731*q^16 + 357403*q^14 + 299725*q^12 + 100929*q^10 + 467859*q^8 + 215865*q^6 - 91935*q^4 - 169128*q^2 - 43740)/(4*q^(37/2) + 35*q^(33/2) + 84*q^(29/2) + 45*q^(25/2)),\n",
       " aa_5_3_5 == -1/65536*(78144*q^16 + 364169*q^14 - 491094*q^12 - 1068351*q^10 + 1162018*q^8 + 332347*q^6 - 358650*q^4 - 114885*q^2 - 4050)/(36*q^(33/2) + 215*q^(29/2) + 181*q^(25/2) + 30*q^(21/2)),\n",
       " aa_5_5_1 == -1/65536*(180*q^22 - 360*q^20 - 1329*q^18 - 1389*q^16 - 10180*q^14 + 25076*q^12 + 40794*q^10 - 62542*q^8 + 3864*q^6 + 3132*q^4 + 2511*q^2 + 243)/(5*q^(29/2) + 18*q^(25/2) + 9*q^(21/2)),\n",
       " aa_5_5_3 == -1/65536*(10290*q^22 + 43395*q^20 - 173337*q^18 - 602962*q^16 + 701240*q^14 + 1757970*q^12 - 1345366*q^10 - 1223160*q^8 + 844206*q^6 + 21555*q^4 - 31401*q^2 - 2430)/(5*q^(37/2) + 45*q^(33/2) + 113*q^(29/2) + 59*q^(25/2) - 30*q^(21/2)),\n",
       " aa_5_5_5 == -1/65536*(5415*q^16 + 32830*q^14 - 2142*q^12 - 121450*q^10 + 28240*q^8 + 135290*q^6 - 88578*q^4 + 8370*q^2 + 2025)/(3*q^(33/2) + 20*q^(29/2) + 25*q^(25/2)),\n",
       " bb_5_1_1 == -1/196608*(291600*q^34 + 2907900*q^32 + 32753160*q^30 + 149869395*q^28 - 96175800*q^26 - 1388122677*q^24 - 1816814730*q^22 - 673012947*q^20 - 2204709010*q^18 - 4183229964*q^16 - 2019366082*q^14 - 127366501*q^12 - 1024292202*q^10 - 1272297663*q^8 - 404176500*q^6 + 54476469*q^4 + 49965660*q^2 + 6779700)/(2700*q^26 + 24945*q^24 + 73990*q^22 + 93072*q^20 + 46690*q^18 + 1267*q^16 - 5220*q^14 - 900*q^12),\n",
       " bb_5_1_3 == 1/196608*(576*q^16 + 8184*q^14 + 17094*q^12 + 22645*q^10 + 2281*q^8 + 23658*q^6 + 7776*q^4 + 22761*q^2 + 2673)/(4*q^12 + 3*q^10),\n",
       " bb_5_1_5 == 1/196608*(60*q^12 + 1728*q^10 + 781*q^8 + 16476*q^6 - 4158*q^4 - 4212*q^2 - 243)/(4*q^12 + 3*q^10),\n",
       " bb_5_3_1 == -3/65536*(20*q^18 - 1386*q^16 + 1159*q^14 + 17385*q^12 - 1473*q^10 - 24611*q^8 + 13245*q^6 + 5427*q^4 + 12393*q^2 + 2673)/(q^12 + 3*q^10),\n",
       " bb_5_3_3 == 3/65536*(216*q^22 - 570*q^20 - 18933*q^18 - 71519*q^16 - 100329*q^14 - 35063*q^12 + 38725*q^10 - 123273*q^8 - 114291*q^6 - 157707*q^4 - 125388*q^2 - 43740)/(4*q^18 + 35*q^16 + 84*q^14 + 45*q^12),\n",
       " bb_5_3_5 == -3/65536*(320*q^16 + 1737*q^14 - 4390*q^12 - 8591*q^10 + 157370*q^8 + 25203*q^6 + 112590*q^4 + 62451*q^2 + 2430)/(36*q^16 + 215*q^14 + 181*q^12 + 30*q^10),\n",
       " bb_5_5_1 == 5/196608*(108*q^22 + 648*q^20 - 3735*q^18 + 5853*q^16 + 84492*q^14 + 18828*q^12 - 256546*q^10 - 31890*q^8 + 169632*q^6 + 96228*q^4 + 37665*q^2 + 3645)/(5*q^14 + 18*q^12 + 9*q^10),\n",
       " bb_5_5_3 == -5/196608*(342*q^22 + 1257*q^20 + 2085*q^18 - 31430*q^16 - 390368*q^14 - 350282*q^12 + 1479350*q^10 + 570136*q^8 - 1001838*q^6 - 419175*q^4 + 146205*q^2 + 12150)/(5*q^18 + 45*q^16 + 113*q^14 + 59*q^12 - 30*q^10),\n",
       " bb_5_5_5 == 5/196608*(45*q^16 - 150*q^14 - 570*q^12 + 2618*q^10 - 3896*q^8 - 498*q^6 + 25866*q^4 + 8910*q^2 + 6075)/(3*q^16 + 20*q^14 + 25*q^12),\n",
       " cc_5 == -1/16384*(12*q^16 - 176*q^14 - 681*q^12 + 201*q^10 + 279*q^8 - 978*q^6 - 279*q^4 + 513*q^2 + 405)/q^(19/2)]"
      ]
     },
     "execution_count": 55,
     "metadata": {},
     "output_type": "execute_result"
    }
   ],
   "source": [
    "sol"
   ]
  },
  {
   "cell_type": "code",
   "execution_count": null,
   "metadata": {
    "collapsed": true,
    "deletable": true,
    "editable": true
   },
   "outputs": [],
   "source": []
  },
  {
   "cell_type": "code",
   "execution_count": 56,
   "metadata": {
    "collapsed": false,
    "deletable": true,
    "editable": true
   },
   "outputs": [],
   "source": [
    "C[NN]=0\n",
    "D[NN]=0\n",
    "for j in range(NN+1):\n",
    "    for m in range(NN+1):\n",
    "        A[NN][j][m]=0\n",
    "        B[NN][j][m]=0\n",
    "\n",
    "for i in range(len(sol)):\n",
    "    temp0=sol[i].lhs()\n",
    "    temp1=sol[i].rhs()\n",
    "    if temp0==var('cc_' + str(NN)):\n",
    "        C[NN]=temp1\n",
    "    if temp0==var('dd_' + str(NN)):\n",
    "        D[NN]=temp1\n",
    "    for j in range(NN+1):\n",
    "        for m in range(NN+1):\n",
    "            if temp0==var('aa_'+str(NN)+'_'+str(j)+'_'+str(m)):\n",
    "                A[NN][j][m]=temp1\n",
    "            if temp0==var('bb_'+str(NN)+'_'+str(j)+'_'+str(m)):\n",
    "                B[NN][j][m]=temp1            "
   ]
  },
  {
   "cell_type": "code",
   "execution_count": null,
   "metadata": {
    "collapsed": false,
    "deletable": true,
    "editable": true
   },
   "outputs": [],
   "source": []
  },
  {
   "cell_type": "code",
   "execution_count": null,
   "metadata": {
    "collapsed": false,
    "deletable": true,
    "editable": true
   },
   "outputs": [],
   "source": []
  },
  {
   "cell_type": "code",
   "execution_count": 57,
   "metadata": {
    "collapsed": false,
    "deletable": true,
    "editable": true
   },
   "outputs": [
    {
     "name": "stdout",
     "output_type": "stream",
     "text": [
      "CCC[5]=-1/16384*(12*q^16 - 176*q^14 - 681*q^12 + 201*q^10 + 279*q^8 - 978*q^6 - 279*q^4 + 513*q^2 + 405)/q^(19/2)\n",
      "AAA[5][1][1]=1/65536*(97200*q^34 + 969300*q^32 + 10312920*q^30 + 40437585*q^28 - 99942680*q^26 - 718547767*q^24 - 1053139982*q^22 - 468613281*q^20 - 625150182*q^18 - 1543359636*q^16 - 1317006294*q^14 - 610724583*q^12 - 538477502*q^10 - 434987253*q^8 - 119464668*q^6 + 24483303*q^4 + 17432820*q^2 + 2259900)/(2700*q^(53/2) + 24945*q^(49/2) + 73990*q^(45/2) + 93072*q^(41/2) + 46690*q^(37/2) + 1267*q^(33/2) - 5220*q^(29/2) - 900*q^(25/2))\n",
      "AAA[5][1][3]=1/65536*(192*q^16 - 8536*q^14 - 24494*q^12 - 2281*q^10 - 7833*q^8 - 34170*q^6 - 16344*q^4 - 25461*q^2 - 2673)/(4*q^(25/2) + 3*q^(21/2))\n",
      "AAA[5][1][5]=-1/65536*(1828*q^(25/2) + 352*q^(21/2) - 10757*q^(17/2) + 35788*q^(13/2) - 594*q^(9/2) - 8100*q^(5/2) - 405*sqrt(q))/(4*q^13 + 3*q^11)\n",
      "AAA[5][3][1]=1/65536*(108*q^18 - 5934*q^16 + 5105*q^14 + 46195*q^12 - 51879*q^10 - 35153*q^8 + 4283*q^6 + 7569*q^4 + 4239*q^2 + 891)/(q^(25/2) + 3*q^(21/2))\n",
      "AAA[5][3][3]=-1/65536*(5400*q^22 + 12918*q^20 - 137093*q^18 - 272731*q^16 + 357403*q^14 + 299725*q^12 + 100929*q^10 + 467859*q^8 + 215865*q^6 - 91935*q^4 - 169128*q^2 - 43740)/(4*q^(37/2) + 35*q^(33/2) + 84*q^(29/2) + 45*q^(25/2))\n",
      "AAA[5][3][5]=-1/65536*(78144*q^16 + 364169*q^14 - 491094*q^12 - 1068351*q^10 + 1162018*q^8 + 332347*q^6 - 358650*q^4 - 114885*q^2 - 4050)/(36*q^(33/2) + 215*q^(29/2) + 181*q^(25/2) + 30*q^(21/2))\n",
      "AAA[5][5][1]=-1/65536*(180*q^22 - 360*q^20 - 1329*q^18 - 1389*q^16 - 10180*q^14 + 25076*q^12 + 40794*q^10 - 62542*q^8 + 3864*q^6 + 3132*q^4 + 2511*q^2 + 243)/(5*q^(29/2) + 18*q^(25/2) + 9*q^(21/2))\n",
      "AAA[5][5][3]=-1/65536*(10290*q^22 + 43395*q^20 - 173337*q^18 - 602962*q^16 + 701240*q^14 + 1757970*q^12 - 1345366*q^10 - 1223160*q^8 + 844206*q^6 + 21555*q^4 - 31401*q^2 - 2430)/(5*q^(37/2) + 45*q^(33/2) + 113*q^(29/2) + 59*q^(25/2) - 30*q^(21/2))\n",
      "AAA[5][5][5]=-1/65536*(5415*q^16 + 32830*q^14 - 2142*q^12 - 121450*q^10 + 28240*q^8 + 135290*q^6 - 88578*q^4 + 8370*q^2 + 2025)/(3*q^(33/2) + 20*q^(29/2) + 25*q^(25/2))\n",
      "BBB[5][1][1]=-1/196608*(291600*q^34 + 2907900*q^32 + 32753160*q^30 + 149869395*q^28 - 96175800*q^26 - 1388122677*q^24 - 1816814730*q^22 - 673012947*q^20 - 2204709010*q^18 - 4183229964*q^16 - 2019366082*q^14 - 127366501*q^12 - 1024292202*q^10 - 1272297663*q^8 - 404176500*q^6 + 54476469*q^4 + 49965660*q^2 + 6779700)/(2700*q^26 + 24945*q^24 + 73990*q^22 + 93072*q^20 + 46690*q^18 + 1267*q^16 - 5220*q^14 - 900*q^12)\n",
      "BBB[5][1][3]=1/196608*(576*q^16 + 8184*q^14 + 17094*q^12 + 22645*q^10 + 2281*q^8 + 23658*q^6 + 7776*q^4 + 22761*q^2 + 2673)/(4*q^12 + 3*q^10)\n",
      "BBB[5][1][5]=1/196608*(60*q^12 + 1728*q^10 + 781*q^8 + 16476*q^6 - 4158*q^4 - 4212*q^2 - 243)/(4*q^12 + 3*q^10)\n",
      "BBB[5][3][1]=-3/65536*(20*q^18 - 1386*q^16 + 1159*q^14 + 17385*q^12 - 1473*q^10 - 24611*q^8 + 13245*q^6 + 5427*q^4 + 12393*q^2 + 2673)/(q^12 + 3*q^10)\n",
      "BBB[5][3][3]=3/65536*(216*q^22 - 570*q^20 - 18933*q^18 - 71519*q^16 - 100329*q^14 - 35063*q^12 + 38725*q^10 - 123273*q^8 - 114291*q^6 - 157707*q^4 - 125388*q^2 - 43740)/(4*q^18 + 35*q^16 + 84*q^14 + 45*q^12)\n",
      "BBB[5][3][5]=-3/65536*(320*q^16 + 1737*q^14 - 4390*q^12 - 8591*q^10 + 157370*q^8 + 25203*q^6 + 112590*q^4 + 62451*q^2 + 2430)/(36*q^16 + 215*q^14 + 181*q^12 + 30*q^10)\n",
      "BBB[5][5][1]=5/196608*(108*q^22 + 648*q^20 - 3735*q^18 + 5853*q^16 + 84492*q^14 + 18828*q^12 - 256546*q^10 - 31890*q^8 + 169632*q^6 + 96228*q^4 + 37665*q^2 + 3645)/(5*q^14 + 18*q^12 + 9*q^10)\n",
      "BBB[5][5][3]=-5/196608*(342*q^22 + 1257*q^20 + 2085*q^18 - 31430*q^16 - 390368*q^14 - 350282*q^12 + 1479350*q^10 + 570136*q^8 - 1001838*q^6 - 419175*q^4 + 146205*q^2 + 12150)/(5*q^18 + 45*q^16 + 113*q^14 + 59*q^12 - 30*q^10)\n",
      "BBB[5][5][5]=5/196608*(45*q^16 - 150*q^14 - 570*q^12 + 2618*q^10 - 3896*q^8 - 498*q^6 + 25866*q^4 + 8910*q^2 + 6075)/(3*q^16 + 20*q^14 + 25*q^12)\n"
     ]
    }
   ],
   "source": [
    "for i in range(NN,NN+1):\n",
    "    if C[i]!=0:\n",
    "        print('CCC[' + str(i) + ']=' + str(C[i]))\n",
    "        #print(\" \")\n",
    "    if D[i]!=0:\n",
    "        print('DDD[' + str(i) + ']=' + str(D[i]))  \n",
    "        #print(\" \")\n",
    "    for j in range(0,i+1):\n",
    "        for m in range(0,i+1):\n",
    "            if A[i][j][m]!=0:\n",
    "                print('AAA[' + str(i) + '][' + str(j) + '][' + str(m) + ']=' + str(A[i][j][m]))\n",
    "                #print(\" \")\n",
    "    for j in range(0,i+1):\n",
    "        for m in range(0,i+1):\n",
    "            if B[i][j][m]!=0:\n",
    "                print('BBB[' + str(i) + '][' + str(j) + '][' + str(m) + ']=' + str(B[i][j][m]))\n",
    "                #print(\" \")"
   ]
  },
  {
   "cell_type": "code",
   "execution_count": null,
   "metadata": {
    "collapsed": true,
    "deletable": true,
    "editable": true
   },
   "outputs": [],
   "source": []
  }
 ],
 "metadata": {
  "kernelspec": {
   "display_name": "SageMath 8.1",
   "language": "",
   "name": "sagemath"
  },
  "language_info": {
   "codemirror_mode": {
    "name": "ipython",
    "version": 2
   },
   "file_extension": ".py",
   "mimetype": "text/x-python",
   "name": "python",
   "nbconvert_exporter": "python",
   "pygments_lexer": "ipython2",
   "version": "2.7.14"
  }
 },
 "nbformat": 4,
 "nbformat_minor": 2
}
